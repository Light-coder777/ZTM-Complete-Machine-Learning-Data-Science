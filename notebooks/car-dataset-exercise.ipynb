{
 "cells": [
  {
   "cell_type": "code",
   "execution_count": null,
   "metadata": {},
   "outputs": [],
   "source": [
    "# imports\n",
    "%matplotlib inline\n",
    "import matplotlib.pyplot as plt\n",
    "import pandas as pd\n",
    "import numpy as np"
   ]
  },
  {
   "cell_type": "code",
   "execution_count": null,
   "metadata": {},
   "outputs": [],
   "source": [
    "# load data\n",
    "col_names=[\"price\", \"maintenance\", \"doors\", \"persons\", \"size of boot\", \"safety\", \"class\"]\n",
    "cars = pd.read_csv(\"../data/car_dataset/car.data\",\n",
    "                   names=col_names,\n",
    "                   header=None,\n",
    "                   engine=\"python\")\n",
    "cars.head()"
   ]
  },
  {
   "cell_type": "code",
   "execution_count": null,
   "metadata": {},
   "outputs": [],
   "source": [
    "# check for missing data\n",
    "null_columns = cars.columns[cars.isnull().any()]\n",
    "cars[null_columns].isnull().sum()"
   ]
  },
  {
   "cell_type": "code",
   "execution_count": null,
   "metadata": {},
   "outputs": [],
   "source": [
    "# compare price and safety\n",
    "df = cars.groupby([\"price\", \"safety\"]).size()\n",
    "df = df.unstack()\n",
    "df.plot(kind=\"bar\");"
   ]
  },
  {
   "cell_type": "code",
   "execution_count": null,
   "metadata": {},
   "outputs": [],
   "source": [
    "cars[\"doors\"].unique()"
   ]
  },
  {
   "cell_type": "code",
   "execution_count": null,
   "metadata": {},
   "outputs": [],
   "source": [
    "# replace string values with numeric values\n",
    "cars[\"doors\"] = cars[\"doors\"].astype(\"str\")\n",
    "cars[\"doors\"].replace([\"2\", \"3\", \"4\", \"5more\"], [2, 3, 4, 5], inplace=True)\n",
    "cars[\"doors\"]"
   ]
  },
  {
   "cell_type": "code",
   "execution_count": null,
   "metadata": {},
   "outputs": [],
   "source": [
    "cars[\"persons\"].unique()"
   ]
  },
  {
   "cell_type": "code",
   "execution_count": null,
   "metadata": {},
   "outputs": [],
   "source": [
    "# replace string values with numeric values\n",
    "cars[\"persons\"] = cars[\"persons\"].astype(\"str\")\n",
    "cars[\"persons\"].replace([\"2\", \"4\", \"more\"], [2, 4, 5], inplace=True)\n",
    "cars[\"persons\"]"
   ]
  },
  {
   "cell_type": "code",
   "execution_count": null,
   "metadata": {},
   "outputs": [],
   "source": [
    "cars[\"price\"].unique()"
   ]
  },
  {
   "cell_type": "code",
   "execution_count": null,
   "metadata": {},
   "outputs": [],
   "source": [
    "# replace string values\n",
    "cars.price = cars.price.astype(\"str\")\n",
    "cars.price.replace([\"vhigh\", \"high\", \"med\", \"low\"], [4, 3, 2, 1], inplace=True)\n",
    "cars.price"
   ]
  },
  {
   "cell_type": "code",
   "execution_count": null,
   "metadata": {},
   "outputs": [],
   "source": [
    "cars.maintenance.unique()"
   ]
  },
  {
   "cell_type": "code",
   "execution_count": null,
   "metadata": {},
   "outputs": [],
   "source": [
    "# replace string values\n",
    "cars.maintenance = cars.maintenance.astype(\"str\")\n",
    "cars.maintenance.replace([\"vhigh\", \"high\", \"med\", \"low\"], [4, 3, 2, 1], inplace=True)\n",
    "cars.maintenance"
   ]
  },
  {
   "cell_type": "code",
   "execution_count": null,
   "metadata": {},
   "outputs": [],
   "source": [
    "cars"
   ]
  },
  {
   "cell_type": "code",
   "execution_count": null,
   "metadata": {},
   "outputs": [],
   "source": [
    "cars[\"size of boot\"].unique()"
   ]
  },
  {
   "cell_type": "code",
   "execution_count": null,
   "metadata": {},
   "outputs": [],
   "source": [
    "# replace string values\n",
    "cars[\"size of boot\"] = cars[\"size of boot\"].map({\"small\": 0, \"med\": 1, \"big\": 3})\n",
    "cars[\"size of boot\"]"
   ]
  },
  {
   "cell_type": "code",
   "execution_count": null,
   "metadata": {},
   "outputs": [],
   "source": [
    "cars.safety.unique()"
   ]
  },
  {
   "cell_type": "code",
   "execution_count": null,
   "metadata": {},
   "outputs": [],
   "source": [
    "# replace string values\n",
    "cars.safety = cars.safety.map({\"low\": 1, \"med\": 2, \"high\": 3})\n",
    "cars.safety"
   ]
  },
  {
   "cell_type": "code",
   "execution_count": null,
   "metadata": {},
   "outputs": [],
   "source": [
    "cars.head()"
   ]
  },
  {
   "cell_type": "markdown",
   "metadata": {},
   "source": [
    "## Plotting data"
   ]
  },
  {
   "cell_type": "code",
   "execution_count": null,
   "metadata": {},
   "outputs": [],
   "source": [
    "# style\n",
    "plt.style.use(\"seaborn-whitegrid\")"
   ]
  },
  {
   "cell_type": "code",
   "execution_count": null,
   "metadata": {},
   "outputs": [],
   "source": [
    "cars[\"price\"].plot.hist();"
   ]
  },
  {
   "cell_type": "code",
   "execution_count": null,
   "metadata": {},
   "outputs": [],
   "source": [
    "cars.maintenance.plot.hist();"
   ]
  },
  {
   "cell_type": "code",
   "execution_count": null,
   "metadata": {},
   "outputs": [],
   "source": [
    "cars.plot(x=\"price\", y=\"maintenance\");"
   ]
  },
  {
   "cell_type": "code",
   "execution_count": 145,
   "metadata": {},
   "outputs": [
    {
     "data": {
      "image/png": "[encoded data removed]",
      "text/plain": [
       "<Figure size 720x432 with 1 Axes>"
      ]
     },
     "metadata": {},
     "output_type": "display_data"
    }
   ],
   "source": [
    "fig, ax = plt.subplots(figsize=(10,6))\n",
    "\n",
    "scatter = ax.scatter(cars.price,\n",
    "                     cars.safety,\n",
    "                     cmap=\"winter\")\n",
    "ax.set(title=\"Cars Price and Safety Levels\",\n",
    "       xlabel=\"relative price\",\n",
    "       ylabel=\"safety\");"
   ]
  }
 ],
 "metadata": {
  "kernelspec": {
   "display_name": "Python 3",
   "language": "python",
   "name": "python3"
  },
  "language_info": {
   "codemirror_mode": {
    "name": "ipython",
    "version": 3
   },
   "file_extension": ".py",
   "mimetype": "text/x-python",
   "name": "python",
   "nbconvert_exporter": "python",
   "pygments_lexer": "ipython3",
   "version": "3.8.1"
  }
 },
 "nbformat": 4,
 "nbformat_minor": 4
}

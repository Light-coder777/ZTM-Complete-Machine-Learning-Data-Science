{
  "nbformat": 4,
  "nbformat_minor": 0,
  "metadata": {
    "kernelspec": {
      "name": "python3",
      "display_name": "Python 3"
    },
    "language_info": {
      "codemirror_mode": {
        "name": "ipython",
        "version": 3
      },
      "file_extension": ".py",
      "mimetype": "text/x-python",
      "name": "python",
      "nbconvert_exporter": "python",
      "pygments_lexer": "ipython3",
      "version": "3.8.2"
    },
    "colab": {
      "name": "kaggle-otto.ipynb",
      "provenance": [],
      "collapsed_sections": []
    },
    "accelerator": "GPU"
  },
  "cells": [
    {
      "cell_type": "markdown",
      "metadata": {
        "id": "1Lw0oN9webiG",
        "colab_type": "text"
      },
      "source": [
        "# Otto Group Product Classification Challenge 🛍\n",
        "\n",
        "## 1. Problem Definition\n",
        "\n",
        "> How well can we classify future products into one of the main product categories?\n",
        "\n",
        "## 2. Data\n",
        "\n",
        "The data is downloaded from [Otto Group Product Classification Challenge](https://www.kaggle.com/c/otto-group-product-classification-challenge/overview).\n",
        "\n",
        "Each row corresponds to a single product. There are a total of **93 numerical features**, which **represent counts** of different events. All features have been obfuscated and will not be defined any further.\n",
        "\n",
        "There are **nine categories** for all products. Each target category represents one of our most important product categories (like fashion, electronics, etc.). The products for the training and testing sets are selected randomly.\n",
        "\n",
        "### File descriptions\n",
        "* trainData.csv - the training set\n",
        "* testData.csv - the test set\n",
        "* sampleSubmission.csv - a sample submission file in the correct format\n",
        "\n",
        "### Data fields\n",
        "* id - an anonymous id unique to a product\n",
        "* feat_1, feat_2, ..., feat_93 - the various features of a product\n",
        "* target - the class of a product\n",
        "\n",
        "## 3. Evaluation\n",
        "\n",
        "The evaluation for the competition is **multi-class logarithm loss**. See [Kaggle: Evaluation](https://www.kaggle.com/c/otto-group-product-classification-challenge/overview/evaluation).\n",
        "\n",
        "_Note_: Scikit-learn provides a utility function: [log_Loss](https://scikit-learn.org/stable/modules/generated/sklearn.metrics.log_loss.html).\n",
        "\n",
        "## 4. Features\n",
        "\n",
        "There are 93 numerical features, see 2. Data."
      ]
    },
    {
      "cell_type": "code",
      "metadata": {
        "id": "baNRb9ArsQc-",
        "colab_type": "code",
        "outputId": "f965e07c-7c21-44d1-88f5-1edeb022ab08",
        "colab": {
          "base_uri": "https://localhost:8080/",
          "height": 34
        }
      },
      "source": [
        "# Set environment variables for Colab vs. local Docker\n",
        "%env COLAB=True"
      ],
      "execution_count": 0,
      "outputs": [
        {
          "output_type": "stream",
          "text": [
            "env: COLAB=True\n"
          ],
          "name": "stdout"
        }
      ]
    },
    {
      "cell_type": "markdown",
      "metadata": {
        "id": "BFXLzPVPebiL",
        "colab_type": "text"
      },
      "source": [
        "## Imports and Data Exploration"
      ]
    },
    {
      "cell_type": "code",
      "metadata": {
        "id": "u6VbfAHJebiN",
        "colab_type": "code",
        "colab": {}
      },
      "source": [
        "# Regular EDA (exploratory data analysis) and plotting libraries\n",
        "import pandas as pd\n",
        "import numpy as np\n",
        "import matplotlib.pyplot as plt\n",
        "import seaborn as sns; sns.set()\n",
        "\n",
        "%matplotlib inline\n",
        "\n",
        "# Models from Scikit-Learn\n",
        "from sklearn.naive_bayes import GaussianNB\n",
        "from sklearn.linear_model import LogisticRegression\n",
        "from sklearn.svm import SVC\n",
        "from sklearn.ensemble import RandomForestClassifier\n",
        "\n",
        "# Model Evaluations\n",
        "from sklearn.preprocessing import StandardScaler\n",
        "from sklearn.decomposition import TruncatedSVD, PCA\n",
        "from sklearn.feature_selection import SelectKBest\n",
        "from sklearn.discriminant_analysis import LinearDiscriminantAnalysis\n",
        "from sklearn.pipeline import FeatureUnion, Pipeline\n",
        "from sklearn.model_selection import cross_val_predict, cross_validate, train_test_split, StratifiedKFold, RandomizedSearchCV\n",
        "from sklearn.metrics import make_scorer, confusion_matrix, precision_score, f1_score, log_loss, recall_score"
      ],
      "execution_count": 0,
      "outputs": []
    },
    {
      "cell_type": "markdown",
      "metadata": {
        "id": "ifTsq0FAebiU",
        "colab_type": "text"
      },
      "source": [
        "### Load Data & EDA"
      ]
    },
    {
      "cell_type": "code",
      "metadata": {
        "id": "jWCJw4OjpvGu",
        "colab_type": "code",
        "outputId": "c816c6af-1a04-4c09-c94c-09b85fd34ac4",
        "colab": {
          "base_uri": "https://localhost:8080/",
          "height": 122
        }
      },
      "source": [
        "import os\n",
        "\n",
        "if os.getenv('COLAB'):\n",
        "  from google.colab import drive\n",
        "  drive.mount('/content/drive')\n",
        "else:\n",
        "  print('Running on local machine, Gdrive not required.')"
      ],
      "execution_count": 0,
      "outputs": [
        {
          "output_type": "stream",
          "text": [
            "Go to this URL in a browser: https://accounts.google.com/o/oauth2/auth?client_id=947318989803-6bn6qk8qdgf4n4g3pfee6491hc0brc4i.apps.googleusercontent.com&redirect_uri=urn%3aietf%3awg%3aoauth%3a2.0%3aoob&response_type=code&scope=email%20https%3a%2f%2fwww.googleapis.com%2fauth%2fdocs.test%20https%3a%2f%2fwww.googleapis.com%2fauth%2fdrive%20https%3a%2f%2fwww.googleapis.com%2fauth%2fdrive.photos.readonly%20https%3a%2f%2fwww.googleapis.com%2fauth%2fpeopleapi.readonly\n",
            "\n",
            "Enter your authorization code:\n",
            "··········\n",
            "Mounted at /content/drive\n"
          ],
          "name": "stdout"
        }
      ]
    },
    {
      "cell_type": "code",
      "metadata": {
        "id": "sqn8DsFgebiW",
        "colab_type": "code",
        "outputId": "638683d9-3cd1-4de2-d9bd-185d7769312a",
        "colab": {
          "base_uri": "https://localhost:8080/",
          "height": 1000
        }
      },
      "source": [
        "# Load training data as df\n",
        "# Load the submission dataset as df_submission (in the competition it's called the test set)\n",
        "\n",
        "if os.getenv('COLAB'):\n",
        "  df = pd.read_csv('/content/drive/My Drive/Colab Notebooks/data/otto/train.csv')\n",
        "  df_submission = pd.read_csv('/content/drive/My Drive/Colab Notebooks/data/otto/test.csv')\n",
        "else:\n",
        "  df = pd.read_csv('../../data/otto/train.csv')\n",
        "  df_submission = pd.read_csv('../../data/otto/test.csv')\n",
        "\n",
        "df.info()"
      ],
      "execution_count": 0,
      "outputs": [
        {
          "output_type": "stream",
          "text": [
            "<class 'pandas.core.frame.DataFrame'>\n",
            "RangeIndex: 61878 entries, 0 to 61877\n",
            "Data columns (total 95 columns):\n",
            "id         61878 non-null int64\n",
            "feat_1     61878 non-null int64\n",
            "feat_2     61878 non-null int64\n",
            "feat_3     61878 non-null int64\n",
            "feat_4     61878 non-null int64\n",
            "feat_5     61878 non-null int64\n",
            "feat_6     61878 non-null int64\n",
            "feat_7     61878 non-null int64\n",
            "feat_8     61878 non-null int64\n",
            "feat_9     61878 non-null int64\n",
            "feat_10    61878 non-null int64\n",
            "feat_11    61878 non-null int64\n",
            "feat_12    61878 non-null int64\n",
            "feat_13    61878 non-null int64\n",
            "feat_14    61878 non-null int64\n",
            "feat_15    61878 non-null int64\n",
            "feat_16    61878 non-null int64\n",
            "feat_17    61878 non-null int64\n",
            "feat_18    61878 non-null int64\n",
            "feat_19    61878 non-null int64\n",
            "feat_20    61878 non-null int64\n",
            "feat_21    61878 non-null int64\n",
            "feat_22    61878 non-null int64\n",
            "feat_23    61878 non-null int64\n",
            "feat_24    61878 non-null int64\n",
            "feat_25    61878 non-null int64\n",
            "feat_26    61878 non-null int64\n",
            "feat_27    61878 non-null int64\n",
            "feat_28    61878 non-null int64\n",
            "feat_29    61878 non-null int64\n",
            "feat_30    61878 non-null int64\n",
            "feat_31    61878 non-null int64\n",
            "feat_32    61878 non-null int64\n",
            "feat_33    61878 non-null int64\n",
            "feat_34    61878 non-null int64\n",
            "feat_35    61878 non-null int64\n",
            "feat_36    61878 non-null int64\n",
            "feat_37    61878 non-null int64\n",
            "feat_38    61878 non-null int64\n",
            "feat_39    61878 non-null int64\n",
            "feat_40    61878 non-null int64\n",
            "feat_41    61878 non-null int64\n",
            "feat_42    61878 non-null int64\n",
            "feat_43    61878 non-null int64\n",
            "feat_44    61878 non-null int64\n",
            "feat_45    61878 non-null int64\n",
            "feat_46    61878 non-null int64\n",
            "feat_47    61878 non-null int64\n",
            "feat_48    61878 non-null int64\n",
            "feat_49    61878 non-null int64\n",
            "feat_50    61878 non-null int64\n",
            "feat_51    61878 non-null int64\n",
            "feat_52    61878 non-null int64\n",
            "feat_53    61878 non-null int64\n",
            "feat_54    61878 non-null int64\n",
            "feat_55    61878 non-null int64\n",
            "feat_56    61878 non-null int64\n",
            "feat_57    61878 non-null int64\n",
            "feat_58    61878 non-null int64\n",
            "feat_59    61878 non-null int64\n",
            "feat_60    61878 non-null int64\n",
            "feat_61    61878 non-null int64\n",
            "feat_62    61878 non-null int64\n",
            "feat_63    61878 non-null int64\n",
            "feat_64    61878 non-null int64\n",
            "feat_65    61878 non-null int64\n",
            "feat_66    61878 non-null int64\n",
            "feat_67    61878 non-null int64\n",
            "feat_68    61878 non-null int64\n",
            "feat_69    61878 non-null int64\n",
            "feat_70    61878 non-null int64\n",
            "feat_71    61878 non-null int64\n",
            "feat_72    61878 non-null int64\n",
            "feat_73    61878 non-null int64\n",
            "feat_74    61878 non-null int64\n",
            "feat_75    61878 non-null int64\n",
            "feat_76    61878 non-null int64\n",
            "feat_77    61878 non-null int64\n",
            "feat_78    61878 non-null int64\n",
            "feat_79    61878 non-null int64\n",
            "feat_80    61878 non-null int64\n",
            "feat_81    61878 non-null int64\n",
            "feat_82    61878 non-null int64\n",
            "feat_83    61878 non-null int64\n",
            "feat_84    61878 non-null int64\n",
            "feat_85    61878 non-null int64\n",
            "feat_86    61878 non-null int64\n",
            "feat_87    61878 non-null int64\n",
            "feat_88    61878 non-null int64\n",
            "feat_89    61878 non-null int64\n",
            "feat_90    61878 non-null int64\n",
            "feat_91    61878 non-null int64\n",
            "feat_92    61878 non-null int64\n",
            "feat_93    61878 non-null int64\n",
            "target     61878 non-null object\n",
            "dtypes: int64(94), object(1)\n",
            "memory usage: 44.8+ MB\n"
          ],
          "name": "stdout"
        }
      ]
    },
    {
      "cell_type": "code",
      "metadata": {
        "id": "Rsq-z1E1ebie",
        "colab_type": "code",
        "outputId": "f8873383-2fb3-465e-d045-c3e8367515be",
        "colab": {
          "base_uri": "https://localhost:8080/",
          "height": 1000
        }
      },
      "source": [
        "df_submission.info()"
      ],
      "execution_count": 0,
      "outputs": [
        {
          "output_type": "stream",
          "text": [
            "<class 'pandas.core.frame.DataFrame'>\n",
            "RangeIndex: 144368 entries, 0 to 144367\n",
            "Data columns (total 94 columns):\n",
            "id         144368 non-null int64\n",
            "feat_1     144368 non-null int64\n",
            "feat_2     144368 non-null int64\n",
            "feat_3     144368 non-null int64\n",
            "feat_4     144368 non-null int64\n",
            "feat_5     144368 non-null int64\n",
            "feat_6     144368 non-null int64\n",
            "feat_7     144368 non-null int64\n",
            "feat_8     144368 non-null int64\n",
            "feat_9     144368 non-null int64\n",
            "feat_10    144368 non-null int64\n",
            "feat_11    144368 non-null int64\n",
            "feat_12    144368 non-null int64\n",
            "feat_13    144368 non-null int64\n",
            "feat_14    144368 non-null int64\n",
            "feat_15    144368 non-null int64\n",
            "feat_16    144368 non-null int64\n",
            "feat_17    144368 non-null int64\n",
            "feat_18    144368 non-null int64\n",
            "feat_19    144368 non-null int64\n",
            "feat_20    144368 non-null int64\n",
            "feat_21    144368 non-null int64\n",
            "feat_22    144368 non-null int64\n",
            "feat_23    144368 non-null int64\n",
            "feat_24    144368 non-null int64\n",
            "feat_25    144368 non-null int64\n",
            "feat_26    144368 non-null int64\n",
            "feat_27    144368 non-null int64\n",
            "feat_28    144368 non-null int64\n",
            "feat_29    144368 non-null int64\n",
            "feat_30    144368 non-null int64\n",
            "feat_31    144368 non-null int64\n",
            "feat_32    144368 non-null int64\n",
            "feat_33    144368 non-null int64\n",
            "feat_34    144368 non-null int64\n",
            "feat_35    144368 non-null int64\n",
            "feat_36    144368 non-null int64\n",
            "feat_37    144368 non-null int64\n",
            "feat_38    144368 non-null int64\n",
            "feat_39    144368 non-null int64\n",
            "feat_40    144368 non-null int64\n",
            "feat_41    144368 non-null int64\n",
            "feat_42    144368 non-null int64\n",
            "feat_43    144368 non-null int64\n",
            "feat_44    144368 non-null int64\n",
            "feat_45    144368 non-null int64\n",
            "feat_46    144368 non-null int64\n",
            "feat_47    144368 non-null int64\n",
            "feat_48    144368 non-null int64\n",
            "feat_49    144368 non-null int64\n",
            "feat_50    144368 non-null int64\n",
            "feat_51    144368 non-null int64\n",
            "feat_52    144368 non-null int64\n",
            "feat_53    144368 non-null int64\n",
            "feat_54    144368 non-null int64\n",
            "feat_55    144368 non-null int64\n",
            "feat_56    144368 non-null int64\n",
            "feat_57    144368 non-null int64\n",
            "feat_58    144368 non-null int64\n",
            "feat_59    144368 non-null int64\n",
            "feat_60    144368 non-null int64\n",
            "feat_61    144368 non-null int64\n",
            "feat_62    144368 non-null int64\n",
            "feat_63    144368 non-null int64\n",
            "feat_64    144368 non-null int64\n",
            "feat_65    144368 non-null int64\n",
            "feat_66    144368 non-null int64\n",
            "feat_67    144368 non-null int64\n",
            "feat_68    144368 non-null int64\n",
            "feat_69    144368 non-null int64\n",
            "feat_70    144368 non-null int64\n",
            "feat_71    144368 non-null int64\n",
            "feat_72    144368 non-null int64\n",
            "feat_73    144368 non-null int64\n",
            "feat_74    144368 non-null int64\n",
            "feat_75    144368 non-null int64\n",
            "feat_76    144368 non-null int64\n",
            "feat_77    144368 non-null int64\n",
            "feat_78    144368 non-null int64\n",
            "feat_79    144368 non-null int64\n",
            "feat_80    144368 non-null int64\n",
            "feat_81    144368 non-null int64\n",
            "feat_82    144368 non-null int64\n",
            "feat_83    144368 non-null int64\n",
            "feat_84    144368 non-null int64\n",
            "feat_85    144368 non-null int64\n",
            "feat_86    144368 non-null int64\n",
            "feat_87    144368 non-null int64\n",
            "feat_88    144368 non-null int64\n",
            "feat_89    144368 non-null int64\n",
            "feat_90    144368 non-null int64\n",
            "feat_91    144368 non-null int64\n",
            "feat_92    144368 non-null int64\n",
            "feat_93    144368 non-null int64\n",
            "dtypes: int64(94)\n",
            "memory usage: 103.5 MB\n"
          ],
          "name": "stdout"
        }
      ]
    },
    {
      "cell_type": "code",
      "metadata": {
        "id": "wYn2r0_Aebij",
        "colab_type": "code",
        "outputId": "83a059a6-5927-4c59-a991-d411f47ee7a9",
        "colab": {
          "base_uri": "https://localhost:8080/",
          "height": 253
        }
      },
      "source": [
        "df.head()"
      ],
      "execution_count": 0,
      "outputs": [
        {
          "output_type": "execute_result",
          "data": {
            "text/html": [
              "<div>\n",
              "<style scoped>\n",
              "    .dataframe tbody tr th:only-of-type {\n",
              "        vertical-align: middle;\n",
              "    }\n",
              "\n",
              "    .dataframe tbody tr th {\n",
              "        vertical-align: top;\n",
              "    }\n",
              "\n",
              "    .dataframe thead th {\n",
              "        text-align: right;\n",
              "    }\n",
              "</style>\n",
              "<table border=\"1\" class=\"dataframe\">\n",
              "  <thead>\n",
              "    <tr style=\"text-align: right;\">\n",
              "      <th></th>\n",
              "      <th>id</th>\n",
              "      <th>feat_1</th>\n",
              "      <th>feat_2</th>\n",
              "      <th>feat_3</th>\n",
              "      <th>feat_4</th>\n",
              "      <th>feat_5</th>\n",
              "      <th>feat_6</th>\n",
              "      <th>feat_7</th>\n",
              "      <th>feat_8</th>\n",
              "      <th>feat_9</th>\n",
              "      <th>feat_10</th>\n",
              "      <th>feat_11</th>\n",
              "      <th>feat_12</th>\n",
              "      <th>feat_13</th>\n",
              "      <th>feat_14</th>\n",
              "      <th>feat_15</th>\n",
              "      <th>feat_16</th>\n",
              "      <th>feat_17</th>\n",
              "      <th>feat_18</th>\n",
              "      <th>feat_19</th>\n",
              "      <th>feat_20</th>\n",
              "      <th>feat_21</th>\n",
              "      <th>feat_22</th>\n",
              "      <th>feat_23</th>\n",
              "      <th>feat_24</th>\n",
              "      <th>feat_25</th>\n",
              "      <th>feat_26</th>\n",
              "      <th>feat_27</th>\n",
              "      <th>feat_28</th>\n",
              "      <th>feat_29</th>\n",
              "      <th>feat_30</th>\n",
              "      <th>feat_31</th>\n",
              "      <th>feat_32</th>\n",
              "      <th>feat_33</th>\n",
              "      <th>feat_34</th>\n",
              "      <th>feat_35</th>\n",
              "      <th>feat_36</th>\n",
              "      <th>feat_37</th>\n",
              "      <th>feat_38</th>\n",
              "      <th>feat_39</th>\n",
              "      <th>...</th>\n",
              "      <th>feat_55</th>\n",
              "      <th>feat_56</th>\n",
              "      <th>feat_57</th>\n",
              "      <th>feat_58</th>\n",
              "      <th>feat_59</th>\n",
              "      <th>feat_60</th>\n",
              "      <th>feat_61</th>\n",
              "      <th>feat_62</th>\n",
              "      <th>feat_63</th>\n",
              "      <th>feat_64</th>\n",
              "      <th>feat_65</th>\n",
              "      <th>feat_66</th>\n",
              "      <th>feat_67</th>\n",
              "      <th>feat_68</th>\n",
              "      <th>feat_69</th>\n",
              "      <th>feat_70</th>\n",
              "      <th>feat_71</th>\n",
              "      <th>feat_72</th>\n",
              "      <th>feat_73</th>\n",
              "      <th>feat_74</th>\n",
              "      <th>feat_75</th>\n",
              "      <th>feat_76</th>\n",
              "      <th>feat_77</th>\n",
              "      <th>feat_78</th>\n",
              "      <th>feat_79</th>\n",
              "      <th>feat_80</th>\n",
              "      <th>feat_81</th>\n",
              "      <th>feat_82</th>\n",
              "      <th>feat_83</th>\n",
              "      <th>feat_84</th>\n",
              "      <th>feat_85</th>\n",
              "      <th>feat_86</th>\n",
              "      <th>feat_87</th>\n",
              "      <th>feat_88</th>\n",
              "      <th>feat_89</th>\n",
              "      <th>feat_90</th>\n",
              "      <th>feat_91</th>\n",
              "      <th>feat_92</th>\n",
              "      <th>feat_93</th>\n",
              "      <th>target</th>\n",
              "    </tr>\n",
              "  </thead>\n",
              "  <tbody>\n",
              "    <tr>\n",
              "      <th>0</th>\n",
              "      <td>1</td>\n",
              "      <td>1</td>\n",
              "      <td>0</td>\n",
              "      <td>0</td>\n",
              "      <td>0</td>\n",
              "      <td>0</td>\n",
              "      <td>0</td>\n",
              "      <td>0</td>\n",
              "      <td>0</td>\n",
              "      <td>0</td>\n",
              "      <td>0</td>\n",
              "      <td>1</td>\n",
              "      <td>0</td>\n",
              "      <td>0</td>\n",
              "      <td>0</td>\n",
              "      <td>0</td>\n",
              "      <td>0</td>\n",
              "      <td>2</td>\n",
              "      <td>0</td>\n",
              "      <td>0</td>\n",
              "      <td>0</td>\n",
              "      <td>0</td>\n",
              "      <td>1</td>\n",
              "      <td>0</td>\n",
              "      <td>4</td>\n",
              "      <td>1</td>\n",
              "      <td>1</td>\n",
              "      <td>0</td>\n",
              "      <td>0</td>\n",
              "      <td>2</td>\n",
              "      <td>0</td>\n",
              "      <td>0</td>\n",
              "      <td>0</td>\n",
              "      <td>0</td>\n",
              "      <td>0</td>\n",
              "      <td>1</td>\n",
              "      <td>0</td>\n",
              "      <td>0</td>\n",
              "      <td>0</td>\n",
              "      <td>0</td>\n",
              "      <td>...</td>\n",
              "      <td>0</td>\n",
              "      <td>0</td>\n",
              "      <td>2</td>\n",
              "      <td>0</td>\n",
              "      <td>0</td>\n",
              "      <td>11</td>\n",
              "      <td>0</td>\n",
              "      <td>1</td>\n",
              "      <td>1</td>\n",
              "      <td>0</td>\n",
              "      <td>1</td>\n",
              "      <td>0</td>\n",
              "      <td>7</td>\n",
              "      <td>0</td>\n",
              "      <td>0</td>\n",
              "      <td>0</td>\n",
              "      <td>1</td>\n",
              "      <td>0</td>\n",
              "      <td>0</td>\n",
              "      <td>0</td>\n",
              "      <td>0</td>\n",
              "      <td>0</td>\n",
              "      <td>0</td>\n",
              "      <td>0</td>\n",
              "      <td>2</td>\n",
              "      <td>1</td>\n",
              "      <td>0</td>\n",
              "      <td>0</td>\n",
              "      <td>0</td>\n",
              "      <td>0</td>\n",
              "      <td>1</td>\n",
              "      <td>0</td>\n",
              "      <td>0</td>\n",
              "      <td>0</td>\n",
              "      <td>0</td>\n",
              "      <td>0</td>\n",
              "      <td>0</td>\n",
              "      <td>0</td>\n",
              "      <td>0</td>\n",
              "      <td>Class_1</td>\n",
              "    </tr>\n",
              "    <tr>\n",
              "      <th>1</th>\n",
              "      <td>2</td>\n",
              "      <td>0</td>\n",
              "      <td>0</td>\n",
              "      <td>0</td>\n",
              "      <td>0</td>\n",
              "      <td>0</td>\n",
              "      <td>0</td>\n",
              "      <td>0</td>\n",
              "      <td>1</td>\n",
              "      <td>0</td>\n",
              "      <td>0</td>\n",
              "      <td>0</td>\n",
              "      <td>0</td>\n",
              "      <td>0</td>\n",
              "      <td>0</td>\n",
              "      <td>0</td>\n",
              "      <td>0</td>\n",
              "      <td>0</td>\n",
              "      <td>2</td>\n",
              "      <td>0</td>\n",
              "      <td>0</td>\n",
              "      <td>0</td>\n",
              "      <td>0</td>\n",
              "      <td>0</td>\n",
              "      <td>0</td>\n",
              "      <td>0</td>\n",
              "      <td>0</td>\n",
              "      <td>0</td>\n",
              "      <td>0</td>\n",
              "      <td>0</td>\n",
              "      <td>0</td>\n",
              "      <td>0</td>\n",
              "      <td>0</td>\n",
              "      <td>0</td>\n",
              "      <td>0</td>\n",
              "      <td>0</td>\n",
              "      <td>0</td>\n",
              "      <td>1</td>\n",
              "      <td>0</td>\n",
              "      <td>0</td>\n",
              "      <td>...</td>\n",
              "      <td>0</td>\n",
              "      <td>0</td>\n",
              "      <td>0</td>\n",
              "      <td>1</td>\n",
              "      <td>0</td>\n",
              "      <td>0</td>\n",
              "      <td>0</td>\n",
              "      <td>0</td>\n",
              "      <td>0</td>\n",
              "      <td>1</td>\n",
              "      <td>0</td>\n",
              "      <td>0</td>\n",
              "      <td>1</td>\n",
              "      <td>0</td>\n",
              "      <td>0</td>\n",
              "      <td>0</td>\n",
              "      <td>0</td>\n",
              "      <td>0</td>\n",
              "      <td>2</td>\n",
              "      <td>1</td>\n",
              "      <td>0</td>\n",
              "      <td>1</td>\n",
              "      <td>0</td>\n",
              "      <td>1</td>\n",
              "      <td>0</td>\n",
              "      <td>0</td>\n",
              "      <td>0</td>\n",
              "      <td>0</td>\n",
              "      <td>0</td>\n",
              "      <td>0</td>\n",
              "      <td>0</td>\n",
              "      <td>0</td>\n",
              "      <td>0</td>\n",
              "      <td>0</td>\n",
              "      <td>0</td>\n",
              "      <td>0</td>\n",
              "      <td>0</td>\n",
              "      <td>0</td>\n",
              "      <td>0</td>\n",
              "      <td>Class_1</td>\n",
              "    </tr>\n",
              "    <tr>\n",
              "      <th>2</th>\n",
              "      <td>3</td>\n",
              "      <td>0</td>\n",
              "      <td>0</td>\n",
              "      <td>0</td>\n",
              "      <td>0</td>\n",
              "      <td>0</td>\n",
              "      <td>0</td>\n",
              "      <td>0</td>\n",
              "      <td>1</td>\n",
              "      <td>0</td>\n",
              "      <td>0</td>\n",
              "      <td>0</td>\n",
              "      <td>0</td>\n",
              "      <td>0</td>\n",
              "      <td>0</td>\n",
              "      <td>0</td>\n",
              "      <td>0</td>\n",
              "      <td>1</td>\n",
              "      <td>0</td>\n",
              "      <td>0</td>\n",
              "      <td>0</td>\n",
              "      <td>0</td>\n",
              "      <td>0</td>\n",
              "      <td>0</td>\n",
              "      <td>0</td>\n",
              "      <td>0</td>\n",
              "      <td>0</td>\n",
              "      <td>0</td>\n",
              "      <td>0</td>\n",
              "      <td>0</td>\n",
              "      <td>0</td>\n",
              "      <td>0</td>\n",
              "      <td>0</td>\n",
              "      <td>1</td>\n",
              "      <td>0</td>\n",
              "      <td>0</td>\n",
              "      <td>0</td>\n",
              "      <td>0</td>\n",
              "      <td>0</td>\n",
              "      <td>0</td>\n",
              "      <td>...</td>\n",
              "      <td>1</td>\n",
              "      <td>0</td>\n",
              "      <td>0</td>\n",
              "      <td>0</td>\n",
              "      <td>0</td>\n",
              "      <td>0</td>\n",
              "      <td>0</td>\n",
              "      <td>0</td>\n",
              "      <td>0</td>\n",
              "      <td>0</td>\n",
              "      <td>0</td>\n",
              "      <td>0</td>\n",
              "      <td>6</td>\n",
              "      <td>0</td>\n",
              "      <td>0</td>\n",
              "      <td>2</td>\n",
              "      <td>0</td>\n",
              "      <td>0</td>\n",
              "      <td>0</td>\n",
              "      <td>0</td>\n",
              "      <td>0</td>\n",
              "      <td>0</td>\n",
              "      <td>0</td>\n",
              "      <td>0</td>\n",
              "      <td>0</td>\n",
              "      <td>0</td>\n",
              "      <td>1</td>\n",
              "      <td>0</td>\n",
              "      <td>0</td>\n",
              "      <td>0</td>\n",
              "      <td>0</td>\n",
              "      <td>0</td>\n",
              "      <td>0</td>\n",
              "      <td>0</td>\n",
              "      <td>0</td>\n",
              "      <td>0</td>\n",
              "      <td>0</td>\n",
              "      <td>0</td>\n",
              "      <td>0</td>\n",
              "      <td>Class_1</td>\n",
              "    </tr>\n",
              "    <tr>\n",
              "      <th>3</th>\n",
              "      <td>4</td>\n",
              "      <td>1</td>\n",
              "      <td>0</td>\n",
              "      <td>0</td>\n",
              "      <td>1</td>\n",
              "      <td>6</td>\n",
              "      <td>1</td>\n",
              "      <td>5</td>\n",
              "      <td>0</td>\n",
              "      <td>0</td>\n",
              "      <td>1</td>\n",
              "      <td>1</td>\n",
              "      <td>0</td>\n",
              "      <td>1</td>\n",
              "      <td>0</td>\n",
              "      <td>0</td>\n",
              "      <td>1</td>\n",
              "      <td>1</td>\n",
              "      <td>0</td>\n",
              "      <td>0</td>\n",
              "      <td>0</td>\n",
              "      <td>0</td>\n",
              "      <td>0</td>\n",
              "      <td>0</td>\n",
              "      <td>7</td>\n",
              "      <td>2</td>\n",
              "      <td>2</td>\n",
              "      <td>0</td>\n",
              "      <td>0</td>\n",
              "      <td>0</td>\n",
              "      <td>58</td>\n",
              "      <td>0</td>\n",
              "      <td>10</td>\n",
              "      <td>0</td>\n",
              "      <td>0</td>\n",
              "      <td>0</td>\n",
              "      <td>0</td>\n",
              "      <td>0</td>\n",
              "      <td>3</td>\n",
              "      <td>0</td>\n",
              "      <td>...</td>\n",
              "      <td>1</td>\n",
              "      <td>0</td>\n",
              "      <td>0</td>\n",
              "      <td>0</td>\n",
              "      <td>0</td>\n",
              "      <td>0</td>\n",
              "      <td>0</td>\n",
              "      <td>0</td>\n",
              "      <td>0</td>\n",
              "      <td>0</td>\n",
              "      <td>2</td>\n",
              "      <td>1</td>\n",
              "      <td>5</td>\n",
              "      <td>0</td>\n",
              "      <td>0</td>\n",
              "      <td>4</td>\n",
              "      <td>0</td>\n",
              "      <td>0</td>\n",
              "      <td>2</td>\n",
              "      <td>1</td>\n",
              "      <td>0</td>\n",
              "      <td>1</td>\n",
              "      <td>0</td>\n",
              "      <td>0</td>\n",
              "      <td>1</td>\n",
              "      <td>1</td>\n",
              "      <td>2</td>\n",
              "      <td>2</td>\n",
              "      <td>0</td>\n",
              "      <td>22</td>\n",
              "      <td>0</td>\n",
              "      <td>1</td>\n",
              "      <td>2</td>\n",
              "      <td>0</td>\n",
              "      <td>0</td>\n",
              "      <td>0</td>\n",
              "      <td>0</td>\n",
              "      <td>0</td>\n",
              "      <td>0</td>\n",
              "      <td>Class_1</td>\n",
              "    </tr>\n",
              "    <tr>\n",
              "      <th>4</th>\n",
              "      <td>5</td>\n",
              "      <td>0</td>\n",
              "      <td>0</td>\n",
              "      <td>0</td>\n",
              "      <td>0</td>\n",
              "      <td>0</td>\n",
              "      <td>0</td>\n",
              "      <td>0</td>\n",
              "      <td>0</td>\n",
              "      <td>0</td>\n",
              "      <td>0</td>\n",
              "      <td>0</td>\n",
              "      <td>0</td>\n",
              "      <td>0</td>\n",
              "      <td>0</td>\n",
              "      <td>0</td>\n",
              "      <td>0</td>\n",
              "      <td>4</td>\n",
              "      <td>0</td>\n",
              "      <td>0</td>\n",
              "      <td>0</td>\n",
              "      <td>0</td>\n",
              "      <td>0</td>\n",
              "      <td>0</td>\n",
              "      <td>1</td>\n",
              "      <td>0</td>\n",
              "      <td>0</td>\n",
              "      <td>0</td>\n",
              "      <td>0</td>\n",
              "      <td>0</td>\n",
              "      <td>0</td>\n",
              "      <td>0</td>\n",
              "      <td>0</td>\n",
              "      <td>0</td>\n",
              "      <td>0</td>\n",
              "      <td>0</td>\n",
              "      <td>0</td>\n",
              "      <td>0</td>\n",
              "      <td>0</td>\n",
              "      <td>0</td>\n",
              "      <td>...</td>\n",
              "      <td>0</td>\n",
              "      <td>0</td>\n",
              "      <td>0</td>\n",
              "      <td>0</td>\n",
              "      <td>0</td>\n",
              "      <td>0</td>\n",
              "      <td>0</td>\n",
              "      <td>1</td>\n",
              "      <td>0</td>\n",
              "      <td>0</td>\n",
              "      <td>0</td>\n",
              "      <td>0</td>\n",
              "      <td>0</td>\n",
              "      <td>1</td>\n",
              "      <td>0</td>\n",
              "      <td>0</td>\n",
              "      <td>3</td>\n",
              "      <td>0</td>\n",
              "      <td>0</td>\n",
              "      <td>0</td>\n",
              "      <td>0</td>\n",
              "      <td>0</td>\n",
              "      <td>0</td>\n",
              "      <td>0</td>\n",
              "      <td>4</td>\n",
              "      <td>0</td>\n",
              "      <td>1</td>\n",
              "      <td>0</td>\n",
              "      <td>0</td>\n",
              "      <td>0</td>\n",
              "      <td>1</td>\n",
              "      <td>0</td>\n",
              "      <td>0</td>\n",
              "      <td>0</td>\n",
              "      <td>0</td>\n",
              "      <td>1</td>\n",
              "      <td>0</td>\n",
              "      <td>0</td>\n",
              "      <td>0</td>\n",
              "      <td>Class_1</td>\n",
              "    </tr>\n",
              "  </tbody>\n",
              "</table>\n",
              "<p>5 rows × 95 columns</p>\n",
              "</div>"
            ],
            "text/plain": [
              "   id  feat_1  feat_2  feat_3  ...  feat_91  feat_92  feat_93   target\n",
              "0   1       1       0       0  ...        0        0        0  Class_1\n",
              "1   2       0       0       0  ...        0        0        0  Class_1\n",
              "2   3       0       0       0  ...        0        0        0  Class_1\n",
              "3   4       1       0       0  ...        0        0        0  Class_1\n",
              "4   5       0       0       0  ...        0        0        0  Class_1\n",
              "\n",
              "[5 rows x 95 columns]"
            ]
          },
          "metadata": {
            "tags": []
          },
          "execution_count": 6
        }
      ]
    },
    {
      "cell_type": "markdown",
      "metadata": {
        "id": "xusRptu-ebio",
        "colab_type": "text"
      },
      "source": [
        "**Note**: Target value is type object (string)\n",
        "\n",
        "### Convert Target Column into Category"
      ]
    },
    {
      "cell_type": "code",
      "metadata": {
        "id": "XKtQKsevebir",
        "colab_type": "code",
        "colab": {}
      },
      "source": [
        "def convert_into_category(df):\n",
        "    \"\"\"\n",
        "    Converts all non-numerical columns of a Pandas\n",
        "    DataFrame into a categorical type.\n",
        "    \"\"\"\n",
        "    for label, content in df.items():\n",
        "        if not pd.api.types.is_numeric_dtype(content):\n",
        "            df[label] = pd.Categorical(content).codes+1\n",
        "    return df"
      ],
      "execution_count": 0,
      "outputs": []
    },
    {
      "cell_type": "code",
      "metadata": {
        "id": "zW92sHUdebix",
        "colab_type": "code",
        "outputId": "36c468f8-4ae1-4de9-c665-5d95af994f9e",
        "colab": {
          "base_uri": "https://localhost:8080/",
          "height": 439
        }
      },
      "source": [
        "convert_into_category(df)"
      ],
      "execution_count": 0,
      "outputs": [
        {
          "output_type": "execute_result",
          "data": {
            "text/html": [
              "<div>\n",
              "<style scoped>\n",
              "    .dataframe tbody tr th:only-of-type {\n",
              "        vertical-align: middle;\n",
              "    }\n",
              "\n",
              "    .dataframe tbody tr th {\n",
              "        vertical-align: top;\n",
              "    }\n",
              "\n",
              "    .dataframe thead th {\n",
              "        text-align: right;\n",
              "    }\n",
              "</style>\n",
              "<table border=\"1\" class=\"dataframe\">\n",
              "  <thead>\n",
              "    <tr style=\"text-align: right;\">\n",
              "      <th></th>\n",
              "      <th>id</th>\n",
              "      <th>feat_1</th>\n",
              "      <th>feat_2</th>\n",
              "      <th>feat_3</th>\n",
              "      <th>feat_4</th>\n",
              "      <th>feat_5</th>\n",
              "      <th>feat_6</th>\n",
              "      <th>feat_7</th>\n",
              "      <th>feat_8</th>\n",
              "      <th>feat_9</th>\n",
              "      <th>feat_10</th>\n",
              "      <th>feat_11</th>\n",
              "      <th>feat_12</th>\n",
              "      <th>feat_13</th>\n",
              "      <th>feat_14</th>\n",
              "      <th>feat_15</th>\n",
              "      <th>feat_16</th>\n",
              "      <th>feat_17</th>\n",
              "      <th>feat_18</th>\n",
              "      <th>feat_19</th>\n",
              "      <th>feat_20</th>\n",
              "      <th>feat_21</th>\n",
              "      <th>feat_22</th>\n",
              "      <th>feat_23</th>\n",
              "      <th>feat_24</th>\n",
              "      <th>feat_25</th>\n",
              "      <th>feat_26</th>\n",
              "      <th>feat_27</th>\n",
              "      <th>feat_28</th>\n",
              "      <th>feat_29</th>\n",
              "      <th>feat_30</th>\n",
              "      <th>feat_31</th>\n",
              "      <th>feat_32</th>\n",
              "      <th>feat_33</th>\n",
              "      <th>feat_34</th>\n",
              "      <th>feat_35</th>\n",
              "      <th>feat_36</th>\n",
              "      <th>feat_37</th>\n",
              "      <th>feat_38</th>\n",
              "      <th>feat_39</th>\n",
              "      <th>...</th>\n",
              "      <th>feat_55</th>\n",
              "      <th>feat_56</th>\n",
              "      <th>feat_57</th>\n",
              "      <th>feat_58</th>\n",
              "      <th>feat_59</th>\n",
              "      <th>feat_60</th>\n",
              "      <th>feat_61</th>\n",
              "      <th>feat_62</th>\n",
              "      <th>feat_63</th>\n",
              "      <th>feat_64</th>\n",
              "      <th>feat_65</th>\n",
              "      <th>feat_66</th>\n",
              "      <th>feat_67</th>\n",
              "      <th>feat_68</th>\n",
              "      <th>feat_69</th>\n",
              "      <th>feat_70</th>\n",
              "      <th>feat_71</th>\n",
              "      <th>feat_72</th>\n",
              "      <th>feat_73</th>\n",
              "      <th>feat_74</th>\n",
              "      <th>feat_75</th>\n",
              "      <th>feat_76</th>\n",
              "      <th>feat_77</th>\n",
              "      <th>feat_78</th>\n",
              "      <th>feat_79</th>\n",
              "      <th>feat_80</th>\n",
              "      <th>feat_81</th>\n",
              "      <th>feat_82</th>\n",
              "      <th>feat_83</th>\n",
              "      <th>feat_84</th>\n",
              "      <th>feat_85</th>\n",
              "      <th>feat_86</th>\n",
              "      <th>feat_87</th>\n",
              "      <th>feat_88</th>\n",
              "      <th>feat_89</th>\n",
              "      <th>feat_90</th>\n",
              "      <th>feat_91</th>\n",
              "      <th>feat_92</th>\n",
              "      <th>feat_93</th>\n",
              "      <th>target</th>\n",
              "    </tr>\n",
              "  </thead>\n",
              "  <tbody>\n",
              "    <tr>\n",
              "      <th>0</th>\n",
              "      <td>1</td>\n",
              "      <td>1</td>\n",
              "      <td>0</td>\n",
              "      <td>0</td>\n",
              "      <td>0</td>\n",
              "      <td>0</td>\n",
              "      <td>0</td>\n",
              "      <td>0</td>\n",
              "      <td>0</td>\n",
              "      <td>0</td>\n",
              "      <td>0</td>\n",
              "      <td>1</td>\n",
              "      <td>0</td>\n",
              "      <td>0</td>\n",
              "      <td>0</td>\n",
              "      <td>0</td>\n",
              "      <td>0</td>\n",
              "      <td>2</td>\n",
              "      <td>0</td>\n",
              "      <td>0</td>\n",
              "      <td>0</td>\n",
              "      <td>0</td>\n",
              "      <td>1</td>\n",
              "      <td>0</td>\n",
              "      <td>4</td>\n",
              "      <td>1</td>\n",
              "      <td>1</td>\n",
              "      <td>0</td>\n",
              "      <td>0</td>\n",
              "      <td>2</td>\n",
              "      <td>0</td>\n",
              "      <td>0</td>\n",
              "      <td>0</td>\n",
              "      <td>0</td>\n",
              "      <td>0</td>\n",
              "      <td>1</td>\n",
              "      <td>0</td>\n",
              "      <td>0</td>\n",
              "      <td>0</td>\n",
              "      <td>0</td>\n",
              "      <td>...</td>\n",
              "      <td>0</td>\n",
              "      <td>0</td>\n",
              "      <td>2</td>\n",
              "      <td>0</td>\n",
              "      <td>0</td>\n",
              "      <td>11</td>\n",
              "      <td>0</td>\n",
              "      <td>1</td>\n",
              "      <td>1</td>\n",
              "      <td>0</td>\n",
              "      <td>1</td>\n",
              "      <td>0</td>\n",
              "      <td>7</td>\n",
              "      <td>0</td>\n",
              "      <td>0</td>\n",
              "      <td>0</td>\n",
              "      <td>1</td>\n",
              "      <td>0</td>\n",
              "      <td>0</td>\n",
              "      <td>0</td>\n",
              "      <td>0</td>\n",
              "      <td>0</td>\n",
              "      <td>0</td>\n",
              "      <td>0</td>\n",
              "      <td>2</td>\n",
              "      <td>1</td>\n",
              "      <td>0</td>\n",
              "      <td>0</td>\n",
              "      <td>0</td>\n",
              "      <td>0</td>\n",
              "      <td>1</td>\n",
              "      <td>0</td>\n",
              "      <td>0</td>\n",
              "      <td>0</td>\n",
              "      <td>0</td>\n",
              "      <td>0</td>\n",
              "      <td>0</td>\n",
              "      <td>0</td>\n",
              "      <td>0</td>\n",
              "      <td>1</td>\n",
              "    </tr>\n",
              "    <tr>\n",
              "      <th>1</th>\n",
              "      <td>2</td>\n",
              "      <td>0</td>\n",
              "      <td>0</td>\n",
              "      <td>0</td>\n",
              "      <td>0</td>\n",
              "      <td>0</td>\n",
              "      <td>0</td>\n",
              "      <td>0</td>\n",
              "      <td>1</td>\n",
              "      <td>0</td>\n",
              "      <td>0</td>\n",
              "      <td>0</td>\n",
              "      <td>0</td>\n",
              "      <td>0</td>\n",
              "      <td>0</td>\n",
              "      <td>0</td>\n",
              "      <td>0</td>\n",
              "      <td>0</td>\n",
              "      <td>2</td>\n",
              "      <td>0</td>\n",
              "      <td>0</td>\n",
              "      <td>0</td>\n",
              "      <td>0</td>\n",
              "      <td>0</td>\n",
              "      <td>0</td>\n",
              "      <td>0</td>\n",
              "      <td>0</td>\n",
              "      <td>0</td>\n",
              "      <td>0</td>\n",
              "      <td>0</td>\n",
              "      <td>0</td>\n",
              "      <td>0</td>\n",
              "      <td>0</td>\n",
              "      <td>0</td>\n",
              "      <td>0</td>\n",
              "      <td>0</td>\n",
              "      <td>0</td>\n",
              "      <td>1</td>\n",
              "      <td>0</td>\n",
              "      <td>0</td>\n",
              "      <td>...</td>\n",
              "      <td>0</td>\n",
              "      <td>0</td>\n",
              "      <td>0</td>\n",
              "      <td>1</td>\n",
              "      <td>0</td>\n",
              "      <td>0</td>\n",
              "      <td>0</td>\n",
              "      <td>0</td>\n",
              "      <td>0</td>\n",
              "      <td>1</td>\n",
              "      <td>0</td>\n",
              "      <td>0</td>\n",
              "      <td>1</td>\n",
              "      <td>0</td>\n",
              "      <td>0</td>\n",
              "      <td>0</td>\n",
              "      <td>0</td>\n",
              "      <td>0</td>\n",
              "      <td>2</td>\n",
              "      <td>1</td>\n",
              "      <td>0</td>\n",
              "      <td>1</td>\n",
              "      <td>0</td>\n",
              "      <td>1</td>\n",
              "      <td>0</td>\n",
              "      <td>0</td>\n",
              "      <td>0</td>\n",
              "      <td>0</td>\n",
              "      <td>0</td>\n",
              "      <td>0</td>\n",
              "      <td>0</td>\n",
              "      <td>0</td>\n",
              "      <td>0</td>\n",
              "      <td>0</td>\n",
              "      <td>0</td>\n",
              "      <td>0</td>\n",
              "      <td>0</td>\n",
              "      <td>0</td>\n",
              "      <td>0</td>\n",
              "      <td>1</td>\n",
              "    </tr>\n",
              "    <tr>\n",
              "      <th>2</th>\n",
              "      <td>3</td>\n",
              "      <td>0</td>\n",
              "      <td>0</td>\n",
              "      <td>0</td>\n",
              "      <td>0</td>\n",
              "      <td>0</td>\n",
              "      <td>0</td>\n",
              "      <td>0</td>\n",
              "      <td>1</td>\n",
              "      <td>0</td>\n",
              "      <td>0</td>\n",
              "      <td>0</td>\n",
              "      <td>0</td>\n",
              "      <td>0</td>\n",
              "      <td>0</td>\n",
              "      <td>0</td>\n",
              "      <td>0</td>\n",
              "      <td>1</td>\n",
              "      <td>0</td>\n",
              "      <td>0</td>\n",
              "      <td>0</td>\n",
              "      <td>0</td>\n",
              "      <td>0</td>\n",
              "      <td>0</td>\n",
              "      <td>0</td>\n",
              "      <td>0</td>\n",
              "      <td>0</td>\n",
              "      <td>0</td>\n",
              "      <td>0</td>\n",
              "      <td>0</td>\n",
              "      <td>0</td>\n",
              "      <td>0</td>\n",
              "      <td>0</td>\n",
              "      <td>1</td>\n",
              "      <td>0</td>\n",
              "      <td>0</td>\n",
              "      <td>0</td>\n",
              "      <td>0</td>\n",
              "      <td>0</td>\n",
              "      <td>0</td>\n",
              "      <td>...</td>\n",
              "      <td>1</td>\n",
              "      <td>0</td>\n",
              "      <td>0</td>\n",
              "      <td>0</td>\n",
              "      <td>0</td>\n",
              "      <td>0</td>\n",
              "      <td>0</td>\n",
              "      <td>0</td>\n",
              "      <td>0</td>\n",
              "      <td>0</td>\n",
              "      <td>0</td>\n",
              "      <td>0</td>\n",
              "      <td>6</td>\n",
              "      <td>0</td>\n",
              "      <td>0</td>\n",
              "      <td>2</td>\n",
              "      <td>0</td>\n",
              "      <td>0</td>\n",
              "      <td>0</td>\n",
              "      <td>0</td>\n",
              "      <td>0</td>\n",
              "      <td>0</td>\n",
              "      <td>0</td>\n",
              "      <td>0</td>\n",
              "      <td>0</td>\n",
              "      <td>0</td>\n",
              "      <td>1</td>\n",
              "      <td>0</td>\n",
              "      <td>0</td>\n",
              "      <td>0</td>\n",
              "      <td>0</td>\n",
              "      <td>0</td>\n",
              "      <td>0</td>\n",
              "      <td>0</td>\n",
              "      <td>0</td>\n",
              "      <td>0</td>\n",
              "      <td>0</td>\n",
              "      <td>0</td>\n",
              "      <td>0</td>\n",
              "      <td>1</td>\n",
              "    </tr>\n",
              "    <tr>\n",
              "      <th>3</th>\n",
              "      <td>4</td>\n",
              "      <td>1</td>\n",
              "      <td>0</td>\n",
              "      <td>0</td>\n",
              "      <td>1</td>\n",
              "      <td>6</td>\n",
              "      <td>1</td>\n",
              "      <td>5</td>\n",
              "      <td>0</td>\n",
              "      <td>0</td>\n",
              "      <td>1</td>\n",
              "      <td>1</td>\n",
              "      <td>0</td>\n",
              "      <td>1</td>\n",
              "      <td>0</td>\n",
              "      <td>0</td>\n",
              "      <td>1</td>\n",
              "      <td>1</td>\n",
              "      <td>0</td>\n",
              "      <td>0</td>\n",
              "      <td>0</td>\n",
              "      <td>0</td>\n",
              "      <td>0</td>\n",
              "      <td>0</td>\n",
              "      <td>7</td>\n",
              "      <td>2</td>\n",
              "      <td>2</td>\n",
              "      <td>0</td>\n",
              "      <td>0</td>\n",
              "      <td>0</td>\n",
              "      <td>58</td>\n",
              "      <td>0</td>\n",
              "      <td>10</td>\n",
              "      <td>0</td>\n",
              "      <td>0</td>\n",
              "      <td>0</td>\n",
              "      <td>0</td>\n",
              "      <td>0</td>\n",
              "      <td>3</td>\n",
              "      <td>0</td>\n",
              "      <td>...</td>\n",
              "      <td>1</td>\n",
              "      <td>0</td>\n",
              "      <td>0</td>\n",
              "      <td>0</td>\n",
              "      <td>0</td>\n",
              "      <td>0</td>\n",
              "      <td>0</td>\n",
              "      <td>0</td>\n",
              "      <td>0</td>\n",
              "      <td>0</td>\n",
              "      <td>2</td>\n",
              "      <td>1</td>\n",
              "      <td>5</td>\n",
              "      <td>0</td>\n",
              "      <td>0</td>\n",
              "      <td>4</td>\n",
              "      <td>0</td>\n",
              "      <td>0</td>\n",
              "      <td>2</td>\n",
              "      <td>1</td>\n",
              "      <td>0</td>\n",
              "      <td>1</td>\n",
              "      <td>0</td>\n",
              "      <td>0</td>\n",
              "      <td>1</td>\n",
              "      <td>1</td>\n",
              "      <td>2</td>\n",
              "      <td>2</td>\n",
              "      <td>0</td>\n",
              "      <td>22</td>\n",
              "      <td>0</td>\n",
              "      <td>1</td>\n",
              "      <td>2</td>\n",
              "      <td>0</td>\n",
              "      <td>0</td>\n",
              "      <td>0</td>\n",
              "      <td>0</td>\n",
              "      <td>0</td>\n",
              "      <td>0</td>\n",
              "      <td>1</td>\n",
              "    </tr>\n",
              "    <tr>\n",
              "      <th>4</th>\n",
              "      <td>5</td>\n",
              "      <td>0</td>\n",
              "      <td>0</td>\n",
              "      <td>0</td>\n",
              "      <td>0</td>\n",
              "      <td>0</td>\n",
              "      <td>0</td>\n",
              "      <td>0</td>\n",
              "      <td>0</td>\n",
              "      <td>0</td>\n",
              "      <td>0</td>\n",
              "      <td>0</td>\n",
              "      <td>0</td>\n",
              "      <td>0</td>\n",
              "      <td>0</td>\n",
              "      <td>0</td>\n",
              "      <td>0</td>\n",
              "      <td>4</td>\n",
              "      <td>0</td>\n",
              "      <td>0</td>\n",
              "      <td>0</td>\n",
              "      <td>0</td>\n",
              "      <td>0</td>\n",
              "      <td>0</td>\n",
              "      <td>1</td>\n",
              "      <td>0</td>\n",
              "      <td>0</td>\n",
              "      <td>0</td>\n",
              "      <td>0</td>\n",
              "      <td>0</td>\n",
              "      <td>0</td>\n",
              "      <td>0</td>\n",
              "      <td>0</td>\n",
              "      <td>0</td>\n",
              "      <td>0</td>\n",
              "      <td>0</td>\n",
              "      <td>0</td>\n",
              "      <td>0</td>\n",
              "      <td>0</td>\n",
              "      <td>0</td>\n",
              "      <td>...</td>\n",
              "      <td>0</td>\n",
              "      <td>0</td>\n",
              "      <td>0</td>\n",
              "      <td>0</td>\n",
              "      <td>0</td>\n",
              "      <td>0</td>\n",
              "      <td>0</td>\n",
              "      <td>1</td>\n",
              "      <td>0</td>\n",
              "      <td>0</td>\n",
              "      <td>0</td>\n",
              "      <td>0</td>\n",
              "      <td>0</td>\n",
              "      <td>1</td>\n",
              "      <td>0</td>\n",
              "      <td>0</td>\n",
              "      <td>3</td>\n",
              "      <td>0</td>\n",
              "      <td>0</td>\n",
              "      <td>0</td>\n",
              "      <td>0</td>\n",
              "      <td>0</td>\n",
              "      <td>0</td>\n",
              "      <td>0</td>\n",
              "      <td>4</td>\n",
              "      <td>0</td>\n",
              "      <td>1</td>\n",
              "      <td>0</td>\n",
              "      <td>0</td>\n",
              "      <td>0</td>\n",
              "      <td>1</td>\n",
              "      <td>0</td>\n",
              "      <td>0</td>\n",
              "      <td>0</td>\n",
              "      <td>0</td>\n",
              "      <td>1</td>\n",
              "      <td>0</td>\n",
              "      <td>0</td>\n",
              "      <td>0</td>\n",
              "      <td>1</td>\n",
              "    </tr>\n",
              "    <tr>\n",
              "      <th>...</th>\n",
              "      <td>...</td>\n",
              "      <td>...</td>\n",
              "      <td>...</td>\n",
              "      <td>...</td>\n",
              "      <td>...</td>\n",
              "      <td>...</td>\n",
              "      <td>...</td>\n",
              "      <td>...</td>\n",
              "      <td>...</td>\n",
              "      <td>...</td>\n",
              "      <td>...</td>\n",
              "      <td>...</td>\n",
              "      <td>...</td>\n",
              "      <td>...</td>\n",
              "      <td>...</td>\n",
              "      <td>...</td>\n",
              "      <td>...</td>\n",
              "      <td>...</td>\n",
              "      <td>...</td>\n",
              "      <td>...</td>\n",
              "      <td>...</td>\n",
              "      <td>...</td>\n",
              "      <td>...</td>\n",
              "      <td>...</td>\n",
              "      <td>...</td>\n",
              "      <td>...</td>\n",
              "      <td>...</td>\n",
              "      <td>...</td>\n",
              "      <td>...</td>\n",
              "      <td>...</td>\n",
              "      <td>...</td>\n",
              "      <td>...</td>\n",
              "      <td>...</td>\n",
              "      <td>...</td>\n",
              "      <td>...</td>\n",
              "      <td>...</td>\n",
              "      <td>...</td>\n",
              "      <td>...</td>\n",
              "      <td>...</td>\n",
              "      <td>...</td>\n",
              "      <td>...</td>\n",
              "      <td>...</td>\n",
              "      <td>...</td>\n",
              "      <td>...</td>\n",
              "      <td>...</td>\n",
              "      <td>...</td>\n",
              "      <td>...</td>\n",
              "      <td>...</td>\n",
              "      <td>...</td>\n",
              "      <td>...</td>\n",
              "      <td>...</td>\n",
              "      <td>...</td>\n",
              "      <td>...</td>\n",
              "      <td>...</td>\n",
              "      <td>...</td>\n",
              "      <td>...</td>\n",
              "      <td>...</td>\n",
              "      <td>...</td>\n",
              "      <td>...</td>\n",
              "      <td>...</td>\n",
              "      <td>...</td>\n",
              "      <td>...</td>\n",
              "      <td>...</td>\n",
              "      <td>...</td>\n",
              "      <td>...</td>\n",
              "      <td>...</td>\n",
              "      <td>...</td>\n",
              "      <td>...</td>\n",
              "      <td>...</td>\n",
              "      <td>...</td>\n",
              "      <td>...</td>\n",
              "      <td>...</td>\n",
              "      <td>...</td>\n",
              "      <td>...</td>\n",
              "      <td>...</td>\n",
              "      <td>...</td>\n",
              "      <td>...</td>\n",
              "      <td>...</td>\n",
              "      <td>...</td>\n",
              "      <td>...</td>\n",
              "      <td>...</td>\n",
              "    </tr>\n",
              "    <tr>\n",
              "      <th>61873</th>\n",
              "      <td>61874</td>\n",
              "      <td>1</td>\n",
              "      <td>0</td>\n",
              "      <td>0</td>\n",
              "      <td>1</td>\n",
              "      <td>1</td>\n",
              "      <td>0</td>\n",
              "      <td>0</td>\n",
              "      <td>0</td>\n",
              "      <td>0</td>\n",
              "      <td>0</td>\n",
              "      <td>0</td>\n",
              "      <td>1</td>\n",
              "      <td>3</td>\n",
              "      <td>0</td>\n",
              "      <td>0</td>\n",
              "      <td>9</td>\n",
              "      <td>0</td>\n",
              "      <td>2</td>\n",
              "      <td>0</td>\n",
              "      <td>0</td>\n",
              "      <td>0</td>\n",
              "      <td>7</td>\n",
              "      <td>0</td>\n",
              "      <td>3</td>\n",
              "      <td>6</td>\n",
              "      <td>1</td>\n",
              "      <td>0</td>\n",
              "      <td>0</td>\n",
              "      <td>65</td>\n",
              "      <td>1</td>\n",
              "      <td>0</td>\n",
              "      <td>4</td>\n",
              "      <td>3</td>\n",
              "      <td>1</td>\n",
              "      <td>1</td>\n",
              "      <td>1</td>\n",
              "      <td>2</td>\n",
              "      <td>1</td>\n",
              "      <td>0</td>\n",
              "      <td>...</td>\n",
              "      <td>3</td>\n",
              "      <td>1</td>\n",
              "      <td>0</td>\n",
              "      <td>0</td>\n",
              "      <td>0</td>\n",
              "      <td>1</td>\n",
              "      <td>0</td>\n",
              "      <td>22</td>\n",
              "      <td>0</td>\n",
              "      <td>1</td>\n",
              "      <td>4</td>\n",
              "      <td>11</td>\n",
              "      <td>3</td>\n",
              "      <td>0</td>\n",
              "      <td>0</td>\n",
              "      <td>3</td>\n",
              "      <td>0</td>\n",
              "      <td>1</td>\n",
              "      <td>1</td>\n",
              "      <td>2</td>\n",
              "      <td>0</td>\n",
              "      <td>0</td>\n",
              "      <td>29</td>\n",
              "      <td>0</td>\n",
              "      <td>0</td>\n",
              "      <td>0</td>\n",
              "      <td>0</td>\n",
              "      <td>0</td>\n",
              "      <td>0</td>\n",
              "      <td>0</td>\n",
              "      <td>1</td>\n",
              "      <td>0</td>\n",
              "      <td>0</td>\n",
              "      <td>0</td>\n",
              "      <td>0</td>\n",
              "      <td>0</td>\n",
              "      <td>0</td>\n",
              "      <td>2</td>\n",
              "      <td>0</td>\n",
              "      <td>9</td>\n",
              "    </tr>\n",
              "    <tr>\n",
              "      <th>61874</th>\n",
              "      <td>61875</td>\n",
              "      <td>4</td>\n",
              "      <td>0</td>\n",
              "      <td>0</td>\n",
              "      <td>0</td>\n",
              "      <td>0</td>\n",
              "      <td>0</td>\n",
              "      <td>0</td>\n",
              "      <td>0</td>\n",
              "      <td>0</td>\n",
              "      <td>0</td>\n",
              "      <td>0</td>\n",
              "      <td>0</td>\n",
              "      <td>4</td>\n",
              "      <td>2</td>\n",
              "      <td>0</td>\n",
              "      <td>0</td>\n",
              "      <td>0</td>\n",
              "      <td>0</td>\n",
              "      <td>0</td>\n",
              "      <td>0</td>\n",
              "      <td>0</td>\n",
              "      <td>0</td>\n",
              "      <td>0</td>\n",
              "      <td>0</td>\n",
              "      <td>2</td>\n",
              "      <td>0</td>\n",
              "      <td>0</td>\n",
              "      <td>0</td>\n",
              "      <td>1</td>\n",
              "      <td>0</td>\n",
              "      <td>0</td>\n",
              "      <td>0</td>\n",
              "      <td>2</td>\n",
              "      <td>1</td>\n",
              "      <td>0</td>\n",
              "      <td>2</td>\n",
              "      <td>0</td>\n",
              "      <td>0</td>\n",
              "      <td>0</td>\n",
              "      <td>...</td>\n",
              "      <td>0</td>\n",
              "      <td>0</td>\n",
              "      <td>0</td>\n",
              "      <td>0</td>\n",
              "      <td>0</td>\n",
              "      <td>0</td>\n",
              "      <td>0</td>\n",
              "      <td>1</td>\n",
              "      <td>2</td>\n",
              "      <td>0</td>\n",
              "      <td>0</td>\n",
              "      <td>1</td>\n",
              "      <td>5</td>\n",
              "      <td>0</td>\n",
              "      <td>0</td>\n",
              "      <td>0</td>\n",
              "      <td>0</td>\n",
              "      <td>0</td>\n",
              "      <td>0</td>\n",
              "      <td>0</td>\n",
              "      <td>0</td>\n",
              "      <td>0</td>\n",
              "      <td>1</td>\n",
              "      <td>0</td>\n",
              "      <td>11</td>\n",
              "      <td>0</td>\n",
              "      <td>0</td>\n",
              "      <td>0</td>\n",
              "      <td>0</td>\n",
              "      <td>0</td>\n",
              "      <td>0</td>\n",
              "      <td>2</td>\n",
              "      <td>0</td>\n",
              "      <td>0</td>\n",
              "      <td>2</td>\n",
              "      <td>0</td>\n",
              "      <td>0</td>\n",
              "      <td>1</td>\n",
              "      <td>0</td>\n",
              "      <td>9</td>\n",
              "    </tr>\n",
              "    <tr>\n",
              "      <th>61875</th>\n",
              "      <td>61876</td>\n",
              "      <td>0</td>\n",
              "      <td>0</td>\n",
              "      <td>0</td>\n",
              "      <td>0</td>\n",
              "      <td>0</td>\n",
              "      <td>0</td>\n",
              "      <td>0</td>\n",
              "      <td>3</td>\n",
              "      <td>1</td>\n",
              "      <td>0</td>\n",
              "      <td>0</td>\n",
              "      <td>0</td>\n",
              "      <td>0</td>\n",
              "      <td>1</td>\n",
              "      <td>0</td>\n",
              "      <td>0</td>\n",
              "      <td>0</td>\n",
              "      <td>1</td>\n",
              "      <td>0</td>\n",
              "      <td>0</td>\n",
              "      <td>0</td>\n",
              "      <td>0</td>\n",
              "      <td>0</td>\n",
              "      <td>1</td>\n",
              "      <td>0</td>\n",
              "      <td>0</td>\n",
              "      <td>0</td>\n",
              "      <td>0</td>\n",
              "      <td>0</td>\n",
              "      <td>0</td>\n",
              "      <td>0</td>\n",
              "      <td>0</td>\n",
              "      <td>3</td>\n",
              "      <td>0</td>\n",
              "      <td>0</td>\n",
              "      <td>2</td>\n",
              "      <td>0</td>\n",
              "      <td>0</td>\n",
              "      <td>0</td>\n",
              "      <td>...</td>\n",
              "      <td>0</td>\n",
              "      <td>0</td>\n",
              "      <td>0</td>\n",
              "      <td>0</td>\n",
              "      <td>19</td>\n",
              "      <td>0</td>\n",
              "      <td>0</td>\n",
              "      <td>4</td>\n",
              "      <td>0</td>\n",
              "      <td>0</td>\n",
              "      <td>0</td>\n",
              "      <td>0</td>\n",
              "      <td>18</td>\n",
              "      <td>0</td>\n",
              "      <td>0</td>\n",
              "      <td>0</td>\n",
              "      <td>0</td>\n",
              "      <td>2</td>\n",
              "      <td>0</td>\n",
              "      <td>0</td>\n",
              "      <td>0</td>\n",
              "      <td>2</td>\n",
              "      <td>0</td>\n",
              "      <td>0</td>\n",
              "      <td>0</td>\n",
              "      <td>0</td>\n",
              "      <td>0</td>\n",
              "      <td>0</td>\n",
              "      <td>0</td>\n",
              "      <td>0</td>\n",
              "      <td>0</td>\n",
              "      <td>3</td>\n",
              "      <td>1</td>\n",
              "      <td>0</td>\n",
              "      <td>0</td>\n",
              "      <td>0</td>\n",
              "      <td>0</td>\n",
              "      <td>0</td>\n",
              "      <td>0</td>\n",
              "      <td>9</td>\n",
              "    </tr>\n",
              "    <tr>\n",
              "      <th>61876</th>\n",
              "      <td>61877</td>\n",
              "      <td>1</td>\n",
              "      <td>0</td>\n",
              "      <td>0</td>\n",
              "      <td>0</td>\n",
              "      <td>0</td>\n",
              "      <td>0</td>\n",
              "      <td>0</td>\n",
              "      <td>0</td>\n",
              "      <td>0</td>\n",
              "      <td>0</td>\n",
              "      <td>0</td>\n",
              "      <td>0</td>\n",
              "      <td>0</td>\n",
              "      <td>0</td>\n",
              "      <td>0</td>\n",
              "      <td>3</td>\n",
              "      <td>0</td>\n",
              "      <td>0</td>\n",
              "      <td>0</td>\n",
              "      <td>0</td>\n",
              "      <td>0</td>\n",
              "      <td>0</td>\n",
              "      <td>0</td>\n",
              "      <td>2</td>\n",
              "      <td>1</td>\n",
              "      <td>0</td>\n",
              "      <td>0</td>\n",
              "      <td>1</td>\n",
              "      <td>2</td>\n",
              "      <td>0</td>\n",
              "      <td>0</td>\n",
              "      <td>2</td>\n",
              "      <td>1</td>\n",
              "      <td>0</td>\n",
              "      <td>0</td>\n",
              "      <td>5</td>\n",
              "      <td>0</td>\n",
              "      <td>0</td>\n",
              "      <td>0</td>\n",
              "      <td>...</td>\n",
              "      <td>0</td>\n",
              "      <td>0</td>\n",
              "      <td>1</td>\n",
              "      <td>0</td>\n",
              "      <td>0</td>\n",
              "      <td>0</td>\n",
              "      <td>0</td>\n",
              "      <td>2</td>\n",
              "      <td>0</td>\n",
              "      <td>0</td>\n",
              "      <td>0</td>\n",
              "      <td>0</td>\n",
              "      <td>6</td>\n",
              "      <td>0</td>\n",
              "      <td>0</td>\n",
              "      <td>0</td>\n",
              "      <td>1</td>\n",
              "      <td>0</td>\n",
              "      <td>0</td>\n",
              "      <td>0</td>\n",
              "      <td>0</td>\n",
              "      <td>0</td>\n",
              "      <td>0</td>\n",
              "      <td>0</td>\n",
              "      <td>0</td>\n",
              "      <td>0</td>\n",
              "      <td>0</td>\n",
              "      <td>0</td>\n",
              "      <td>0</td>\n",
              "      <td>0</td>\n",
              "      <td>0</td>\n",
              "      <td>0</td>\n",
              "      <td>0</td>\n",
              "      <td>0</td>\n",
              "      <td>1</td>\n",
              "      <td>0</td>\n",
              "      <td>3</td>\n",
              "      <td>10</td>\n",
              "      <td>0</td>\n",
              "      <td>9</td>\n",
              "    </tr>\n",
              "    <tr>\n",
              "      <th>61877</th>\n",
              "      <td>61878</td>\n",
              "      <td>0</td>\n",
              "      <td>0</td>\n",
              "      <td>0</td>\n",
              "      <td>0</td>\n",
              "      <td>0</td>\n",
              "      <td>0</td>\n",
              "      <td>0</td>\n",
              "      <td>0</td>\n",
              "      <td>0</td>\n",
              "      <td>0</td>\n",
              "      <td>0</td>\n",
              "      <td>0</td>\n",
              "      <td>3</td>\n",
              "      <td>0</td>\n",
              "      <td>1</td>\n",
              "      <td>1</td>\n",
              "      <td>1</td>\n",
              "      <td>1</td>\n",
              "      <td>0</td>\n",
              "      <td>0</td>\n",
              "      <td>0</td>\n",
              "      <td>3</td>\n",
              "      <td>0</td>\n",
              "      <td>2</td>\n",
              "      <td>1</td>\n",
              "      <td>0</td>\n",
              "      <td>0</td>\n",
              "      <td>0</td>\n",
              "      <td>9</td>\n",
              "      <td>0</td>\n",
              "      <td>0</td>\n",
              "      <td>0</td>\n",
              "      <td>0</td>\n",
              "      <td>0</td>\n",
              "      <td>0</td>\n",
              "      <td>2</td>\n",
              "      <td>0</td>\n",
              "      <td>0</td>\n",
              "      <td>0</td>\n",
              "      <td>...</td>\n",
              "      <td>1</td>\n",
              "      <td>0</td>\n",
              "      <td>1</td>\n",
              "      <td>0</td>\n",
              "      <td>0</td>\n",
              "      <td>3</td>\n",
              "      <td>0</td>\n",
              "      <td>4</td>\n",
              "      <td>0</td>\n",
              "      <td>0</td>\n",
              "      <td>0</td>\n",
              "      <td>0</td>\n",
              "      <td>10</td>\n",
              "      <td>2</td>\n",
              "      <td>0</td>\n",
              "      <td>0</td>\n",
              "      <td>0</td>\n",
              "      <td>0</td>\n",
              "      <td>0</td>\n",
              "      <td>3</td>\n",
              "      <td>1</td>\n",
              "      <td>0</td>\n",
              "      <td>0</td>\n",
              "      <td>0</td>\n",
              "      <td>0</td>\n",
              "      <td>0</td>\n",
              "      <td>0</td>\n",
              "      <td>0</td>\n",
              "      <td>1</td>\n",
              "      <td>0</td>\n",
              "      <td>0</td>\n",
              "      <td>0</td>\n",
              "      <td>0</td>\n",
              "      <td>0</td>\n",
              "      <td>0</td>\n",
              "      <td>0</td>\n",
              "      <td>0</td>\n",
              "      <td>2</td>\n",
              "      <td>0</td>\n",
              "      <td>9</td>\n",
              "    </tr>\n",
              "  </tbody>\n",
              "</table>\n",
              "<p>61878 rows × 95 columns</p>\n",
              "</div>"
            ],
            "text/plain": [
              "          id  feat_1  feat_2  feat_3  ...  feat_91  feat_92  feat_93  target\n",
              "0          1       1       0       0  ...        0        0        0       1\n",
              "1          2       0       0       0  ...        0        0        0       1\n",
              "2          3       0       0       0  ...        0        0        0       1\n",
              "3          4       1       0       0  ...        0        0        0       1\n",
              "4          5       0       0       0  ...        0        0        0       1\n",
              "...      ...     ...     ...     ...  ...      ...      ...      ...     ...\n",
              "61873  61874       1       0       0  ...        0        2        0       9\n",
              "61874  61875       4       0       0  ...        0        1        0       9\n",
              "61875  61876       0       0       0  ...        0        0        0       9\n",
              "61876  61877       1       0       0  ...        3       10        0       9\n",
              "61877  61878       0       0       0  ...        0        2        0       9\n",
              "\n",
              "[61878 rows x 95 columns]"
            ]
          },
          "metadata": {
            "tags": []
          },
          "execution_count": 8
        }
      ]
    },
    {
      "cell_type": "code",
      "metadata": {
        "id": "W7cL6WpHebi2",
        "colab_type": "code",
        "outputId": "a0b6a5b6-9d79-4f0a-b72f-f0a4d50e6adf",
        "colab": {
          "base_uri": "https://localhost:8080/",
          "height": 187
        }
      },
      "source": [
        "df.target.value_counts()"
      ],
      "execution_count": 0,
      "outputs": [
        {
          "output_type": "execute_result",
          "data": {
            "text/plain": [
              "2    16122\n",
              "6    14135\n",
              "8     8464\n",
              "3     8004\n",
              "9     4955\n",
              "7     2839\n",
              "5     2739\n",
              "4     2691\n",
              "1     1929\n",
              "Name: target, dtype: int64"
            ]
          },
          "metadata": {
            "tags": []
          },
          "execution_count": 9
        }
      ]
    },
    {
      "cell_type": "markdown",
      "metadata": {
        "id": "y3x3uMI9ebi-",
        "colab_type": "text"
      },
      "source": [
        "#### Visualizations"
      ]
    },
    {
      "cell_type": "code",
      "metadata": {
        "id": "pwa1FUvrebi_",
        "colab_type": "code",
        "outputId": "ca161ed9-69ab-4eac-876f-b64a3506c237",
        "colab": {
          "base_uri": "https://localhost:8080/",
          "height": 412
        }
      },
      "source": [
        "# Plotting a bar chart for the target values\n",
        "category_count = df.target.value_counts()\n",
        "plt.figure(figsize=(10,6))\n",
        "sns.barplot(category_count.index, category_count.values,\n",
        "            order=category_count.index,\n",
        "            alpha=0.8)\n",
        "plt.title('Number of Products In Each Category', fontdict={'fontsize': 16})\n",
        "plt.ylabel('Count')\n",
        "plt.xlabel('Categories', fontdict={'fontsize': 12});"
      ],
      "execution_count": 0,
      "outputs": [
        {
          "output_type": "display_data",
          "data": {
            "image/png": "[encoded data removed]",
            "text/plain": [
              "<Figure size 720x432 with 1 Axes>"
            ]
          },
          "metadata": {
            "tags": []
          }
        }
      ]
    },
    {
      "cell_type": "code",
      "metadata": {
        "id": "FvfdKpMQebjE",
        "colab_type": "code",
        "outputId": "6f8222c9-01f8-4b93-9c60-79834b925764",
        "colab": {
          "base_uri": "https://localhost:8080/",
          "height": 412
        }
      },
      "source": [
        "# Visualize distribution\n",
        "\n",
        "plt.figure(figsize=(10,6))\n",
        "sns.distplot(df.target, bins=15)\n",
        "plt.title('Distribution of Categories', fontdict={'fontsize': 16});"
      ],
      "execution_count": 0,
      "outputs": [
        {
          "output_type": "display_data",
          "data": {
            "image/png": "[encoded data removed]",
            "text/plain": [
              "<Figure size 720x432 with 1 Axes>"
            ]
          },
          "metadata": {
            "tags": []
          }
        }
      ]
    },
    {
      "cell_type": "markdown",
      "metadata": {
        "id": "Cgof_FYvzX4O",
        "colab_type": "text"
      },
      "source": [
        "### Split the Training Data into Sets\n",
        "\n",
        "I want to split the training data into 3 sets:\n",
        "\n",
        "* training data (for training the model)\n",
        "* validation data (for tuning hyperparameters)\n",
        "* test data (for evaluating the model without bias)\n",
        "\n",
        "Kaggle provides a \"test set\", but that's the data which you have to submit to Kaggle for scoring.\n",
        "\n",
        "The competition is finished, but the organizers haven't made the labels for the \"test set\" public.\n",
        "\n",
        "For splitting data into 3 sets, see [Stackoverflow: How to split data into 3 sets (train, validation and test)?](https://stackoverflow.com/questions/38250710/how-to-split-data-into-3-sets-train-validation-and-test/38251213#38251213)."
      ]
    },
    {
      "cell_type": "code",
      "metadata": {
        "id": "uX7Ez2uZ0Mk_",
        "colab_type": "code",
        "colab": {}
      },
      "source": [
        "# Helper function for splitting data\n",
        "\n",
        "def train_validate_test_split(df, train_percent=.6, validate_percent=.2, seed=None):\n",
        "    np.random.seed(seed)\n",
        "    perm = np.random.permutation(df.index)\n",
        "    m = len(df.index)\n",
        "    train_end = int(train_percent * m)\n",
        "    validate_end = int(validate_percent * m) + train_end\n",
        "    train = df.iloc[perm[:train_end]]\n",
        "    validate = df.iloc[perm[train_end:validate_end]]\n",
        "    test = df.iloc[perm[validate_end:]]\n",
        "    return train, validate, test"
      ],
      "execution_count": 0,
      "outputs": []
    },
    {
      "cell_type": "code",
      "metadata": {
        "id": "tMvYiivjebjJ",
        "colab_type": "code",
        "outputId": "3f8f2dc6-ea80-41ea-be52-29945d503825",
        "colab": {
          "base_uri": "https://localhost:8080/",
          "height": 34
        }
      },
      "source": [
        "# Split data into sets\n",
        "np.random.seed(42)\n",
        "\n",
        "X = df.drop(['id', 'target'], axis=1)\n",
        "y = df.target\n",
        "\n",
        "train, validate, test = train_validate_test_split(df)\n",
        "\n",
        "X_train, y_train = train.drop(['id', 'target'], axis=1), train.target\n",
        "X_val, y_val = validate.drop(['id', 'target'], axis=1), validate.target\n",
        "X_test, y_test = test.drop(['id', 'target'], axis=1), test.target\n",
        "X_train.shape, X_val.shape, X_test.shape, y_train.shape, y_val.shape, y_test.shape"
      ],
      "execution_count": 0,
      "outputs": [
        {
          "output_type": "execute_result",
          "data": {
            "text/plain": [
              "((37126, 93), (12375, 93), (12377, 93), (37126,), (12375,), (12377,))"
            ]
          },
          "metadata": {
            "tags": []
          },
          "execution_count": 9
        }
      ]
    },
    {
      "cell_type": "code",
      "metadata": {
        "id": "hUaO3asVebjO",
        "colab_type": "code",
        "outputId": "cc0c5bb9-8e8b-48b3-b129-316aff4ef8df",
        "colab": {
          "base_uri": "https://localhost:8080/",
          "height": 398
        }
      },
      "source": [
        "# Visualize dataset with PCA\n",
        "\n",
        "# instantiate model with 2 dimensions\n",
        "pca = PCA(2)\n",
        "\n",
        "# project from 93 to 2 dimensions\n",
        "projected = pca.fit_transform(df)\n",
        "\n",
        "# plot\n",
        "plt.figure(figsize=(10,6))\n",
        "plt.scatter(projected[:,0], projected[:,1],\n",
        "            c=df.target, edgecolor='none', alpha=0.5,\n",
        "            cmap=plt.get_cmap('Spectral', 10))\n",
        "plt.xlabel('PCA1')\n",
        "plt.colorbar(label='Categories');"
      ],
      "execution_count": 0,
      "outputs": [
        {
          "output_type": "display_data",
          "data": {
            "image/png": "[encoded data removed]",
            "text/plain": [
              "<Figure size 720x432 with 2 Axes>"
            ]
          },
          "metadata": {
            "tags": []
          }
        }
      ]
    },
    {
      "cell_type": "markdown",
      "metadata": {
        "id": "wsKjSvDeebjS",
        "colab_type": "text"
      },
      "source": [
        "The full data is a 93-dimensional point cloud. These points are the projection of each data point along the directions with largest variance.\n",
        "\n",
        "See [Principal Component Analysis (Data Science Handbook)](https://jakevdp.github.io/PythonDataScienceHandbook/05.09-principal-component-analysis.html)."
      ]
    },
    {
      "cell_type": "code",
      "metadata": {
        "id": "UXUSK5snebjU",
        "colab_type": "code",
        "outputId": "9070e670-2839-4bb2-8a5d-64ff797cb365",
        "colab": {
          "base_uri": "https://localhost:8080/",
          "height": 398
        }
      },
      "source": [
        "# Visualize dataset with LDA\n",
        "from sklearn.discriminant_analysis import LinearDiscriminantAnalysis\n",
        "\n",
        "# instantiate model with 2 dimensions\n",
        "lda = LinearDiscriminantAnalysis(n_components=2)\n",
        "\n",
        "# project from 93 to 2 dimensions\n",
        "projected = lda.fit_transform(X, y)\n",
        "\n",
        "# plot\n",
        "plt.figure(figsize=(10,6))\n",
        "plt.scatter(projected[:,0], projected[:,1],\n",
        "            c=df.target, edgecolor='none', alpha=0.5,\n",
        "            cmap=plt.get_cmap('Spectral', 10))\n",
        "plt.xlabel('LDA 1')\n",
        "plt.ylabel('LDA 2')\n",
        "plt.colorbar(label='Categories');"
      ],
      "execution_count": 0,
      "outputs": [
        {
          "output_type": "display_data",
          "data": {
            "image/png": "[encoded data removed]",
            "text/plain": [
              "<Figure size 720x432 with 2 Axes>"
            ]
          },
          "metadata": {
            "tags": []
          }
        }
      ]
    },
    {
      "cell_type": "markdown",
      "metadata": {
        "id": "CrwbReS0ebjY",
        "colab_type": "text"
      },
      "source": [
        "## 5. Data Modelling"
      ]
    },
    {
      "cell_type": "markdown",
      "metadata": {
        "id": "4yuTnvM0ebja",
        "colab_type": "text"
      },
      "source": [
        "### Dimensionality Reduction with PCA"
      ]
    },
    {
      "cell_type": "code",
      "metadata": {
        "id": "P2JkK5Yxebjb",
        "colab_type": "code",
        "outputId": "d0c577ab-3c4a-4a6b-d4fb-277904ff4569",
        "colab": {
          "base_uri": "https://localhost:8080/",
          "height": 301
        }
      },
      "source": [
        "# Fitting the PCA algorithm with our Data\n",
        "pca = PCA().fit(X_train)\n",
        "\n",
        "# Plotting the Cumulative Summation of the Explained Variance\n",
        "plt.figure()\n",
        "plt.plot(np.cumsum(pca.explained_variance_ratio_))\n",
        "plt.xticks(np.arange(0, 100, step=10))\n",
        "plt.xlabel('Number of Components')\n",
        "plt.ylabel('Variance')\n",
        "plt.title('Explained Variance');"
      ],
      "execution_count": 0,
      "outputs": [
        {
          "output_type": "display_data",
          "data": {
            "image/png": "[encoded data removed]",
            "text/plain": [
              "<Figure size 432x288 with 1 Axes>"
            ]
          },
          "metadata": {
            "tags": []
          }
        }
      ]
    },
    {
      "cell_type": "markdown",
      "metadata": {
        "id": "A4zcvd3mebjh",
        "colab_type": "text"
      },
      "source": [
        "**Note**: With 80 components, we preserve almost 100% of the total variance of the data."
      ]
    },
    {
      "cell_type": "code",
      "metadata": {
        "id": "jxGAZHTjebjj",
        "colab_type": "code",
        "outputId": "8390ef77-7b77-4844-fd73-41c2255e0041",
        "colab": {
          "base_uri": "https://localhost:8080/",
          "height": 34
        }
      },
      "source": [
        "# Reduce dimensionality with PCA\n",
        "\n",
        "# Create PCA\n",
        "pca = PCA(n_components=80, whiten=True)\n",
        "X_train_pca = pca.fit_transform(X_train)\n",
        "X_val_pca = pca.fit_transform(X_val)\n",
        "\n",
        "X_train_pca.shape, X_val_pca.shape"
      ],
      "execution_count": 0,
      "outputs": [
        {
          "output_type": "execute_result",
          "data": {
            "text/plain": [
              "((37126, 80), (12375, 80))"
            ]
          },
          "metadata": {
            "tags": []
          },
          "execution_count": 17
        }
      ]
    },
    {
      "cell_type": "markdown",
      "metadata": {
        "id": "B2044iBHebjp",
        "colab_type": "text"
      },
      "source": [
        "### Naive Gaussian Bayes"
      ]
    },
    {
      "cell_type": "code",
      "metadata": {
        "id": "KvfY8mS_ebjq",
        "colab_type": "code",
        "colab": {}
      },
      "source": [
        "# Instantiate Gaussian Naive Bayes and fit\n",
        "np.random.seed(42)\n",
        "naive_bayes_pca_clf = GaussianNB().fit(X_train_pca, y_train)"
      ],
      "execution_count": 0,
      "outputs": []
    },
    {
      "cell_type": "markdown",
      "metadata": {
        "id": "_Nw4UD7FwEet",
        "colab_type": "text"
      },
      "source": [
        "#### Create An Evaluation Helper Function"
      ]
    },
    {
      "cell_type": "code",
      "metadata": {
        "id": "BfcSX6EPebjv",
        "colab_type": "code",
        "colab": {}
      },
      "source": [
        "# Create k-fold cross-validation\n",
        "skf = StratifiedKFold(n_splits=6,\n",
        "                      shuffle=True,\n",
        "                      random_state=42)\n",
        "\n",
        "# Create a dictionary of scoring metrics\n",
        "scoring = {'accuracy': 'accuracy',\n",
        "           'precision': make_scorer(precision_score, average='weighted'),\n",
        "           'recall': make_scorer(recall_score, average='weighted'),\n",
        "           'f1': make_scorer(f1_score, average='weighted'),\n",
        "           'log_loss': 'neg_log_loss'}\n",
        "\n",
        "# Create helper function for cross-validated scores\n",
        "def average_score_on_cross_val_classification(clf, X, y, scoring=scoring, cv=skf):\n",
        "    \"\"\"\n",
        "    Evaluates a given model/estimator using cross-validation\n",
        "    and returns a dict containing the absolute vlues of the average (mean) scores\n",
        "    for classification models.\n",
        "\n",
        "    clf: scikit-learn classification model\n",
        "    X: features (no labels)\n",
        "    y: labels\n",
        "    scoring: a dictionary of scoring metrics\n",
        "    cv: cross-validation strategy\n",
        "    \"\"\"\n",
        "    # Score metrics on cross-validated dataset\n",
        "    scores_dict = cross_validate(clf, X, y, scoring=scoring, cv=skf, n_jobs=-1)\n",
        "    \n",
        "    # return the average scores for each metric\n",
        "    return {metric: round(np.mean(scores), 5) for metric, scores in scores_dict.items()}"
      ],
      "execution_count": 0,
      "outputs": []
    },
    {
      "cell_type": "code",
      "metadata": {
        "id": "THEsywtlebjz",
        "colab_type": "code",
        "outputId": "1cd19fac-7564-48b9-eb73-138eb3dcf108",
        "colab": {
          "base_uri": "https://localhost:8080/",
          "height": 136
        }
      },
      "source": [
        "# Score model\n",
        "naive_bayes_pca_metrics = average_score_on_cross_val_classification(naive_bayes_pca_clf, X, y)\n",
        "naive_bayes_pca_metrics"
      ],
      "execution_count": 0,
      "outputs": [
        {
          "output_type": "execute_result",
          "data": {
            "text/plain": [
              "{'fit_time': 0.14623,\n",
              " 'score_time': 0.13698,\n",
              " 'test_accuracy': 0.61495,\n",
              " 'test_f1': 0.62373,\n",
              " 'test_log_loss': -7.36627,\n",
              " 'test_precision': 0.6697,\n",
              " 'test_recall': 0.61495}"
            ]
          },
          "metadata": {
            "tags": []
          },
          "execution_count": 20
        }
      ]
    },
    {
      "cell_type": "code",
      "metadata": {
        "id": "Q8nzx-2Bebj4",
        "colab_type": "code",
        "colab": {}
      },
      "source": [
        "# Make predictions\n",
        "y_preds_naive_bayes_pca = naive_bayes_pca_clf.predict(X_val_pca)\n",
        "y_preds_naive_bayes_proba_pca = naive_bayes_pca_clf.predict_proba(X_val_pca)"
      ],
      "execution_count": 0,
      "outputs": []
    },
    {
      "cell_type": "code",
      "metadata": {
        "id": "ELMjelwqebj7",
        "colab_type": "code",
        "outputId": "32e347b3-f822-498a-c2af-99ffa32cdc49",
        "colab": {
          "base_uri": "https://localhost:8080/",
          "height": 34
        }
      },
      "source": [
        "# Multi-class log loss on predictions\n",
        "log_loss(y_val, y_preds_naive_bayes_proba_pca)"
      ],
      "execution_count": 0,
      "outputs": [
        {
          "output_type": "execute_result",
          "data": {
            "text/plain": [
              "9.930282677416743"
            ]
          },
          "metadata": {
            "tags": []
          },
          "execution_count": 22
        }
      ]
    },
    {
      "cell_type": "markdown",
      "metadata": {
        "id": "VVgSK7dEebkA",
        "colab_type": "text"
      },
      "source": [
        "**Note**: In the competition, the best score was 0.38242!\n",
        "Naive Gaussian Bayes doesn't do well here!"
      ]
    },
    {
      "cell_type": "code",
      "metadata": {
        "id": "AjoSpMAdebkB",
        "colab_type": "code",
        "outputId": "093d293c-64d2-45e0-dc5e-5084b58301b5",
        "colab": {
          "base_uri": "https://localhost:8080/",
          "height": 318
        }
      },
      "source": [
        "# Confusion Matrix\n",
        "naive_bayes_pca_conf_mat = confusion_matrix(y_val, y_preds_naive_bayes_pca)\n",
        "\n",
        "sns.set(font_scale=1.5)\n",
        "sns.heatmap(naive_bayes_pca_conf_mat.T, annot=True, fmt='d', annot_kws={'size': 16}, cmap='Blues', cbar=False)\n",
        "plt.xlabel('test labels')\n",
        "plt.ylabel('predicted labels')\n",
        "plt.title('Confusion Matrix for Naive Bayes on PCA-reduced dataset');"
      ],
      "execution_count": 0,
      "outputs": [
        {
          "output_type": "display_data",
          "data": {
            "image/png": "[encoded data removed]",
            "text/plain": [
              "<Figure size 432x288 with 1 Axes>"
            ]
          },
          "metadata": {
            "tags": []
          }
        }
      ]
    },
    {
      "cell_type": "markdown",
      "metadata": {
        "id": "8czT0fHGebkF",
        "colab_type": "text"
      },
      "source": [
        "### Random Forest Classification"
      ]
    },
    {
      "cell_type": "code",
      "metadata": {
        "id": "YXQRmw2mebkG",
        "colab_type": "code",
        "colab": {}
      },
      "source": [
        "# Initialize and fit Random Forest Classifier\n",
        "rf_pca_clf = RandomForestClassifier(max_samples=8000,\n",
        "                                    random_state=42).fit(X_train_pca, y_train)"
      ],
      "execution_count": 0,
      "outputs": []
    },
    {
      "cell_type": "code",
      "metadata": {
        "id": "TBzjVhA9ebkL",
        "colab_type": "code",
        "outputId": "09fd6160-34ec-4cd9-b557-dd2add0c70d4",
        "colab": {
          "base_uri": "https://localhost:8080/",
          "height": 190
        }
      },
      "source": [
        "# Show scores\n",
        "rf_pca_metrics = average_score_on_cross_val_classification(rf_pca_clf, X, y)\n",
        "rf_pca_metrics"
      ],
      "execution_count": 0,
      "outputs": [
        {
          "output_type": "stream",
          "text": [
            "/usr/local/lib/python3.6/dist-packages/joblib/externals/loky/process_executor.py:706: UserWarning: A worker stopped while some jobs were given to the executor. This can be caused by a too short worker timeout or by a memory leak.\n",
            "  \"timeout or by a memory leak.\", UserWarning\n"
          ],
          "name": "stderr"
        },
        {
          "output_type": "execute_result",
          "data": {
            "text/plain": [
              "{'fit_time': 4.28667,\n",
              " 'score_time': 0.59074,\n",
              " 'test_accuracy': 0.78474,\n",
              " 'test_f1': 0.76797,\n",
              " 'test_log_loss': -0.67992,\n",
              " 'test_precision': 0.7873,\n",
              " 'test_recall': 0.78474}"
            ]
          },
          "metadata": {
            "tags": []
          },
          "execution_count": 25
        }
      ]
    },
    {
      "cell_type": "code",
      "metadata": {
        "id": "Sk3hNgQbebkQ",
        "colab_type": "code",
        "colab": {}
      },
      "source": [
        "# Create predictions\n",
        "y_preds_rf_pca = rf_pca_clf.predict(X_val_pca)\n",
        "y_preds_rf_proba_pca = rf_pca_clf.predict_proba(X_val_pca)"
      ],
      "execution_count": 0,
      "outputs": []
    },
    {
      "cell_type": "code",
      "metadata": {
        "id": "Dh4HMHjCebkU",
        "colab_type": "code",
        "outputId": "f8af1e66-b8ab-414d-89c9-d0bb042cd7c6",
        "colab": {
          "base_uri": "https://localhost:8080/",
          "height": 34
        }
      },
      "source": [
        "log_loss(y_val, y_preds_rf_proba_pca)"
      ],
      "execution_count": 0,
      "outputs": [
        {
          "output_type": "execute_result",
          "data": {
            "text/plain": [
              "1.8878895991007871"
            ]
          },
          "metadata": {
            "tags": []
          },
          "execution_count": 27
        }
      ]
    },
    {
      "cell_type": "code",
      "metadata": {
        "id": "NlYnKMMsebkY",
        "colab_type": "code",
        "outputId": "ef80d968-0804-4b71-ae6b-224619f1e89d",
        "colab": {
          "base_uri": "https://localhost:8080/",
          "height": 318
        }
      },
      "source": [
        "# Confusion Matrix\n",
        "rf_pca_conf_mat = confusion_matrix(y_val, y_preds_rf_pca)\n",
        "\n",
        "sns.set(font_scale=1.5)\n",
        "sns.heatmap(rf_pca_conf_mat.T, annot=True, fmt='d', annot_kws={'size': 16}, cmap='Blues', cbar=False)\n",
        "plt.xlabel('test labels')\n",
        "plt.ylabel('predicted labels')\n",
        "plt.title('Confusion Matrix for Random Forest Classifier on PCA-reduced dataset');"
      ],
      "execution_count": 0,
      "outputs": [
        {
          "output_type": "display_data",
          "data": {
            "image/png": "[encoded data removed]",
            "text/plain": [
              "<Figure size 432x288 with 1 Axes>"
            ]
          },
          "metadata": {
            "tags": []
          }
        }
      ]
    },
    {
      "cell_type": "code",
      "metadata": {
        "id": "-aQYm_VAebkf",
        "colab_type": "code",
        "outputId": "c6d206f1-4d1f-4934-c51e-6558dc23696b",
        "colab": {
          "base_uri": "https://localhost:8080/",
          "height": 392
        }
      },
      "source": [
        "# Visualize cross-validated metrics\n",
        "compare_metrics_df = pd.DataFrame({'Naive Bayes (PCA)': naive_bayes_pca_metrics,\n",
        "                                   'Random Forest Classifier (PCA)': rf_pca_metrics},\n",
        "                                  index=naive_bayes_pca_metrics.keys())\n",
        "\n",
        "compare_metrics_df.plot(title='Metrics for PCA-reduced Dataset (cross-validated)',\n",
        "                        color=['lightblue', 'salmon'],\n",
        "                        kind='bar');"
      ],
      "execution_count": 0,
      "outputs": [
        {
          "output_type": "display_data",
          "data": {
            "image/png": "[encoded data removed]",
            "text/plain": [
              "<Figure size 432x288 with 1 Axes>"
            ]
          },
          "metadata": {
            "tags": []
          }
        }
      ]
    },
    {
      "cell_type": "markdown",
      "metadata": {
        "id": "f00JEJX7ebkp",
        "colab_type": "text"
      },
      "source": [
        "### Experiments With Feature Engineering"
      ]
    },
    {
      "cell_type": "code",
      "metadata": {
        "id": "bypDUdfi5qfX",
        "colab_type": "code",
        "outputId": "e945a403-7a07-4600-81f4-d731ac9b1a5c",
        "colab": {
          "base_uri": "https://localhost:8080/",
          "height": 1000
        }
      },
      "source": [
        "# let's look at the different number of labels in each variable (cardinality)\n",
        "\n",
        "# columns in the dataset without target and id\n",
        "data = df.drop(['id', 'target'], axis=1)\n",
        "\n",
        "cat_cols = data.columns\n",
        "\n",
        "for col in cat_cols:\n",
        "    print('variable: ', col, ' number of labels: ', X[col].nunique())\n",
        "\n",
        "print('total products: ', len(X))"
      ],
      "execution_count": 0,
      "outputs": [
        {
          "output_type": "stream",
          "text": [
            "variable:  feat_1  number of labels:  42\n",
            "variable:  feat_2  number of labels:  37\n",
            "variable:  feat_3  number of labels:  48\n",
            "variable:  feat_4  number of labels:  59\n",
            "variable:  feat_5  number of labels:  15\n",
            "variable:  feat_6  number of labels:  9\n",
            "variable:  feat_7  number of labels:  30\n",
            "variable:  feat_8  number of labels:  55\n",
            "variable:  feat_9  number of labels:  40\n",
            "variable:  feat_10  number of labels:  26\n",
            "variable:  feat_11  number of labels:  28\n",
            "variable:  feat_12  number of labels:  20\n",
            "variable:  feat_13  number of labels:  51\n",
            "variable:  feat_14  number of labels:  32\n",
            "variable:  feat_15  number of labels:  37\n",
            "variable:  feat_16  number of labels:  28\n",
            "variable:  feat_17  number of labels:  40\n",
            "variable:  feat_18  number of labels:  30\n",
            "variable:  feat_19  number of labels:  105\n",
            "variable:  feat_20  number of labels:  27\n",
            "variable:  feat_21  number of labels:  15\n",
            "variable:  feat_22  number of labels:  21\n",
            "variable:  feat_23  number of labels:  24\n",
            "variable:  feat_24  number of labels:  66\n",
            "variable:  feat_25  number of labels:  28\n",
            "variable:  feat_26  number of labels:  31\n",
            "variable:  feat_27  number of labels:  55\n",
            "variable:  feat_28  number of labels:  21\n",
            "variable:  feat_29  number of labels:  50\n",
            "variable:  feat_30  number of labels:  51\n",
            "variable:  feat_31  number of labels:  29\n",
            "variable:  feat_32  number of labels:  40\n",
            "variable:  feat_33  number of labels:  20\n",
            "variable:  feat_34  number of labels:  49\n",
            "variable:  feat_35  number of labels:  78\n",
            "variable:  feat_36  number of labels:  58\n",
            "variable:  feat_37  number of labels:  18\n",
            "variable:  feat_38  number of labels:  36\n",
            "variable:  feat_39  number of labels:  77\n",
            "variable:  feat_40  number of labels:  41\n",
            "variable:  feat_41  number of labels:  31\n",
            "variable:  feat_42  number of labels:  39\n",
            "variable:  feat_43  number of labels:  28\n",
            "variable:  feat_44  number of labels:  26\n",
            "variable:  feat_45  number of labels:  76\n",
            "variable:  feat_46  number of labels:  39\n",
            "variable:  feat_47  number of labels:  39\n",
            "variable:  feat_48  number of labels:  47\n",
            "variable:  feat_49  number of labels:  35\n",
            "variable:  feat_50  number of labels:  56\n",
            "variable:  feat_51  number of labels:  22\n",
            "variable:  feat_52  number of labels:  36\n",
            "variable:  feat_53  number of labels:  42\n",
            "variable:  feat_54  number of labels:  53\n",
            "variable:  feat_55  number of labels:  26\n",
            "variable:  feat_56  number of labels:  54\n",
            "variable:  feat_57  number of labels:  27\n",
            "variable:  feat_58  number of labels:  87\n",
            "variable:  feat_59  number of labels:  63\n",
            "variable:  feat_60  number of labels:  39\n",
            "variable:  feat_61  number of labels:  23\n",
            "variable:  feat_62  number of labels:  40\n",
            "variable:  feat_63  number of labels:  28\n",
            "variable:  feat_64  number of labels:  49\n",
            "variable:  feat_65  number of labels:  25\n",
            "variable:  feat_66  number of labels:  34\n",
            "variable:  feat_67  number of labels:  72\n",
            "variable:  feat_68  number of labels:  39\n",
            "variable:  feat_69  number of labels:  65\n",
            "variable:  feat_70  number of labels:  35\n",
            "variable:  feat_71  number of labels:  28\n",
            "variable:  feat_72  number of labels:  31\n",
            "variable:  feat_73  number of labels:  115\n",
            "variable:  feat_74  number of labels:  101\n",
            "variable:  feat_75  number of labels:  70\n",
            "variable:  feat_76  number of labels:  61\n",
            "variable:  feat_77  number of labels:  24\n",
            "variable:  feat_78  number of labels:  70\n",
            "variable:  feat_79  number of labels:  22\n",
            "variable:  feat_80  number of labels:  41\n",
            "variable:  feat_81  number of labels:  19\n",
            "variable:  feat_82  number of labels:  23\n",
            "variable:  feat_83  number of labels:  57\n",
            "variable:  feat_84  number of labels:  42\n",
            "variable:  feat_85  number of labels:  42\n",
            "variable:  feat_86  number of labels:  52\n",
            "variable:  feat_87  number of labels:  49\n",
            "variable:  feat_88  number of labels:  31\n",
            "variable:  feat_89  number of labels:  37\n",
            "variable:  feat_90  number of labels:  91\n",
            "variable:  feat_91  number of labels:  50\n",
            "variable:  feat_92  number of labels:  19\n",
            "variable:  feat_93  number of labels:  43\n",
            "total products:  61878\n"
          ],
          "name": "stdout"
        }
      ]
    },
    {
      "cell_type": "markdown",
      "metadata": {
        "id": "lQwlo4BCebks",
        "colab_type": "text"
      },
      "source": [
        "#### Linear Discriminant Analysis\n",
        "\n",
        "Find out how many components are required to get above 0.95 variance threshold.\n",
        "\n",
        "See also [Chris Albon's notes](https://chrisalbon.com/machine_learning/feature_engineering/lda_for_dimensionality_reduction/).\n",
        "\n",
        "From [Machine Learning Mastery](https://machinelearningmastery.com/linear-discriminant-analysis-for-machine-learning/):\n",
        "> Logistic regression is a simple and powerful linear classification algorithm. It also has limitations that suggest at the need for alternate linear classification algorithms.\n",
        "\n",
        "> * **Two-Class Problems**. Logistic regression is intended for two-class or binary classification problems. It can be extended for multi-class classification, but is rarely used for this purpose.\n",
        "> * **Unstable With Well Separated Classes**. Logistic regression can become unstable when the classes are well separated.\n",
        "> * **Unstable With Few Examples**. Logistic regression can become unstable when there are few examples from which to estimate the parameters.\n",
        "\n",
        "> Linear Discriminant Analysis does address each of these points and is the go-to linear method for multi-class classification problems. Even with binary-classification problems, it is a good idea to try both logistic regression and linear discriminant analysis."
      ]
    },
    {
      "cell_type": "code",
      "metadata": {
        "id": "UTYCec0mebkz",
        "colab_type": "code",
        "colab": {}
      },
      "source": [
        "# Create and fit LDA\n",
        "lda = LinearDiscriminantAnalysis(n_components=None)\n",
        "features_lda = lda.fit(X_train, y_train)\n",
        "\n",
        "# Create array of explained variance rations\n",
        "lda_var_ratios = lda.explained_variance_ratio_"
      ],
      "execution_count": 0,
      "outputs": []
    },
    {
      "cell_type": "code",
      "metadata": {
        "id": "BDEAz65Uebk7",
        "colab_type": "code",
        "colab": {}
      },
      "source": [
        "# Function for selecting n components\n",
        "def select_n_lda_components(var_ratio, goal_var):\n",
        "    # Set initial variance\n",
        "    total_variance = 0.0\n",
        "    # Set initial number of components\n",
        "    n_components = 0\n",
        "    # loop\n",
        "    for explained_variance in var_ratio:\n",
        "        # Add explained variance to total\n",
        "        total_variance += explained_variance\n",
        "        # Increment number of components\n",
        "        n_components += 1\n",
        "        # Stop loop if goal level of explained variance is met\n",
        "        if total_variance >= goal_var:\n",
        "            break\n",
        "    \n",
        "    return n_components"
      ],
      "execution_count": 0,
      "outputs": []
    },
    {
      "cell_type": "code",
      "metadata": {
        "id": "3ixKHcIoeblA",
        "colab_type": "code",
        "outputId": "2d1e8037-fb9a-466d-a893-01c91472738e",
        "colab": {
          "base_uri": "https://localhost:8080/",
          "height": 34
        }
      },
      "source": [
        "lda_components = select_n_lda_components(lda_var_ratios, 0.95)\n",
        "lda_components"
      ],
      "execution_count": 0,
      "outputs": [
        {
          "output_type": "execute_result",
          "data": {
            "text/plain": [
              "5"
            ]
          },
          "metadata": {
            "tags": []
          },
          "execution_count": 33
        }
      ]
    },
    {
      "cell_type": "markdown",
      "metadata": {
        "id": "wGTiNwzSeblD",
        "colab_type": "text"
      },
      "source": [
        "#### Truncated Singular Value Decomposition (TSVD)\n",
        "\n",
        "The dataset shows that this challenge provides a **sparse feature matrix**.\n",
        "\n",
        "_Truncated SVD_ is an ideal candidate:\n",
        "\n",
        "From the [sci-kit learn documentation](https://scikit-learn.org/stable/modules/generated/sklearn.decomposition.TruncatedSVD.html):\n",
        "\n",
        "> This transformer performs linear dimensionality reduction by means of truncated singular value decomposition (SVD). Contrary to PCA, this estimator does not center the data before computing the singular value decomposition. This means it can work with scipy.sparse matrices efficiently\n",
        "\n",
        "See also [Chris Albon's notes](https://chrisalbon.com/machine_learning/feature_engineering/dimensionality_reduction_on_sparse_feature_matrix/)."
      ]
    },
    {
      "cell_type": "code",
      "metadata": {
        "colab_type": "code",
        "outputId": "db6853b6-434f-4fda-fbbd-e8ed51bbb72c",
        "id": "XfpfP5yh-x61",
        "colab": {
          "base_uri": "https://localhost:8080/",
          "height": 414
        }
      },
      "source": [
        "# Visualize dataset with TSVD\n",
        "\n",
        "# instantiate model with 2 dimensions\n",
        "tsvd = TruncatedSVD(n_components=2)\n",
        "\n",
        "# project from 93 to 2 dimensions\n",
        "projected = tsvd.fit_transform(X, y)\n",
        "\n",
        "# plot\n",
        "plt.figure(figsize=(10,6))\n",
        "plt.scatter(projected[:,0], projected[:,1],\n",
        "            c=df.target, edgecolor='none', alpha=0.5,\n",
        "            cmap=plt.get_cmap('Spectral', 10))\n",
        "plt.xlabel('TSVD 1')\n",
        "plt.ylabel('TSVD 2')\n",
        "plt.colorbar(label='Categories');"
      ],
      "execution_count": 0,
      "outputs": [
        {
          "output_type": "display_data",
          "data": {
            "image/png": "[encoded data removed]",
            "text/plain": [
              "<Figure size 720x432 with 2 Axes>"
            ]
          },
          "metadata": {
            "tags": []
          }
        }
      ]
    },
    {
      "cell_type": "code",
      "metadata": {
        "id": "74UG5Z2jDwoQ",
        "colab_type": "code",
        "colab": {}
      },
      "source": [
        "# Standardize features\n",
        "X_train_std = StandardScaler().fit_transform(X_train)\n",
        "X_val_std = StandardScaler().fit_transform(X_val)"
      ],
      "execution_count": 0,
      "outputs": []
    },
    {
      "cell_type": "code",
      "metadata": {
        "id": "xUD8n0bfeblE",
        "colab_type": "code",
        "colab": {}
      },
      "source": [
        "# Create and run TSVD with one less than number of (sparse) features\n",
        "tsvd = TruncatedSVD(n_components=X_train_std.shape[1]-1)\n",
        "features_tsvd = tsvd.fit(X_train_std)\n",
        "\n",
        "# List of explained variances\n",
        "tsvd_var_ratios = tsvd.explained_variance_ratio_"
      ],
      "execution_count": 0,
      "outputs": []
    },
    {
      "cell_type": "code",
      "metadata": {
        "id": "xDcNzziieblN",
        "colab_type": "code",
        "colab": {}
      },
      "source": [
        "# Create a function\n",
        "def select_n_tsvd_components(var_ratio, goal_var):\n",
        "    # Set initial variance\n",
        "    total_variance = 0.0\n",
        "    # Set initial number of components\n",
        "    n_components = 0\n",
        "    # loop\n",
        "    for explained_variance in var_ratio:\n",
        "        # Add explained variance to total\n",
        "        total_variance += explained_variance\n",
        "        # Increment number of components\n",
        "        n_components += 1\n",
        "        # Stop loop if goal level of explained variance is met\n",
        "        if total_variance >= goal_var:\n",
        "            break\n",
        "    \n",
        "    return n_components "
      ],
      "execution_count": 0,
      "outputs": []
    },
    {
      "cell_type": "code",
      "metadata": {
        "id": "YxNzkdh0eblV",
        "colab_type": "code",
        "outputId": "ab6f2bb1-81aa-4b6b-ebb5-a12eea8587eb",
        "colab": {
          "base_uri": "https://localhost:8080/",
          "height": 34
        }
      },
      "source": [
        "tsvd_components = select_n_tsvd_components(tsvd_var_ratios, 0.95)\n",
        "tsvd_components"
      ],
      "execution_count": 0,
      "outputs": [
        {
          "output_type": "execute_result",
          "data": {
            "text/plain": [
              "77"
            ]
          },
          "metadata": {
            "tags": []
          },
          "execution_count": 38
        }
      ]
    },
    {
      "cell_type": "markdown",
      "metadata": {
        "id": "MLRHMotjeblc",
        "colab_type": "text"
      },
      "source": [
        "### Create Pipeline And Compare Different Models"
      ]
    },
    {
      "cell_type": "code",
      "metadata": {
        "id": "-4krjCDEebld",
        "colab_type": "code",
        "colab": {}
      },
      "source": [
        "# Create features union\n",
        "# Standardizes features, runs TSVD with best number of components, select 6 kbest features\n",
        "features = []\n",
        "features.append(('standardize', StandardScaler()))\n",
        "features.append(('tsvd', TruncatedSVD(n_components=tsvd_components)))\n",
        "features.append(('select best', SelectKBest(k=6)))\n",
        "feature_union = FeatureUnion(features)"
      ],
      "execution_count": 0,
      "outputs": []
    },
    {
      "cell_type": "code",
      "metadata": {
        "id": "Y0b5EIT0eblg",
        "colab_type": "code",
        "colab": {}
      },
      "source": [
        "# Create pipeline\n",
        "# combines feature union with scikit-learn estimator\n",
        "\n",
        "# Logistic Regression\n",
        "estimators_log_r =  []\n",
        "estimators_log_r.append(('feature_union', feature_union))\n",
        "estimators_log_r.append(('logistic', LogisticRegression(max_iter=5000, random_state=42)))\n",
        "model_log_r = Pipeline(estimators_log_r)\n",
        "\n",
        "# SVC\n",
        "estimators_svc = []\n",
        "estimators_svc.append(('feature_union', feature_union))\n",
        "estimators_svc.append(('svc', SVC(probability=True, random_state=42)))\n",
        "model_svc = Pipeline(estimators_svc)\n",
        "\n",
        "# Random Forest\n",
        "estimators_rf = []\n",
        "estimators_rf.append(('feature_union', feature_union))\n",
        "estimators_rf.append(('rf', RandomForestClassifier(n_jobs=-1, random_state=42)))\n",
        "model_rf = Pipeline(estimators_rf)\n",
        "\n",
        "models = {'Logistic_Regression': model_log_r,\n",
        "          'SVC': model_svc,\n",
        "          'Random_Forest_C': model_rf}"
      ],
      "execution_count": 0,
      "outputs": []
    },
    {
      "cell_type": "code",
      "metadata": {
        "colab_type": "code",
        "outputId": "4a305ec7-b6c3-4ad6-fc83-d96e04eb931f",
        "id": "Q8kufytfcZm6",
        "colab": {
          "base_uri": "https://localhost:8080/",
          "height": 153
        }
      },
      "source": [
        "# Fit models\n",
        "%%time\n",
        "\n",
        "for name, model in models.items():\n",
        "  print('Fitting model: ', name)\n",
        "  model.fit(X_train, y_train)\n",
        "  print(name, ': done.')"
      ],
      "execution_count": 0,
      "outputs": [
        {
          "output_type": "stream",
          "text": [
            "Fitting model:  Logistic_Regression\n",
            "Logistic_Regression : done.\n",
            "Fitting model:  SVC\n",
            "SVC : done.\n",
            "Fitting model:  Random_Forest_C\n",
            "Random_Forest_C : done.\n",
            "CPU times: user 15min 11s, sys: 37.5 s, total: 15min 49s\n",
            "Wall time: 14min 15s\n"
          ],
          "name": "stdout"
        }
      ]
    },
    {
      "cell_type": "code",
      "metadata": {
        "id": "di5vXRMhcdn1",
        "colab_type": "code",
        "colab": {}
      },
      "source": [
        "# Make predictions\n",
        "models_preds_proba = {name: model.predict_proba(X_val) for name, model in models.items()}"
      ],
      "execution_count": 0,
      "outputs": []
    },
    {
      "cell_type": "code",
      "metadata": {
        "id": "zNNmme7Megw7",
        "colab_type": "code",
        "outputId": "9b2dfc93-154f-4bd6-bc61-59379d9d3eb1",
        "colab": {
          "base_uri": "https://localhost:8080/",
          "height": 68
        }
      },
      "source": [
        "# Compute log loss function\n",
        "models_log_loss = {model_name: log_loss(y_val, proba_predictions) for model_name, proba_predictions in models_preds_proba.items()}\n",
        "models_log_loss"
      ],
      "execution_count": 0,
      "outputs": [
        {
          "output_type": "execute_result",
          "data": {
            "text/plain": [
              "{'Logistic_Regression': 0.6600080556833081,\n",
              " 'Random_Forest_C': 0.6587399591983326,\n",
              " 'SVC': 0.588920524382502}"
            ]
          },
          "metadata": {
            "tags": []
          },
          "execution_count": 43
        }
      ]
    },
    {
      "cell_type": "code",
      "metadata": {
        "id": "S-KGgKM4ebl5",
        "colab_type": "code",
        "outputId": "d7d293b4-e0fc-42f9-f230-f31fa40f6525",
        "colab": {
          "base_uri": "https://localhost:8080/",
          "height": 439
        }
      },
      "source": [
        "# Visualize metrics\n",
        "\n",
        "# Create Dataframe\n",
        "models_log_loss_df = pd.DataFrame(models_log_loss, index=['Log Loss']).T\n",
        "\n",
        "# Plot\n",
        "models_log_loss_df.plot(title='Multi-Class Logarithmic Loss',\n",
        "                        legend=False,\n",
        "                        kind='bar');"
      ],
      "execution_count": 0,
      "outputs": [
        {
          "output_type": "display_data",
          "data": {
            "image/png": "[encoded data removed]",
            "text/plain": [
              "<Figure size 432x288 with 1 Axes>"
            ]
          },
          "metadata": {
            "tags": []
          }
        }
      ]
    },
    {
      "cell_type": "markdown",
      "metadata": {
        "id": "ZqVKcniCmCH4",
        "colab_type": "text"
      },
      "source": [
        "**Note**: It seems like Support Vector Machine scores the best on the dataset."
      ]
    },
    {
      "cell_type": "markdown",
      "metadata": {
        "id": "-huogyQ3ebmB",
        "colab_type": "text"
      },
      "source": [
        "### Explore Support Vector Machine"
      ]
    },
    {
      "cell_type": "code",
      "metadata": {
        "id": "jsZTXH_TWLzh",
        "colab_type": "code",
        "colab": {}
      },
      "source": [
        "# preprocess data\n",
        "def preprocess_data(X, y,tsvd_components=tsvd_components, kbest=6):\n",
        "  \"\"\"\n",
        "  Runs preprocessing steps on the data.\n",
        "\n",
        "  X: features\n",
        "  y: labels\n",
        "  tsvd_compenents: number of n_components for TSVD\n",
        "  kbest: number of best features to select\n",
        "  \"\"\"\n",
        "  # StandardScaler \n",
        "  scaler = StandardScaler()\n",
        "  std_features = scaler.fit_transform(X)\n",
        "\n",
        "  # TSVD\n",
        "  svd = TruncatedSVD(n_components=tsvd_components, random_state=42)\n",
        "  svd_features = svd.fit_transform(std_features)\n",
        "\n",
        "  # Kbest\n",
        "  kb = SelectKBest(k=kbest)\n",
        "  features = kb.fit_transform(X, y)\n",
        "\n",
        "  return features"
      ],
      "execution_count": 0,
      "outputs": []
    },
    {
      "cell_type": "code",
      "metadata": {
        "id": "085dwrShXfIW",
        "colab_type": "code",
        "outputId": "d301744e-5fcd-4edd-d49d-48ff1c9b60de",
        "colab": {
          "base_uri": "https://localhost:8080/",
          "height": 34
        }
      },
      "source": [
        "X_preproc = preprocess_data(X_train, y_train)\n",
        "X_preproc.shape"
      ],
      "execution_count": 0,
      "outputs": [
        {
          "output_type": "execute_result",
          "data": {
            "text/plain": [
              "(37126, 6)"
            ]
          },
          "metadata": {
            "tags": []
          },
          "execution_count": 46
        }
      ]
    },
    {
      "cell_type": "code",
      "metadata": {
        "id": "mbg5CdV2SslS",
        "colab_type": "code",
        "colab": {}
      },
      "source": [
        "# Create model\n",
        "svc = SVC(probability=True,\n",
        "          class_weight='balanced',\n",
        "          random_state=42)\n",
        "\n",
        "# Create space of candidate values\n",
        "search_space = [{'C': [0.001, 0.01, 0.1, 1],\n",
        "                 'gamma': ['scale', 0.1, 1]}]\n",
        "\n",
        "# Create Random Search\n",
        "model = RandomizedSearchCV(svc,\n",
        "                           search_space,\n",
        "                           n_iter=5,\n",
        "                           cv=3,\n",
        "                           scoring='neg_log_loss',\n",
        "                           verbose=True,\n",
        "                           n_jobs=-1)"
      ],
      "execution_count": 0,
      "outputs": []
    },
    {
      "cell_type": "code",
      "metadata": {
        "id": "TQVapURTUSfk",
        "colab_type": "code",
        "outputId": "159ef643-6280-4b18-cf54-bba7a85cb01a",
        "colab": {
          "base_uri": "https://localhost:8080/",
          "height": 102
        }
      },
      "source": [
        "# Conduct Search on small subset of training data\n",
        "%%time\n",
        "\n",
        "best_model = model.fit(X_preproc[:5000], y_train[:5000])"
      ],
      "execution_count": 0,
      "outputs": [
        {
          "output_type": "stream",
          "text": [
            "Fitting 3 folds for each of 5 candidates, totalling 15 fits\n"
          ],
          "name": "stdout"
        },
        {
          "output_type": "stream",
          "text": [
            "[Parallel(n_jobs=-1)]: Using backend LokyBackend with 2 concurrent workers.\n",
            "[Parallel(n_jobs=-1)]: Done  15 out of  15 | elapsed:   45.2s finished\n"
          ],
          "name": "stderr"
        },
        {
          "output_type": "stream",
          "text": [
            "CPU times: user 6 s, sys: 44.7 ms, total: 6.04 s\n",
            "Wall time: 51.1 s\n"
          ],
          "name": "stdout"
        }
      ]
    },
    {
      "cell_type": "code",
      "metadata": {
        "id": "cHQ_DTVaUp-R",
        "colab_type": "code",
        "outputId": "be1d6309-246b-46b4-f625-aa4a2c1ec429",
        "colab": {
          "base_uri": "https://localhost:8080/",
          "height": 51
        }
      },
      "source": [
        "# View best params\n",
        "print('Best C: ', best_model.best_estimator_.get_params()['C'])\n",
        "print('Best gamma: ', best_model.best_estimator_.get_params()['gamma'])"
      ],
      "execution_count": 0,
      "outputs": [
        {
          "output_type": "stream",
          "text": [
            "Best C:  1\n",
            "Best gamma:  0.1\n"
          ],
          "name": "stdout"
        }
      ]
    },
    {
      "cell_type": "markdown",
      "metadata": {
        "id": "twkTQ26U3uRq",
        "colab_type": "text"
      },
      "source": [
        "### Build SVC Model Pipeline With Hyper-Tuned Parameters"
      ]
    },
    {
      "cell_type": "code",
      "metadata": {
        "colab_type": "code",
        "id": "3Nd9A5Dy4BS-",
        "colab": {}
      },
      "source": [
        "# Create features union\n",
        "# Standardizes features, runs TSVD with best number of components, select 6 kbest features\n",
        "features = [('standardize', StandardScaler()),\n",
        "            ('tsvd', TruncatedSVD(n_components=tsvd_components)),\n",
        "            ('select best', SelectKBest(k=6))]\n",
        "            \n",
        "feature_union = FeatureUnion(features)"
      ],
      "execution_count": 0,
      "outputs": []
    },
    {
      "cell_type": "code",
      "metadata": {
        "colab_type": "code",
        "id": "efeFaI0r4PBY",
        "colab": {}
      },
      "source": [
        "# Create pipeline\n",
        "# combines feature union with scikit-learn estimator\n",
        "\n",
        "# SVC\n",
        "estimators_svc = [('feature_union', feature_union),\n",
        "                  ('svc', SVC(probability=True,\n",
        "                              class_weight='balanced',\n",
        "                              C=1.0,\n",
        "                              gamma=0.1,\n",
        "                              random_state=42))]\n",
        "\n",
        "model = Pipeline(estimators_svc)"
      ],
      "execution_count": 0,
      "outputs": []
    },
    {
      "cell_type": "code",
      "metadata": {
        "id": "JCsi7_k45EPX",
        "colab_type": "code",
        "outputId": "78b971c0-9b32-4cf6-c865-129344116fd3",
        "colab": {
          "base_uri": "https://localhost:8080/",
          "height": 476
        }
      },
      "source": [
        "# Fit model\n",
        "%%time\n",
        "\n",
        "model.fit(X_train, y_train)"
      ],
      "execution_count": 0,
      "outputs": [
        {
          "output_type": "stream",
          "text": [
            "CPU times: user 1h 49min 4s, sys: 4.91 s, total: 1h 49min 9s\n",
            "Wall time: 1h 49min 13s\n"
          ],
          "name": "stdout"
        },
        {
          "output_type": "execute_result",
          "data": {
            "text/plain": [
              "Pipeline(memory=None,\n",
              "         steps=[('feature_union',\n",
              "                 FeatureUnion(n_jobs=None,\n",
              "                              transformer_list=[('standardize',\n",
              "                                                 StandardScaler(copy=True,\n",
              "                                                                with_mean=True,\n",
              "                                                                with_std=True)),\n",
              "                                                ('tsvd',\n",
              "                                                 TruncatedSVD(algorithm='randomized',\n",
              "                                                              n_components=77,\n",
              "                                                              n_iter=5,\n",
              "                                                              random_state=None,\n",
              "                                                              tol=0.0)),\n",
              "                                                ('select best',\n",
              "                                                 SelectKBest(k=6,\n",
              "                                                             score_func=<function f_classif at 0x7fc917644f28>))],\n",
              "                              transformer_weights=None, verbose=False)),\n",
              "                ('svc',\n",
              "                 SVC(C=1.0, break_ties=False, cache_size=200,\n",
              "                     class_weight='balanced', coef0=0.0,\n",
              "                     decision_function_shape='ovr', degree=3, gamma=0.1,\n",
              "                     kernel='rbf', max_iter=-1, probability=True,\n",
              "                     random_state=42, shrinking=True, tol=0.001,\n",
              "                     verbose=False))],\n",
              "         verbose=False)"
            ]
          },
          "metadata": {
            "tags": []
          },
          "execution_count": 70
        }
      ]
    },
    {
      "cell_type": "markdown",
      "metadata": {
        "id": "JNqzjvj6AGnv",
        "colab_type": "text"
      },
      "source": [
        "### Save model"
      ]
    },
    {
      "cell_type": "code",
      "metadata": {
        "id": "Xe4kSrhZnwPh",
        "colab_type": "code",
        "colab": {}
      },
      "source": [
        "import pickle"
      ],
      "execution_count": 0,
      "outputs": []
    },
    {
      "cell_type": "code",
      "metadata": {
        "id": "TDgpDM7TAYnn",
        "colab_type": "code",
        "colab": {}
      },
      "source": [
        "# Save model\n",
        "if os.getenv('COLAB'):\n",
        "  pickle.dump(model, open('/content/drive/My Drive/Colab Notebooks/models/kaggle-otto-model-2.pkl', 'wb'))\n",
        "else:\n",
        "  pickle.dump(model, open('../../data/kaggle-otto-model-2.pkl', 'wb'))"
      ],
      "execution_count": 0,
      "outputs": []
    },
    {
      "cell_type": "code",
      "metadata": {
        "id": "OmT-If2GevXu",
        "colab_type": "code",
        "colab": {}
      },
      "source": [
        "# Import model\n",
        "if os.getenv('COLAB'):\n",
        "  model = pickle.load(open('/content/drive/My Drive/Colab Notebooks/models/kaggle-otto-model-2.pkl', 'rb'))\n",
        "else:\n",
        "  model = pickle.log(open('../../data/kaggle-otto-model-2.pkl', 'rb'))"
      ],
      "execution_count": 0,
      "outputs": []
    },
    {
      "cell_type": "markdown",
      "metadata": {
        "id": "nvD31iwRef4k",
        "colab_type": "text"
      },
      "source": [
        "#### Make Predictions on Test Data"
      ]
    },
    {
      "cell_type": "code",
      "metadata": {
        "id": "giD2ep5v5juR",
        "colab_type": "code",
        "colab": {}
      },
      "source": [
        "# Make predictions on subset of data\n",
        "y_preds = model.predict(X_test[:5000])\n",
        "y_preds_proba = model.predict_proba(X_test)"
      ],
      "execution_count": 0,
      "outputs": []
    },
    {
      "cell_type": "code",
      "metadata": {
        "id": "WNmaO7iel3G3",
        "colab_type": "code",
        "outputId": "4e0eeb58-4b5b-40df-d695-023582cb878e",
        "colab": {
          "base_uri": "https://localhost:8080/",
          "height": 34
        }
      },
      "source": [
        "# check logarithmic loss metric\n",
        "log_loss(y_true=y_test, y_pred=y_preds_proba)"
      ],
      "execution_count": 0,
      "outputs": [
        {
          "output_type": "execute_result",
          "data": {
            "text/plain": [
              "1.3549257118503082"
            ]
          },
          "metadata": {
            "tags": []
          },
          "execution_count": 117
        }
      ]
    },
    {
      "cell_type": "code",
      "metadata": {
        "id": "0SgwKfluebnK",
        "colab_type": "code",
        "outputId": "00adf750-5b4e-4926-dfc5-00f6121d6f77",
        "colab": {
          "base_uri": "https://localhost:8080/",
          "height": 318
        }
      },
      "source": [
        "# Confusion Matrix\n",
        "conf_mat = confusion_matrix(y_test[:5000], y_preds)\n",
        "sns.set(font_scale=1.5)\n",
        "sns.heatmap(conf_mat.T, annot=True, fmt='d', annot_kws={'size': 16}, cmap='Blues', cbar=False)\n",
        "plt.xlabel('test labels')\n",
        "plt.ylabel('predicted labels')\n",
        "plt.title('Confusion Matrix for SVC (on Subset of Test Set)');"
      ],
      "execution_count": 0,
      "outputs": [
        {
          "output_type": "display_data",
          "data": {
            "image/png": "[encoded data removed]",
            "text/plain": [
              "<Figure size 432x288 with 1 Axes>"
            ]
          },
          "metadata": {
            "tags": []
          }
        }
      ]
    },
    {
      "cell_type": "markdown",
      "metadata": {
        "id": "0YCQtCsaoClR",
        "colab_type": "text"
      },
      "source": [
        "### Make Predictions On Submission Data"
      ]
    },
    {
      "cell_type": "code",
      "metadata": {
        "id": "yDKsZSs4KVIr",
        "colab_type": "code",
        "outputId": "8815b0d7-616c-4927-8abc-b795f32475a4",
        "colab": {
          "base_uri": "https://localhost:8080/",
          "height": 34
        }
      },
      "source": [
        "model.classes_"
      ],
      "execution_count": 0,
      "outputs": [
        {
          "output_type": "execute_result",
          "data": {
            "text/plain": [
              "array([1, 2, 3, 4, 5, 6, 7, 8, 9], dtype=int8)"
            ]
          },
          "metadata": {
            "tags": []
          },
          "execution_count": 14
        }
      ]
    },
    {
      "cell_type": "code",
      "metadata": {
        "id": "JqEw8VdLoGEW",
        "colab_type": "code",
        "colab": {}
      },
      "source": [
        "# Drop id column, so data shapes line up\n",
        "df_submit = df_submission.drop('id', axis=1)"
      ],
      "execution_count": 0,
      "outputs": []
    },
    {
      "cell_type": "code",
      "metadata": {
        "id": "Z-yjDffioKH7",
        "colab_type": "code",
        "colab": {}
      },
      "source": [
        "y_preds_proba = model.predict_proba(df_submit)"
      ],
      "execution_count": 0,
      "outputs": []
    },
    {
      "cell_type": "code",
      "metadata": {
        "id": "G37qGg_PB5j7",
        "colab_type": "code",
        "outputId": "caa08e6c-af20-4fd1-f423-04f44820f8db",
        "colab": {
          "base_uri": "https://localhost:8080/",
          "height": 204
        }
      },
      "source": [
        "# Take a look at sample submission file\n",
        "if os.getenv('COLAB'):\n",
        "  sample_submission = pd.read_csv('/content/drive/My Drive/Colab Notebooks/data/otto/sampleSubmission.csv')\n",
        "else:\n",
        "  sample_submission = pd.read_csv('../../data/otto/sampleSubmission.csv')\n",
        "  \n",
        "sample_submission.head()"
      ],
      "execution_count": 0,
      "outputs": [
        {
          "output_type": "execute_result",
          "data": {
            "text/html": [
              "<div>\n",
              "<style scoped>\n",
              "    .dataframe tbody tr th:only-of-type {\n",
              "        vertical-align: middle;\n",
              "    }\n",
              "\n",
              "    .dataframe tbody tr th {\n",
              "        vertical-align: top;\n",
              "    }\n",
              "\n",
              "    .dataframe thead th {\n",
              "        text-align: right;\n",
              "    }\n",
              "</style>\n",
              "<table border=\"1\" class=\"dataframe\">\n",
              "  <thead>\n",
              "    <tr style=\"text-align: right;\">\n",
              "      <th></th>\n",
              "      <th>id</th>\n",
              "      <th>Class_1</th>\n",
              "      <th>Class_2</th>\n",
              "      <th>Class_3</th>\n",
              "      <th>Class_4</th>\n",
              "      <th>Class_5</th>\n",
              "      <th>Class_6</th>\n",
              "      <th>Class_7</th>\n",
              "      <th>Class_8</th>\n",
              "      <th>Class_9</th>\n",
              "    </tr>\n",
              "  </thead>\n",
              "  <tbody>\n",
              "    <tr>\n",
              "      <th>0</th>\n",
              "      <td>1</td>\n",
              "      <td>1</td>\n",
              "      <td>0</td>\n",
              "      <td>0</td>\n",
              "      <td>0</td>\n",
              "      <td>0</td>\n",
              "      <td>0</td>\n",
              "      <td>0</td>\n",
              "      <td>0</td>\n",
              "      <td>0</td>\n",
              "    </tr>\n",
              "    <tr>\n",
              "      <th>1</th>\n",
              "      <td>2</td>\n",
              "      <td>1</td>\n",
              "      <td>0</td>\n",
              "      <td>0</td>\n",
              "      <td>0</td>\n",
              "      <td>0</td>\n",
              "      <td>0</td>\n",
              "      <td>0</td>\n",
              "      <td>0</td>\n",
              "      <td>0</td>\n",
              "    </tr>\n",
              "    <tr>\n",
              "      <th>2</th>\n",
              "      <td>3</td>\n",
              "      <td>1</td>\n",
              "      <td>0</td>\n",
              "      <td>0</td>\n",
              "      <td>0</td>\n",
              "      <td>0</td>\n",
              "      <td>0</td>\n",
              "      <td>0</td>\n",
              "      <td>0</td>\n",
              "      <td>0</td>\n",
              "    </tr>\n",
              "    <tr>\n",
              "      <th>3</th>\n",
              "      <td>4</td>\n",
              "      <td>1</td>\n",
              "      <td>0</td>\n",
              "      <td>0</td>\n",
              "      <td>0</td>\n",
              "      <td>0</td>\n",
              "      <td>0</td>\n",
              "      <td>0</td>\n",
              "      <td>0</td>\n",
              "      <td>0</td>\n",
              "    </tr>\n",
              "    <tr>\n",
              "      <th>4</th>\n",
              "      <td>5</td>\n",
              "      <td>1</td>\n",
              "      <td>0</td>\n",
              "      <td>0</td>\n",
              "      <td>0</td>\n",
              "      <td>0</td>\n",
              "      <td>0</td>\n",
              "      <td>0</td>\n",
              "      <td>0</td>\n",
              "      <td>0</td>\n",
              "    </tr>\n",
              "  </tbody>\n",
              "</table>\n",
              "</div>"
            ],
            "text/plain": [
              "   id  Class_1  Class_2  Class_3  ...  Class_6  Class_7  Class_8  Class_9\n",
              "0   1        1        0        0  ...        0        0        0        0\n",
              "1   2        1        0        0  ...        0        0        0        0\n",
              "2   3        1        0        0  ...        0        0        0        0\n",
              "3   4        1        0        0  ...        0        0        0        0\n",
              "4   5        1        0        0  ...        0        0        0        0\n",
              "\n",
              "[5 rows x 10 columns]"
            ]
          },
          "metadata": {
            "tags": []
          },
          "execution_count": 22
        }
      ]
    },
    {
      "cell_type": "code",
      "metadata": {
        "id": "PF5F9yrv9PsU",
        "colab_type": "code",
        "outputId": "2b985023-63e3-4960-e370-83c65e5ab1fb",
        "colab": {
          "base_uri": "https://localhost:8080/",
          "height": 419
        }
      },
      "source": [
        "# Create submission DataFrame\n",
        "predictions = pd.DataFrame(y_preds_proba,\n",
        "                           columns=['Class_1', 'Class_2', 'Class_3', 'Class_4', 'Class_5', 'Class_6', 'Class_7', 'Class_8', 'Class_9'],\n",
        "                           index=df_submission.id)\n",
        "predictions.reset_index()"
      ],
      "execution_count": 0,
      "outputs": [
        {
          "output_type": "execute_result",
          "data": {
            "text/html": [
              "<div>\n",
              "<style scoped>\n",
              "    .dataframe tbody tr th:only-of-type {\n",
              "        vertical-align: middle;\n",
              "    }\n",
              "\n",
              "    .dataframe tbody tr th {\n",
              "        vertical-align: top;\n",
              "    }\n",
              "\n",
              "    .dataframe thead th {\n",
              "        text-align: right;\n",
              "    }\n",
              "</style>\n",
              "<table border=\"1\" class=\"dataframe\">\n",
              "  <thead>\n",
              "    <tr style=\"text-align: right;\">\n",
              "      <th></th>\n",
              "      <th>id</th>\n",
              "      <th>Class_1</th>\n",
              "      <th>Class_2</th>\n",
              "      <th>Class_3</th>\n",
              "      <th>Class_4</th>\n",
              "      <th>Class_5</th>\n",
              "      <th>Class_6</th>\n",
              "      <th>Class_7</th>\n",
              "      <th>Class_8</th>\n",
              "      <th>Class_9</th>\n",
              "    </tr>\n",
              "  </thead>\n",
              "  <tbody>\n",
              "    <tr>\n",
              "      <th>0</th>\n",
              "      <td>1</td>\n",
              "      <td>0.032487</td>\n",
              "      <td>0.175258</td>\n",
              "      <td>0.098992</td>\n",
              "      <td>0.041232</td>\n",
              "      <td>0.005469</td>\n",
              "      <td>0.349497</td>\n",
              "      <td>0.054234</td>\n",
              "      <td>0.150474</td>\n",
              "      <td>0.092356</td>\n",
              "    </tr>\n",
              "    <tr>\n",
              "      <th>1</th>\n",
              "      <td>2</td>\n",
              "      <td>0.033154</td>\n",
              "      <td>0.146953</td>\n",
              "      <td>0.083486</td>\n",
              "      <td>0.031705</td>\n",
              "      <td>0.005431</td>\n",
              "      <td>0.382701</td>\n",
              "      <td>0.054641</td>\n",
              "      <td>0.162959</td>\n",
              "      <td>0.098971</td>\n",
              "    </tr>\n",
              "    <tr>\n",
              "      <th>2</th>\n",
              "      <td>3</td>\n",
              "      <td>0.033154</td>\n",
              "      <td>0.146952</td>\n",
              "      <td>0.083485</td>\n",
              "      <td>0.031705</td>\n",
              "      <td>0.005431</td>\n",
              "      <td>0.382705</td>\n",
              "      <td>0.054640</td>\n",
              "      <td>0.162958</td>\n",
              "      <td>0.098970</td>\n",
              "    </tr>\n",
              "    <tr>\n",
              "      <th>3</th>\n",
              "      <td>4</td>\n",
              "      <td>0.033142</td>\n",
              "      <td>0.147483</td>\n",
              "      <td>0.083798</td>\n",
              "      <td>0.031740</td>\n",
              "      <td>0.005430</td>\n",
              "      <td>0.382149</td>\n",
              "      <td>0.054629</td>\n",
              "      <td>0.162773</td>\n",
              "      <td>0.098857</td>\n",
              "    </tr>\n",
              "    <tr>\n",
              "      <th>4</th>\n",
              "      <td>5</td>\n",
              "      <td>0.033176</td>\n",
              "      <td>0.146312</td>\n",
              "      <td>0.082809</td>\n",
              "      <td>0.031687</td>\n",
              "      <td>0.005437</td>\n",
              "      <td>0.381928</td>\n",
              "      <td>0.054613</td>\n",
              "      <td>0.162714</td>\n",
              "      <td>0.101324</td>\n",
              "    </tr>\n",
              "    <tr>\n",
              "      <th>...</th>\n",
              "      <td>...</td>\n",
              "      <td>...</td>\n",
              "      <td>...</td>\n",
              "      <td>...</td>\n",
              "      <td>...</td>\n",
              "      <td>...</td>\n",
              "      <td>...</td>\n",
              "      <td>...</td>\n",
              "      <td>...</td>\n",
              "      <td>...</td>\n",
              "    </tr>\n",
              "    <tr>\n",
              "      <th>144363</th>\n",
              "      <td>144364</td>\n",
              "      <td>0.050106</td>\n",
              "      <td>0.140115</td>\n",
              "      <td>0.075592</td>\n",
              "      <td>0.030587</td>\n",
              "      <td>0.005370</td>\n",
              "      <td>0.378429</td>\n",
              "      <td>0.054027</td>\n",
              "      <td>0.159868</td>\n",
              "      <td>0.105905</td>\n",
              "    </tr>\n",
              "    <tr>\n",
              "      <th>144364</th>\n",
              "      <td>144365</td>\n",
              "      <td>0.001444</td>\n",
              "      <td>0.278833</td>\n",
              "      <td>0.521982</td>\n",
              "      <td>0.177712</td>\n",
              "      <td>0.000949</td>\n",
              "      <td>0.002207</td>\n",
              "      <td>0.014187</td>\n",
              "      <td>0.001611</td>\n",
              "      <td>0.001075</td>\n",
              "    </tr>\n",
              "    <tr>\n",
              "      <th>144365</th>\n",
              "      <td>144366</td>\n",
              "      <td>0.033144</td>\n",
              "      <td>0.147043</td>\n",
              "      <td>0.084604</td>\n",
              "      <td>0.031715</td>\n",
              "      <td>0.005430</td>\n",
              "      <td>0.381924</td>\n",
              "      <td>0.054637</td>\n",
              "      <td>0.162711</td>\n",
              "      <td>0.098792</td>\n",
              "    </tr>\n",
              "    <tr>\n",
              "      <th>144366</th>\n",
              "      <td>144367</td>\n",
              "      <td>0.011844</td>\n",
              "      <td>0.345369</td>\n",
              "      <td>0.174104</td>\n",
              "      <td>0.403188</td>\n",
              "      <td>0.003206</td>\n",
              "      <td>0.012041</td>\n",
              "      <td>0.028492</td>\n",
              "      <td>0.011289</td>\n",
              "      <td>0.010468</td>\n",
              "    </tr>\n",
              "    <tr>\n",
              "      <th>144367</th>\n",
              "      <td>144368</td>\n",
              "      <td>0.007806</td>\n",
              "      <td>0.307332</td>\n",
              "      <td>0.496320</td>\n",
              "      <td>0.086530</td>\n",
              "      <td>0.003114</td>\n",
              "      <td>0.011447</td>\n",
              "      <td>0.073482</td>\n",
              "      <td>0.007589</td>\n",
              "      <td>0.006381</td>\n",
              "    </tr>\n",
              "  </tbody>\n",
              "</table>\n",
              "<p>144368 rows × 10 columns</p>\n",
              "</div>"
            ],
            "text/plain": [
              "            id   Class_1   Class_2  ...   Class_7   Class_8   Class_9\n",
              "0            1  0.032487  0.175258  ...  0.054234  0.150474  0.092356\n",
              "1            2  0.033154  0.146953  ...  0.054641  0.162959  0.098971\n",
              "2            3  0.033154  0.146952  ...  0.054640  0.162958  0.098970\n",
              "3            4  0.033142  0.147483  ...  0.054629  0.162773  0.098857\n",
              "4            5  0.033176  0.146312  ...  0.054613  0.162714  0.101324\n",
              "...        ...       ...       ...  ...       ...       ...       ...\n",
              "144363  144364  0.050106  0.140115  ...  0.054027  0.159868  0.105905\n",
              "144364  144365  0.001444  0.278833  ...  0.014187  0.001611  0.001075\n",
              "144365  144366  0.033144  0.147043  ...  0.054637  0.162711  0.098792\n",
              "144366  144367  0.011844  0.345369  ...  0.028492  0.011289  0.010468\n",
              "144367  144368  0.007806  0.307332  ...  0.073482  0.007589  0.006381\n",
              "\n",
              "[144368 rows x 10 columns]"
            ]
          },
          "metadata": {
            "tags": []
          },
          "execution_count": 23
        }
      ]
    },
    {
      "cell_type": "code",
      "metadata": {
        "id": "ROPjs2-ABcaJ",
        "colab_type": "code",
        "colab": {}
      },
      "source": [
        "# Save predictions to Google Drive\n",
        "if os.getenv('COLAB'):\n",
        "  predictions.to_csv('/content/drive/My Drive/Colab Notebooks/data/otto/submit-2.csv')\n",
        "else:\n",
        "  predictions.to_csv('../../data/otto/submit-2.csv')"
      ],
      "execution_count": 0,
      "outputs": []
    },
    {
      "cell_type": "markdown",
      "metadata": {
        "id": "0PTRVuDR979a",
        "colab_type": "text"
      },
      "source": [
        "**Note**: My initial workflow had a terrible error in reducing the number of features on which to train the model. That resulted in overfitting the model. I had a fabulous score on the training data, but a disastrous score on the submission data (aroud 8.19).\n",
        "\n",
        "The current submission is trainend on 77 features (reduced with TSVD) and scores 1.35 with the test data.\n",
        "Kaggle scores the model with 1.34 on the submission data.\n",
        "\n",
        "While this is a vast improvement over the original model, my version still scores significantly lower than the top submissions (around 0.38).\n",
        "\n",
        "**Learning Recap**: I learned about \n",
        "\n",
        "* feature reduction with different techniques (LDA, PCA, TSVD)\n",
        "* feature extraction and modelling pipeline\n",
        "* visualization methods with `seaborn`\n",
        "* what to do against overfitting a model\n",
        "* writing custom scoring methods with `make_scorer` and `cross_validate`"
      ]
    },
    {
      "cell_type": "code",
      "metadata": {
        "id": "MbsX7ZPg_jSz",
        "colab_type": "code",
        "colab": {}
      },
      "source": [
        ""
      ],
      "execution_count": 0,
      "outputs": []
    }
  ]
}
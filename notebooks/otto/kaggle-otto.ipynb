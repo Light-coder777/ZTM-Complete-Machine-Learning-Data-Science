{
  "nbformat": 4,
  "nbformat_minor": 0,
  "metadata": {
    "kernelspec": {
      "name": "python3",
      "display_name": "Python 3"
    },
    "language_info": {
      "codemirror_mode": {
        "name": "ipython",
        "version": 3
      },
      "file_extension": ".py",
      "mimetype": "text/x-python",
      "name": "python",
      "nbconvert_exporter": "python",
      "pygments_lexer": "ipython3",
      "version": "3.8.2"
    },
    "colab": {
      "name": "kaggle-otto.ipynb",
      "provenance": [],
      "collapsed_sections": []
    },
    "accelerator": "GPU"
  },
  "cells": [
    {
      "cell_type": "markdown",
      "metadata": {
        "id": "1Lw0oN9webiG",
        "colab_type": "text"
      },
      "source": [
        "# Otto Group Product Classification Challenge 🛍\n",
        "\n",
        "## 1. Problem Definition\n",
        "\n",
        "> How well can we classify future products into one of the main product categories?\n",
        "\n",
        "## 2. Data\n",
        "\n",
        "The data is downloaded from [Otto Group Product Classification Challenge](https://www.kaggle.com/c/otto-group-product-classification-challenge/overview).\n",
        "\n",
        "Each row corresponds to a single product. There are a total of **93 numerical features**, which **represent counts** of different events. All features have been obfuscated and will not be defined any further.\n",
        "\n",
        "There are **nine categories** for all products. Each target category represents one of our most important product categories (like fashion, electronics, etc.). The products for the training and testing sets are selected randomly.\n",
        "\n",
        "### File descriptions\n",
        "* trainData.csv - the training set\n",
        "* testData.csv - the test set\n",
        "* sampleSubmission.csv - a sample submission file in the correct format\n",
        "\n",
        "### Data fields\n",
        "* id - an anonymous id unique to a product\n",
        "* feat_1, feat_2, ..., feat_93 - the various features of a product\n",
        "* target - the class of a product\n",
        "\n",
        "## 3. Evaluation\n",
        "\n",
        "The evaluation for the competition is **multi-class logarithm loss**. See [Kaggle: Evaluation](https://www.kaggle.com/c/otto-group-product-classification-challenge/overview/evaluation).\n",
        "\n",
        "_Note_: Scikit-learn provides a utility function: [log_Loss](https://scikit-learn.org/stable/modules/generated/sklearn.metrics.log_loss.html).\n",
        "\n",
        "## 4. Features\n",
        "\n",
        "There are 93 numerical features, see 2. Data."
      ]
    },
    {
      "cell_type": "markdown",
      "metadata": {
        "id": "BFXLzPVPebiL",
        "colab_type": "text"
      },
      "source": [
        "## Imports and Data Exploration"
      ]
    },
    {
      "cell_type": "code",
      "metadata": {
        "id": "u6VbfAHJebiN",
        "colab_type": "code",
        "colab": {}
      },
      "source": [
        "# Regular EDA (exploratory data analysis) and plotting libraries\n",
        "import pandas as pd\n",
        "import numpy as np\n",
        "import matplotlib.pyplot as plt\n",
        "import seaborn as sns; sns.set()\n",
        "\n",
        "%matplotlib inline\n",
        "\n",
        "# Models from Scikit-Learn\n",
        "from sklearn.naive_bayes import GaussianNB\n",
        "from sklearn.linear_model import LogisticRegression\n",
        "from sklearn.svm import SVC\n",
        "from sklearn.ensemble import RandomForestClassifier\n",
        "\n",
        "# Model Evaluations\n",
        "from sklearn.preprocessing import StandardScaler\n",
        "from sklearn.decomposition import TruncatedSVD\n",
        "from sklearn.discriminant_analysis import LinearDiscriminantAnalysis\n",
        "from sklearn.pipeline import FeatureUnion, Pipeline\n",
        "from sklearn.model_selection import cross_val_predict, cross_validate, train_test_split, StratifiedKFold\n",
        "from sklearn.metrics import make_scorer, confusion_matrix, precision_score, f1_score, log_loss, recall_score"
      ],
      "execution_count": 0,
      "outputs": []
    },
    {
      "cell_type": "markdown",
      "metadata": {
        "id": "ifTsq0FAebiU",
        "colab_type": "text"
      },
      "source": [
        "### Load Data & EDA"
      ]
    },
    {
      "cell_type": "code",
      "metadata": {
        "id": "jWCJw4OjpvGu",
        "colab_type": "code",
        "colab": {
          "base_uri": "https://localhost:8080/",
          "height": 122
        },
        "outputId": "7b5ff7b5-c298-411a-aea8-9ca947e14d52"
      },
      "source": [
        "from google.colab import drive\n",
        "drive.mount('/content/drive')"
      ],
      "execution_count": 2,
      "outputs": [
        {
          "output_type": "stream",
          "text": [
            "Go to this URL in a browser: https://accounts.google.com/o/oauth2/auth?client_id=947318989803-6bn6qk8qdgf4n4g3pfee6491hc0brc4i.apps.googleusercontent.com&redirect_uri=urn%3aietf%3awg%3aoauth%3a2.0%3aoob&response_type=code&scope=email%20https%3a%2f%2fwww.googleapis.com%2fauth%2fdocs.test%20https%3a%2f%2fwww.googleapis.com%2fauth%2fdrive%20https%3a%2f%2fwww.googleapis.com%2fauth%2fdrive.photos.readonly%20https%3a%2f%2fwww.googleapis.com%2fauth%2fpeopleapi.readonly\n",
            "\n",
            "Enter your authorization code:\n",
            "··········\n",
            "Mounted at /content/drive\n"
          ],
          "name": "stdout"
        }
      ]
    },
    {
      "cell_type": "code",
      "metadata": {
        "id": "sqn8DsFgebiW",
        "colab_type": "code",
        "outputId": "48b7cf67-0fff-49d5-e8f3-ec6e3e7b4646",
        "colab": {
          "base_uri": "https://localhost:8080/",
          "height": 1000
        }
      },
      "source": [
        "df = pd.read_csv('/content/drive/My Drive/Colab Notebooks/data/otto/train.csv')\n",
        "df_valid = pd.read_csv('/content/drive/My Drive/Colab Notebooks/data/otto/test.csv')\n",
        "df.info()"
      ],
      "execution_count": 3,
      "outputs": [
        {
          "output_type": "stream",
          "text": [
            "<class 'pandas.core.frame.DataFrame'>\n",
            "RangeIndex: 61878 entries, 0 to 61877\n",
            "Data columns (total 95 columns):\n",
            "id         61878 non-null int64\n",
            "feat_1     61878 non-null int64\n",
            "feat_2     61878 non-null int64\n",
            "feat_3     61878 non-null int64\n",
            "feat_4     61878 non-null int64\n",
            "feat_5     61878 non-null int64\n",
            "feat_6     61878 non-null int64\n",
            "feat_7     61878 non-null int64\n",
            "feat_8     61878 non-null int64\n",
            "feat_9     61878 non-null int64\n",
            "feat_10    61878 non-null int64\n",
            "feat_11    61878 non-null int64\n",
            "feat_12    61878 non-null int64\n",
            "feat_13    61878 non-null int64\n",
            "feat_14    61878 non-null int64\n",
            "feat_15    61878 non-null int64\n",
            "feat_16    61878 non-null int64\n",
            "feat_17    61878 non-null int64\n",
            "feat_18    61878 non-null int64\n",
            "feat_19    61878 non-null int64\n",
            "feat_20    61878 non-null int64\n",
            "feat_21    61878 non-null int64\n",
            "feat_22    61878 non-null int64\n",
            "feat_23    61878 non-null int64\n",
            "feat_24    61878 non-null int64\n",
            "feat_25    61878 non-null int64\n",
            "feat_26    61878 non-null int64\n",
            "feat_27    61878 non-null int64\n",
            "feat_28    61878 non-null int64\n",
            "feat_29    61878 non-null int64\n",
            "feat_30    61878 non-null int64\n",
            "feat_31    61878 non-null int64\n",
            "feat_32    61878 non-null int64\n",
            "feat_33    61878 non-null int64\n",
            "feat_34    61878 non-null int64\n",
            "feat_35    61878 non-null int64\n",
            "feat_36    61878 non-null int64\n",
            "feat_37    61878 non-null int64\n",
            "feat_38    61878 non-null int64\n",
            "feat_39    61878 non-null int64\n",
            "feat_40    61878 non-null int64\n",
            "feat_41    61878 non-null int64\n",
            "feat_42    61878 non-null int64\n",
            "feat_43    61878 non-null int64\n",
            "feat_44    61878 non-null int64\n",
            "feat_45    61878 non-null int64\n",
            "feat_46    61878 non-null int64\n",
            "feat_47    61878 non-null int64\n",
            "feat_48    61878 non-null int64\n",
            "feat_49    61878 non-null int64\n",
            "feat_50    61878 non-null int64\n",
            "feat_51    61878 non-null int64\n",
            "feat_52    61878 non-null int64\n",
            "feat_53    61878 non-null int64\n",
            "feat_54    61878 non-null int64\n",
            "feat_55    61878 non-null int64\n",
            "feat_56    61878 non-null int64\n",
            "feat_57    61878 non-null int64\n",
            "feat_58    61878 non-null int64\n",
            "feat_59    61878 non-null int64\n",
            "feat_60    61878 non-null int64\n",
            "feat_61    61878 non-null int64\n",
            "feat_62    61878 non-null int64\n",
            "feat_63    61878 non-null int64\n",
            "feat_64    61878 non-null int64\n",
            "feat_65    61878 non-null int64\n",
            "feat_66    61878 non-null int64\n",
            "feat_67    61878 non-null int64\n",
            "feat_68    61878 non-null int64\n",
            "feat_69    61878 non-null int64\n",
            "feat_70    61878 non-null int64\n",
            "feat_71    61878 non-null int64\n",
            "feat_72    61878 non-null int64\n",
            "feat_73    61878 non-null int64\n",
            "feat_74    61878 non-null int64\n",
            "feat_75    61878 non-null int64\n",
            "feat_76    61878 non-null int64\n",
            "feat_77    61878 non-null int64\n",
            "feat_78    61878 non-null int64\n",
            "feat_79    61878 non-null int64\n",
            "feat_80    61878 non-null int64\n",
            "feat_81    61878 non-null int64\n",
            "feat_82    61878 non-null int64\n",
            "feat_83    61878 non-null int64\n",
            "feat_84    61878 non-null int64\n",
            "feat_85    61878 non-null int64\n",
            "feat_86    61878 non-null int64\n",
            "feat_87    61878 non-null int64\n",
            "feat_88    61878 non-null int64\n",
            "feat_89    61878 non-null int64\n",
            "feat_90    61878 non-null int64\n",
            "feat_91    61878 non-null int64\n",
            "feat_92    61878 non-null int64\n",
            "feat_93    61878 non-null int64\n",
            "target     61878 non-null object\n",
            "dtypes: int64(94), object(1)\n",
            "memory usage: 44.8+ MB\n"
          ],
          "name": "stdout"
        }
      ]
    },
    {
      "cell_type": "code",
      "metadata": {
        "id": "Rsq-z1E1ebie",
        "colab_type": "code",
        "outputId": "0b3963b3-e21d-49bd-b429-a79ec329d320",
        "colab": {
          "base_uri": "https://localhost:8080/",
          "height": 1000
        }
      },
      "source": [
        "df_valid.info()"
      ],
      "execution_count": 44,
      "outputs": [
        {
          "output_type": "stream",
          "text": [
            "<class 'pandas.core.frame.DataFrame'>\n",
            "RangeIndex: 144368 entries, 0 to 144367\n",
            "Data columns (total 94 columns):\n",
            "id         144368 non-null int64\n",
            "feat_1     144368 non-null int64\n",
            "feat_2     144368 non-null int64\n",
            "feat_3     144368 non-null int64\n",
            "feat_4     144368 non-null int64\n",
            "feat_5     144368 non-null int64\n",
            "feat_6     144368 non-null int64\n",
            "feat_7     144368 non-null int64\n",
            "feat_8     144368 non-null int64\n",
            "feat_9     144368 non-null int64\n",
            "feat_10    144368 non-null int64\n",
            "feat_11    144368 non-null int64\n",
            "feat_12    144368 non-null int64\n",
            "feat_13    144368 non-null int64\n",
            "feat_14    144368 non-null int64\n",
            "feat_15    144368 non-null int64\n",
            "feat_16    144368 non-null int64\n",
            "feat_17    144368 non-null int64\n",
            "feat_18    144368 non-null int64\n",
            "feat_19    144368 non-null int64\n",
            "feat_20    144368 non-null int64\n",
            "feat_21    144368 non-null int64\n",
            "feat_22    144368 non-null int64\n",
            "feat_23    144368 non-null int64\n",
            "feat_24    144368 non-null int64\n",
            "feat_25    144368 non-null int64\n",
            "feat_26    144368 non-null int64\n",
            "feat_27    144368 non-null int64\n",
            "feat_28    144368 non-null int64\n",
            "feat_29    144368 non-null int64\n",
            "feat_30    144368 non-null int64\n",
            "feat_31    144368 non-null int64\n",
            "feat_32    144368 non-null int64\n",
            "feat_33    144368 non-null int64\n",
            "feat_34    144368 non-null int64\n",
            "feat_35    144368 non-null int64\n",
            "feat_36    144368 non-null int64\n",
            "feat_37    144368 non-null int64\n",
            "feat_38    144368 non-null int64\n",
            "feat_39    144368 non-null int64\n",
            "feat_40    144368 non-null int64\n",
            "feat_41    144368 non-null int64\n",
            "feat_42    144368 non-null int64\n",
            "feat_43    144368 non-null int64\n",
            "feat_44    144368 non-null int64\n",
            "feat_45    144368 non-null int64\n",
            "feat_46    144368 non-null int64\n",
            "feat_47    144368 non-null int64\n",
            "feat_48    144368 non-null int64\n",
            "feat_49    144368 non-null int64\n",
            "feat_50    144368 non-null int64\n",
            "feat_51    144368 non-null int64\n",
            "feat_52    144368 non-null int64\n",
            "feat_53    144368 non-null int64\n",
            "feat_54    144368 non-null int64\n",
            "feat_55    144368 non-null int64\n",
            "feat_56    144368 non-null int64\n",
            "feat_57    144368 non-null int64\n",
            "feat_58    144368 non-null int64\n",
            "feat_59    144368 non-null int64\n",
            "feat_60    144368 non-null int64\n",
            "feat_61    144368 non-null int64\n",
            "feat_62    144368 non-null int64\n",
            "feat_63    144368 non-null int64\n",
            "feat_64    144368 non-null int64\n",
            "feat_65    144368 non-null int64\n",
            "feat_66    144368 non-null int64\n",
            "feat_67    144368 non-null int64\n",
            "feat_68    144368 non-null int64\n",
            "feat_69    144368 non-null int64\n",
            "feat_70    144368 non-null int64\n",
            "feat_71    144368 non-null int64\n",
            "feat_72    144368 non-null int64\n",
            "feat_73    144368 non-null int64\n",
            "feat_74    144368 non-null int64\n",
            "feat_75    144368 non-null int64\n",
            "feat_76    144368 non-null int64\n",
            "feat_77    144368 non-null int64\n",
            "feat_78    144368 non-null int64\n",
            "feat_79    144368 non-null int64\n",
            "feat_80    144368 non-null int64\n",
            "feat_81    144368 non-null int64\n",
            "feat_82    144368 non-null int64\n",
            "feat_83    144368 non-null int64\n",
            "feat_84    144368 non-null int64\n",
            "feat_85    144368 non-null int64\n",
            "feat_86    144368 non-null int64\n",
            "feat_87    144368 non-null int64\n",
            "feat_88    144368 non-null int64\n",
            "feat_89    144368 non-null int64\n",
            "feat_90    144368 non-null int64\n",
            "feat_91    144368 non-null int64\n",
            "feat_92    144368 non-null int64\n",
            "feat_93    144368 non-null int64\n",
            "dtypes: int64(94)\n",
            "memory usage: 103.5 MB\n"
          ],
          "name": "stdout"
        }
      ]
    },
    {
      "cell_type": "code",
      "metadata": {
        "id": "wYn2r0_Aebij",
        "colab_type": "code",
        "outputId": "b0a6b538-b425-41f9-fa4a-7bce6902fa97",
        "colab": {
          "base_uri": "https://localhost:8080/",
          "height": 253
        }
      },
      "source": [
        "df.head()"
      ],
      "execution_count": 45,
      "outputs": [
        {
          "output_type": "execute_result",
          "data": {
            "text/html": [
              "<div>\n",
              "<style scoped>\n",
              "    .dataframe tbody tr th:only-of-type {\n",
              "        vertical-align: middle;\n",
              "    }\n",
              "\n",
              "    .dataframe tbody tr th {\n",
              "        vertical-align: top;\n",
              "    }\n",
              "\n",
              "    .dataframe thead th {\n",
              "        text-align: right;\n",
              "    }\n",
              "</style>\n",
              "<table border=\"1\" class=\"dataframe\">\n",
              "  <thead>\n",
              "    <tr style=\"text-align: right;\">\n",
              "      <th></th>\n",
              "      <th>id</th>\n",
              "      <th>feat_1</th>\n",
              "      <th>feat_2</th>\n",
              "      <th>feat_3</th>\n",
              "      <th>feat_4</th>\n",
              "      <th>feat_5</th>\n",
              "      <th>feat_6</th>\n",
              "      <th>feat_7</th>\n",
              "      <th>feat_8</th>\n",
              "      <th>feat_9</th>\n",
              "      <th>feat_10</th>\n",
              "      <th>feat_11</th>\n",
              "      <th>feat_12</th>\n",
              "      <th>feat_13</th>\n",
              "      <th>feat_14</th>\n",
              "      <th>feat_15</th>\n",
              "      <th>feat_16</th>\n",
              "      <th>feat_17</th>\n",
              "      <th>feat_18</th>\n",
              "      <th>feat_19</th>\n",
              "      <th>feat_20</th>\n",
              "      <th>feat_21</th>\n",
              "      <th>feat_22</th>\n",
              "      <th>feat_23</th>\n",
              "      <th>feat_24</th>\n",
              "      <th>feat_25</th>\n",
              "      <th>feat_26</th>\n",
              "      <th>feat_27</th>\n",
              "      <th>feat_28</th>\n",
              "      <th>feat_29</th>\n",
              "      <th>feat_30</th>\n",
              "      <th>feat_31</th>\n",
              "      <th>feat_32</th>\n",
              "      <th>feat_33</th>\n",
              "      <th>feat_34</th>\n",
              "      <th>feat_35</th>\n",
              "      <th>feat_36</th>\n",
              "      <th>feat_37</th>\n",
              "      <th>feat_38</th>\n",
              "      <th>feat_39</th>\n",
              "      <th>...</th>\n",
              "      <th>feat_55</th>\n",
              "      <th>feat_56</th>\n",
              "      <th>feat_57</th>\n",
              "      <th>feat_58</th>\n",
              "      <th>feat_59</th>\n",
              "      <th>feat_60</th>\n",
              "      <th>feat_61</th>\n",
              "      <th>feat_62</th>\n",
              "      <th>feat_63</th>\n",
              "      <th>feat_64</th>\n",
              "      <th>feat_65</th>\n",
              "      <th>feat_66</th>\n",
              "      <th>feat_67</th>\n",
              "      <th>feat_68</th>\n",
              "      <th>feat_69</th>\n",
              "      <th>feat_70</th>\n",
              "      <th>feat_71</th>\n",
              "      <th>feat_72</th>\n",
              "      <th>feat_73</th>\n",
              "      <th>feat_74</th>\n",
              "      <th>feat_75</th>\n",
              "      <th>feat_76</th>\n",
              "      <th>feat_77</th>\n",
              "      <th>feat_78</th>\n",
              "      <th>feat_79</th>\n",
              "      <th>feat_80</th>\n",
              "      <th>feat_81</th>\n",
              "      <th>feat_82</th>\n",
              "      <th>feat_83</th>\n",
              "      <th>feat_84</th>\n",
              "      <th>feat_85</th>\n",
              "      <th>feat_86</th>\n",
              "      <th>feat_87</th>\n",
              "      <th>feat_88</th>\n",
              "      <th>feat_89</th>\n",
              "      <th>feat_90</th>\n",
              "      <th>feat_91</th>\n",
              "      <th>feat_92</th>\n",
              "      <th>feat_93</th>\n",
              "      <th>target</th>\n",
              "    </tr>\n",
              "  </thead>\n",
              "  <tbody>\n",
              "    <tr>\n",
              "      <th>0</th>\n",
              "      <td>1</td>\n",
              "      <td>1</td>\n",
              "      <td>0</td>\n",
              "      <td>0</td>\n",
              "      <td>0</td>\n",
              "      <td>0</td>\n",
              "      <td>0</td>\n",
              "      <td>0</td>\n",
              "      <td>0</td>\n",
              "      <td>0</td>\n",
              "      <td>0</td>\n",
              "      <td>1</td>\n",
              "      <td>0</td>\n",
              "      <td>0</td>\n",
              "      <td>0</td>\n",
              "      <td>0</td>\n",
              "      <td>0</td>\n",
              "      <td>2</td>\n",
              "      <td>0</td>\n",
              "      <td>0</td>\n",
              "      <td>0</td>\n",
              "      <td>0</td>\n",
              "      <td>1</td>\n",
              "      <td>0</td>\n",
              "      <td>4</td>\n",
              "      <td>1</td>\n",
              "      <td>1</td>\n",
              "      <td>0</td>\n",
              "      <td>0</td>\n",
              "      <td>2</td>\n",
              "      <td>0</td>\n",
              "      <td>0</td>\n",
              "      <td>0</td>\n",
              "      <td>0</td>\n",
              "      <td>0</td>\n",
              "      <td>1</td>\n",
              "      <td>0</td>\n",
              "      <td>0</td>\n",
              "      <td>0</td>\n",
              "      <td>0</td>\n",
              "      <td>...</td>\n",
              "      <td>0</td>\n",
              "      <td>0</td>\n",
              "      <td>2</td>\n",
              "      <td>0</td>\n",
              "      <td>0</td>\n",
              "      <td>11</td>\n",
              "      <td>0</td>\n",
              "      <td>1</td>\n",
              "      <td>1</td>\n",
              "      <td>0</td>\n",
              "      <td>1</td>\n",
              "      <td>0</td>\n",
              "      <td>7</td>\n",
              "      <td>0</td>\n",
              "      <td>0</td>\n",
              "      <td>0</td>\n",
              "      <td>1</td>\n",
              "      <td>0</td>\n",
              "      <td>0</td>\n",
              "      <td>0</td>\n",
              "      <td>0</td>\n",
              "      <td>0</td>\n",
              "      <td>0</td>\n",
              "      <td>0</td>\n",
              "      <td>2</td>\n",
              "      <td>1</td>\n",
              "      <td>0</td>\n",
              "      <td>0</td>\n",
              "      <td>0</td>\n",
              "      <td>0</td>\n",
              "      <td>1</td>\n",
              "      <td>0</td>\n",
              "      <td>0</td>\n",
              "      <td>0</td>\n",
              "      <td>0</td>\n",
              "      <td>0</td>\n",
              "      <td>0</td>\n",
              "      <td>0</td>\n",
              "      <td>0</td>\n",
              "      <td>Class_1</td>\n",
              "    </tr>\n",
              "    <tr>\n",
              "      <th>1</th>\n",
              "      <td>2</td>\n",
              "      <td>0</td>\n",
              "      <td>0</td>\n",
              "      <td>0</td>\n",
              "      <td>0</td>\n",
              "      <td>0</td>\n",
              "      <td>0</td>\n",
              "      <td>0</td>\n",
              "      <td>1</td>\n",
              "      <td>0</td>\n",
              "      <td>0</td>\n",
              "      <td>0</td>\n",
              "      <td>0</td>\n",
              "      <td>0</td>\n",
              "      <td>0</td>\n",
              "      <td>0</td>\n",
              "      <td>0</td>\n",
              "      <td>0</td>\n",
              "      <td>2</td>\n",
              "      <td>0</td>\n",
              "      <td>0</td>\n",
              "      <td>0</td>\n",
              "      <td>0</td>\n",
              "      <td>0</td>\n",
              "      <td>0</td>\n",
              "      <td>0</td>\n",
              "      <td>0</td>\n",
              "      <td>0</td>\n",
              "      <td>0</td>\n",
              "      <td>0</td>\n",
              "      <td>0</td>\n",
              "      <td>0</td>\n",
              "      <td>0</td>\n",
              "      <td>0</td>\n",
              "      <td>0</td>\n",
              "      <td>0</td>\n",
              "      <td>0</td>\n",
              "      <td>1</td>\n",
              "      <td>0</td>\n",
              "      <td>0</td>\n",
              "      <td>...</td>\n",
              "      <td>0</td>\n",
              "      <td>0</td>\n",
              "      <td>0</td>\n",
              "      <td>1</td>\n",
              "      <td>0</td>\n",
              "      <td>0</td>\n",
              "      <td>0</td>\n",
              "      <td>0</td>\n",
              "      <td>0</td>\n",
              "      <td>1</td>\n",
              "      <td>0</td>\n",
              "      <td>0</td>\n",
              "      <td>1</td>\n",
              "      <td>0</td>\n",
              "      <td>0</td>\n",
              "      <td>0</td>\n",
              "      <td>0</td>\n",
              "      <td>0</td>\n",
              "      <td>2</td>\n",
              "      <td>1</td>\n",
              "      <td>0</td>\n",
              "      <td>1</td>\n",
              "      <td>0</td>\n",
              "      <td>1</td>\n",
              "      <td>0</td>\n",
              "      <td>0</td>\n",
              "      <td>0</td>\n",
              "      <td>0</td>\n",
              "      <td>0</td>\n",
              "      <td>0</td>\n",
              "      <td>0</td>\n",
              "      <td>0</td>\n",
              "      <td>0</td>\n",
              "      <td>0</td>\n",
              "      <td>0</td>\n",
              "      <td>0</td>\n",
              "      <td>0</td>\n",
              "      <td>0</td>\n",
              "      <td>0</td>\n",
              "      <td>Class_1</td>\n",
              "    </tr>\n",
              "    <tr>\n",
              "      <th>2</th>\n",
              "      <td>3</td>\n",
              "      <td>0</td>\n",
              "      <td>0</td>\n",
              "      <td>0</td>\n",
              "      <td>0</td>\n",
              "      <td>0</td>\n",
              "      <td>0</td>\n",
              "      <td>0</td>\n",
              "      <td>1</td>\n",
              "      <td>0</td>\n",
              "      <td>0</td>\n",
              "      <td>0</td>\n",
              "      <td>0</td>\n",
              "      <td>0</td>\n",
              "      <td>0</td>\n",
              "      <td>0</td>\n",
              "      <td>0</td>\n",
              "      <td>1</td>\n",
              "      <td>0</td>\n",
              "      <td>0</td>\n",
              "      <td>0</td>\n",
              "      <td>0</td>\n",
              "      <td>0</td>\n",
              "      <td>0</td>\n",
              "      <td>0</td>\n",
              "      <td>0</td>\n",
              "      <td>0</td>\n",
              "      <td>0</td>\n",
              "      <td>0</td>\n",
              "      <td>0</td>\n",
              "      <td>0</td>\n",
              "      <td>0</td>\n",
              "      <td>0</td>\n",
              "      <td>1</td>\n",
              "      <td>0</td>\n",
              "      <td>0</td>\n",
              "      <td>0</td>\n",
              "      <td>0</td>\n",
              "      <td>0</td>\n",
              "      <td>0</td>\n",
              "      <td>...</td>\n",
              "      <td>1</td>\n",
              "      <td>0</td>\n",
              "      <td>0</td>\n",
              "      <td>0</td>\n",
              "      <td>0</td>\n",
              "      <td>0</td>\n",
              "      <td>0</td>\n",
              "      <td>0</td>\n",
              "      <td>0</td>\n",
              "      <td>0</td>\n",
              "      <td>0</td>\n",
              "      <td>0</td>\n",
              "      <td>6</td>\n",
              "      <td>0</td>\n",
              "      <td>0</td>\n",
              "      <td>2</td>\n",
              "      <td>0</td>\n",
              "      <td>0</td>\n",
              "      <td>0</td>\n",
              "      <td>0</td>\n",
              "      <td>0</td>\n",
              "      <td>0</td>\n",
              "      <td>0</td>\n",
              "      <td>0</td>\n",
              "      <td>0</td>\n",
              "      <td>0</td>\n",
              "      <td>1</td>\n",
              "      <td>0</td>\n",
              "      <td>0</td>\n",
              "      <td>0</td>\n",
              "      <td>0</td>\n",
              "      <td>0</td>\n",
              "      <td>0</td>\n",
              "      <td>0</td>\n",
              "      <td>0</td>\n",
              "      <td>0</td>\n",
              "      <td>0</td>\n",
              "      <td>0</td>\n",
              "      <td>0</td>\n",
              "      <td>Class_1</td>\n",
              "    </tr>\n",
              "    <tr>\n",
              "      <th>3</th>\n",
              "      <td>4</td>\n",
              "      <td>1</td>\n",
              "      <td>0</td>\n",
              "      <td>0</td>\n",
              "      <td>1</td>\n",
              "      <td>6</td>\n",
              "      <td>1</td>\n",
              "      <td>5</td>\n",
              "      <td>0</td>\n",
              "      <td>0</td>\n",
              "      <td>1</td>\n",
              "      <td>1</td>\n",
              "      <td>0</td>\n",
              "      <td>1</td>\n",
              "      <td>0</td>\n",
              "      <td>0</td>\n",
              "      <td>1</td>\n",
              "      <td>1</td>\n",
              "      <td>0</td>\n",
              "      <td>0</td>\n",
              "      <td>0</td>\n",
              "      <td>0</td>\n",
              "      <td>0</td>\n",
              "      <td>0</td>\n",
              "      <td>7</td>\n",
              "      <td>2</td>\n",
              "      <td>2</td>\n",
              "      <td>0</td>\n",
              "      <td>0</td>\n",
              "      <td>0</td>\n",
              "      <td>58</td>\n",
              "      <td>0</td>\n",
              "      <td>10</td>\n",
              "      <td>0</td>\n",
              "      <td>0</td>\n",
              "      <td>0</td>\n",
              "      <td>0</td>\n",
              "      <td>0</td>\n",
              "      <td>3</td>\n",
              "      <td>0</td>\n",
              "      <td>...</td>\n",
              "      <td>1</td>\n",
              "      <td>0</td>\n",
              "      <td>0</td>\n",
              "      <td>0</td>\n",
              "      <td>0</td>\n",
              "      <td>0</td>\n",
              "      <td>0</td>\n",
              "      <td>0</td>\n",
              "      <td>0</td>\n",
              "      <td>0</td>\n",
              "      <td>2</td>\n",
              "      <td>1</td>\n",
              "      <td>5</td>\n",
              "      <td>0</td>\n",
              "      <td>0</td>\n",
              "      <td>4</td>\n",
              "      <td>0</td>\n",
              "      <td>0</td>\n",
              "      <td>2</td>\n",
              "      <td>1</td>\n",
              "      <td>0</td>\n",
              "      <td>1</td>\n",
              "      <td>0</td>\n",
              "      <td>0</td>\n",
              "      <td>1</td>\n",
              "      <td>1</td>\n",
              "      <td>2</td>\n",
              "      <td>2</td>\n",
              "      <td>0</td>\n",
              "      <td>22</td>\n",
              "      <td>0</td>\n",
              "      <td>1</td>\n",
              "      <td>2</td>\n",
              "      <td>0</td>\n",
              "      <td>0</td>\n",
              "      <td>0</td>\n",
              "      <td>0</td>\n",
              "      <td>0</td>\n",
              "      <td>0</td>\n",
              "      <td>Class_1</td>\n",
              "    </tr>\n",
              "    <tr>\n",
              "      <th>4</th>\n",
              "      <td>5</td>\n",
              "      <td>0</td>\n",
              "      <td>0</td>\n",
              "      <td>0</td>\n",
              "      <td>0</td>\n",
              "      <td>0</td>\n",
              "      <td>0</td>\n",
              "      <td>0</td>\n",
              "      <td>0</td>\n",
              "      <td>0</td>\n",
              "      <td>0</td>\n",
              "      <td>0</td>\n",
              "      <td>0</td>\n",
              "      <td>0</td>\n",
              "      <td>0</td>\n",
              "      <td>0</td>\n",
              "      <td>0</td>\n",
              "      <td>4</td>\n",
              "      <td>0</td>\n",
              "      <td>0</td>\n",
              "      <td>0</td>\n",
              "      <td>0</td>\n",
              "      <td>0</td>\n",
              "      <td>0</td>\n",
              "      <td>1</td>\n",
              "      <td>0</td>\n",
              "      <td>0</td>\n",
              "      <td>0</td>\n",
              "      <td>0</td>\n",
              "      <td>0</td>\n",
              "      <td>0</td>\n",
              "      <td>0</td>\n",
              "      <td>0</td>\n",
              "      <td>0</td>\n",
              "      <td>0</td>\n",
              "      <td>0</td>\n",
              "      <td>0</td>\n",
              "      <td>0</td>\n",
              "      <td>0</td>\n",
              "      <td>0</td>\n",
              "      <td>...</td>\n",
              "      <td>0</td>\n",
              "      <td>0</td>\n",
              "      <td>0</td>\n",
              "      <td>0</td>\n",
              "      <td>0</td>\n",
              "      <td>0</td>\n",
              "      <td>0</td>\n",
              "      <td>1</td>\n",
              "      <td>0</td>\n",
              "      <td>0</td>\n",
              "      <td>0</td>\n",
              "      <td>0</td>\n",
              "      <td>0</td>\n",
              "      <td>1</td>\n",
              "      <td>0</td>\n",
              "      <td>0</td>\n",
              "      <td>3</td>\n",
              "      <td>0</td>\n",
              "      <td>0</td>\n",
              "      <td>0</td>\n",
              "      <td>0</td>\n",
              "      <td>0</td>\n",
              "      <td>0</td>\n",
              "      <td>0</td>\n",
              "      <td>4</td>\n",
              "      <td>0</td>\n",
              "      <td>1</td>\n",
              "      <td>0</td>\n",
              "      <td>0</td>\n",
              "      <td>0</td>\n",
              "      <td>1</td>\n",
              "      <td>0</td>\n",
              "      <td>0</td>\n",
              "      <td>0</td>\n",
              "      <td>0</td>\n",
              "      <td>1</td>\n",
              "      <td>0</td>\n",
              "      <td>0</td>\n",
              "      <td>0</td>\n",
              "      <td>Class_1</td>\n",
              "    </tr>\n",
              "  </tbody>\n",
              "</table>\n",
              "<p>5 rows × 95 columns</p>\n",
              "</div>"
            ],
            "text/plain": [
              "   id  feat_1  feat_2  feat_3  ...  feat_91  feat_92  feat_93   target\n",
              "0   1       1       0       0  ...        0        0        0  Class_1\n",
              "1   2       0       0       0  ...        0        0        0  Class_1\n",
              "2   3       0       0       0  ...        0        0        0  Class_1\n",
              "3   4       1       0       0  ...        0        0        0  Class_1\n",
              "4   5       0       0       0  ...        0        0        0  Class_1\n",
              "\n",
              "[5 rows x 95 columns]"
            ]
          },
          "metadata": {
            "tags": []
          },
          "execution_count": 45
        }
      ]
    },
    {
      "cell_type": "markdown",
      "metadata": {
        "id": "xusRptu-ebio",
        "colab_type": "text"
      },
      "source": [
        "**Note**: Target value is type object (string)\n",
        "\n",
        "### Convert Target Column into Category"
      ]
    },
    {
      "cell_type": "code",
      "metadata": {
        "id": "XKtQKsevebir",
        "colab_type": "code",
        "colab": {}
      },
      "source": [
        "def convert_into_category(df):\n",
        "    \"\"\"\n",
        "    Converts all non-numerical columns of a Pandas\n",
        "    DataFrame into a categorical type.\n",
        "    \"\"\"\n",
        "    for label, content in df.items():\n",
        "        if not pd.api.types.is_numeric_dtype(content):\n",
        "            df[label] = pd.Categorical(content).codes+1\n",
        "    return df"
      ],
      "execution_count": 0,
      "outputs": []
    },
    {
      "cell_type": "code",
      "metadata": {
        "id": "zW92sHUdebix",
        "colab_type": "code",
        "outputId": "c4d50bc3-9c68-4304-884a-7bd36cc612c7",
        "colab": {
          "base_uri": "https://localhost:8080/",
          "height": 439
        }
      },
      "source": [
        "convert_into_category(df)"
      ],
      "execution_count": 47,
      "outputs": [
        {
          "output_type": "execute_result",
          "data": {
            "text/html": [
              "<div>\n",
              "<style scoped>\n",
              "    .dataframe tbody tr th:only-of-type {\n",
              "        vertical-align: middle;\n",
              "    }\n",
              "\n",
              "    .dataframe tbody tr th {\n",
              "        vertical-align: top;\n",
              "    }\n",
              "\n",
              "    .dataframe thead th {\n",
              "        text-align: right;\n",
              "    }\n",
              "</style>\n",
              "<table border=\"1\" class=\"dataframe\">\n",
              "  <thead>\n",
              "    <tr style=\"text-align: right;\">\n",
              "      <th></th>\n",
              "      <th>id</th>\n",
              "      <th>feat_1</th>\n",
              "      <th>feat_2</th>\n",
              "      <th>feat_3</th>\n",
              "      <th>feat_4</th>\n",
              "      <th>feat_5</th>\n",
              "      <th>feat_6</th>\n",
              "      <th>feat_7</th>\n",
              "      <th>feat_8</th>\n",
              "      <th>feat_9</th>\n",
              "      <th>feat_10</th>\n",
              "      <th>feat_11</th>\n",
              "      <th>feat_12</th>\n",
              "      <th>feat_13</th>\n",
              "      <th>feat_14</th>\n",
              "      <th>feat_15</th>\n",
              "      <th>feat_16</th>\n",
              "      <th>feat_17</th>\n",
              "      <th>feat_18</th>\n",
              "      <th>feat_19</th>\n",
              "      <th>feat_20</th>\n",
              "      <th>feat_21</th>\n",
              "      <th>feat_22</th>\n",
              "      <th>feat_23</th>\n",
              "      <th>feat_24</th>\n",
              "      <th>feat_25</th>\n",
              "      <th>feat_26</th>\n",
              "      <th>feat_27</th>\n",
              "      <th>feat_28</th>\n",
              "      <th>feat_29</th>\n",
              "      <th>feat_30</th>\n",
              "      <th>feat_31</th>\n",
              "      <th>feat_32</th>\n",
              "      <th>feat_33</th>\n",
              "      <th>feat_34</th>\n",
              "      <th>feat_35</th>\n",
              "      <th>feat_36</th>\n",
              "      <th>feat_37</th>\n",
              "      <th>feat_38</th>\n",
              "      <th>feat_39</th>\n",
              "      <th>...</th>\n",
              "      <th>feat_55</th>\n",
              "      <th>feat_56</th>\n",
              "      <th>feat_57</th>\n",
              "      <th>feat_58</th>\n",
              "      <th>feat_59</th>\n",
              "      <th>feat_60</th>\n",
              "      <th>feat_61</th>\n",
              "      <th>feat_62</th>\n",
              "      <th>feat_63</th>\n",
              "      <th>feat_64</th>\n",
              "      <th>feat_65</th>\n",
              "      <th>feat_66</th>\n",
              "      <th>feat_67</th>\n",
              "      <th>feat_68</th>\n",
              "      <th>feat_69</th>\n",
              "      <th>feat_70</th>\n",
              "      <th>feat_71</th>\n",
              "      <th>feat_72</th>\n",
              "      <th>feat_73</th>\n",
              "      <th>feat_74</th>\n",
              "      <th>feat_75</th>\n",
              "      <th>feat_76</th>\n",
              "      <th>feat_77</th>\n",
              "      <th>feat_78</th>\n",
              "      <th>feat_79</th>\n",
              "      <th>feat_80</th>\n",
              "      <th>feat_81</th>\n",
              "      <th>feat_82</th>\n",
              "      <th>feat_83</th>\n",
              "      <th>feat_84</th>\n",
              "      <th>feat_85</th>\n",
              "      <th>feat_86</th>\n",
              "      <th>feat_87</th>\n",
              "      <th>feat_88</th>\n",
              "      <th>feat_89</th>\n",
              "      <th>feat_90</th>\n",
              "      <th>feat_91</th>\n",
              "      <th>feat_92</th>\n",
              "      <th>feat_93</th>\n",
              "      <th>target</th>\n",
              "    </tr>\n",
              "  </thead>\n",
              "  <tbody>\n",
              "    <tr>\n",
              "      <th>0</th>\n",
              "      <td>1</td>\n",
              "      <td>1</td>\n",
              "      <td>0</td>\n",
              "      <td>0</td>\n",
              "      <td>0</td>\n",
              "      <td>0</td>\n",
              "      <td>0</td>\n",
              "      <td>0</td>\n",
              "      <td>0</td>\n",
              "      <td>0</td>\n",
              "      <td>0</td>\n",
              "      <td>1</td>\n",
              "      <td>0</td>\n",
              "      <td>0</td>\n",
              "      <td>0</td>\n",
              "      <td>0</td>\n",
              "      <td>0</td>\n",
              "      <td>2</td>\n",
              "      <td>0</td>\n",
              "      <td>0</td>\n",
              "      <td>0</td>\n",
              "      <td>0</td>\n",
              "      <td>1</td>\n",
              "      <td>0</td>\n",
              "      <td>4</td>\n",
              "      <td>1</td>\n",
              "      <td>1</td>\n",
              "      <td>0</td>\n",
              "      <td>0</td>\n",
              "      <td>2</td>\n",
              "      <td>0</td>\n",
              "      <td>0</td>\n",
              "      <td>0</td>\n",
              "      <td>0</td>\n",
              "      <td>0</td>\n",
              "      <td>1</td>\n",
              "      <td>0</td>\n",
              "      <td>0</td>\n",
              "      <td>0</td>\n",
              "      <td>0</td>\n",
              "      <td>...</td>\n",
              "      <td>0</td>\n",
              "      <td>0</td>\n",
              "      <td>2</td>\n",
              "      <td>0</td>\n",
              "      <td>0</td>\n",
              "      <td>11</td>\n",
              "      <td>0</td>\n",
              "      <td>1</td>\n",
              "      <td>1</td>\n",
              "      <td>0</td>\n",
              "      <td>1</td>\n",
              "      <td>0</td>\n",
              "      <td>7</td>\n",
              "      <td>0</td>\n",
              "      <td>0</td>\n",
              "      <td>0</td>\n",
              "      <td>1</td>\n",
              "      <td>0</td>\n",
              "      <td>0</td>\n",
              "      <td>0</td>\n",
              "      <td>0</td>\n",
              "      <td>0</td>\n",
              "      <td>0</td>\n",
              "      <td>0</td>\n",
              "      <td>2</td>\n",
              "      <td>1</td>\n",
              "      <td>0</td>\n",
              "      <td>0</td>\n",
              "      <td>0</td>\n",
              "      <td>0</td>\n",
              "      <td>1</td>\n",
              "      <td>0</td>\n",
              "      <td>0</td>\n",
              "      <td>0</td>\n",
              "      <td>0</td>\n",
              "      <td>0</td>\n",
              "      <td>0</td>\n",
              "      <td>0</td>\n",
              "      <td>0</td>\n",
              "      <td>1</td>\n",
              "    </tr>\n",
              "    <tr>\n",
              "      <th>1</th>\n",
              "      <td>2</td>\n",
              "      <td>0</td>\n",
              "      <td>0</td>\n",
              "      <td>0</td>\n",
              "      <td>0</td>\n",
              "      <td>0</td>\n",
              "      <td>0</td>\n",
              "      <td>0</td>\n",
              "      <td>1</td>\n",
              "      <td>0</td>\n",
              "      <td>0</td>\n",
              "      <td>0</td>\n",
              "      <td>0</td>\n",
              "      <td>0</td>\n",
              "      <td>0</td>\n",
              "      <td>0</td>\n",
              "      <td>0</td>\n",
              "      <td>0</td>\n",
              "      <td>2</td>\n",
              "      <td>0</td>\n",
              "      <td>0</td>\n",
              "      <td>0</td>\n",
              "      <td>0</td>\n",
              "      <td>0</td>\n",
              "      <td>0</td>\n",
              "      <td>0</td>\n",
              "      <td>0</td>\n",
              "      <td>0</td>\n",
              "      <td>0</td>\n",
              "      <td>0</td>\n",
              "      <td>0</td>\n",
              "      <td>0</td>\n",
              "      <td>0</td>\n",
              "      <td>0</td>\n",
              "      <td>0</td>\n",
              "      <td>0</td>\n",
              "      <td>0</td>\n",
              "      <td>1</td>\n",
              "      <td>0</td>\n",
              "      <td>0</td>\n",
              "      <td>...</td>\n",
              "      <td>0</td>\n",
              "      <td>0</td>\n",
              "      <td>0</td>\n",
              "      <td>1</td>\n",
              "      <td>0</td>\n",
              "      <td>0</td>\n",
              "      <td>0</td>\n",
              "      <td>0</td>\n",
              "      <td>0</td>\n",
              "      <td>1</td>\n",
              "      <td>0</td>\n",
              "      <td>0</td>\n",
              "      <td>1</td>\n",
              "      <td>0</td>\n",
              "      <td>0</td>\n",
              "      <td>0</td>\n",
              "      <td>0</td>\n",
              "      <td>0</td>\n",
              "      <td>2</td>\n",
              "      <td>1</td>\n",
              "      <td>0</td>\n",
              "      <td>1</td>\n",
              "      <td>0</td>\n",
              "      <td>1</td>\n",
              "      <td>0</td>\n",
              "      <td>0</td>\n",
              "      <td>0</td>\n",
              "      <td>0</td>\n",
              "      <td>0</td>\n",
              "      <td>0</td>\n",
              "      <td>0</td>\n",
              "      <td>0</td>\n",
              "      <td>0</td>\n",
              "      <td>0</td>\n",
              "      <td>0</td>\n",
              "      <td>0</td>\n",
              "      <td>0</td>\n",
              "      <td>0</td>\n",
              "      <td>0</td>\n",
              "      <td>1</td>\n",
              "    </tr>\n",
              "    <tr>\n",
              "      <th>2</th>\n",
              "      <td>3</td>\n",
              "      <td>0</td>\n",
              "      <td>0</td>\n",
              "      <td>0</td>\n",
              "      <td>0</td>\n",
              "      <td>0</td>\n",
              "      <td>0</td>\n",
              "      <td>0</td>\n",
              "      <td>1</td>\n",
              "      <td>0</td>\n",
              "      <td>0</td>\n",
              "      <td>0</td>\n",
              "      <td>0</td>\n",
              "      <td>0</td>\n",
              "      <td>0</td>\n",
              "      <td>0</td>\n",
              "      <td>0</td>\n",
              "      <td>1</td>\n",
              "      <td>0</td>\n",
              "      <td>0</td>\n",
              "      <td>0</td>\n",
              "      <td>0</td>\n",
              "      <td>0</td>\n",
              "      <td>0</td>\n",
              "      <td>0</td>\n",
              "      <td>0</td>\n",
              "      <td>0</td>\n",
              "      <td>0</td>\n",
              "      <td>0</td>\n",
              "      <td>0</td>\n",
              "      <td>0</td>\n",
              "      <td>0</td>\n",
              "      <td>0</td>\n",
              "      <td>1</td>\n",
              "      <td>0</td>\n",
              "      <td>0</td>\n",
              "      <td>0</td>\n",
              "      <td>0</td>\n",
              "      <td>0</td>\n",
              "      <td>0</td>\n",
              "      <td>...</td>\n",
              "      <td>1</td>\n",
              "      <td>0</td>\n",
              "      <td>0</td>\n",
              "      <td>0</td>\n",
              "      <td>0</td>\n",
              "      <td>0</td>\n",
              "      <td>0</td>\n",
              "      <td>0</td>\n",
              "      <td>0</td>\n",
              "      <td>0</td>\n",
              "      <td>0</td>\n",
              "      <td>0</td>\n",
              "      <td>6</td>\n",
              "      <td>0</td>\n",
              "      <td>0</td>\n",
              "      <td>2</td>\n",
              "      <td>0</td>\n",
              "      <td>0</td>\n",
              "      <td>0</td>\n",
              "      <td>0</td>\n",
              "      <td>0</td>\n",
              "      <td>0</td>\n",
              "      <td>0</td>\n",
              "      <td>0</td>\n",
              "      <td>0</td>\n",
              "      <td>0</td>\n",
              "      <td>1</td>\n",
              "      <td>0</td>\n",
              "      <td>0</td>\n",
              "      <td>0</td>\n",
              "      <td>0</td>\n",
              "      <td>0</td>\n",
              "      <td>0</td>\n",
              "      <td>0</td>\n",
              "      <td>0</td>\n",
              "      <td>0</td>\n",
              "      <td>0</td>\n",
              "      <td>0</td>\n",
              "      <td>0</td>\n",
              "      <td>1</td>\n",
              "    </tr>\n",
              "    <tr>\n",
              "      <th>3</th>\n",
              "      <td>4</td>\n",
              "      <td>1</td>\n",
              "      <td>0</td>\n",
              "      <td>0</td>\n",
              "      <td>1</td>\n",
              "      <td>6</td>\n",
              "      <td>1</td>\n",
              "      <td>5</td>\n",
              "      <td>0</td>\n",
              "      <td>0</td>\n",
              "      <td>1</td>\n",
              "      <td>1</td>\n",
              "      <td>0</td>\n",
              "      <td>1</td>\n",
              "      <td>0</td>\n",
              "      <td>0</td>\n",
              "      <td>1</td>\n",
              "      <td>1</td>\n",
              "      <td>0</td>\n",
              "      <td>0</td>\n",
              "      <td>0</td>\n",
              "      <td>0</td>\n",
              "      <td>0</td>\n",
              "      <td>0</td>\n",
              "      <td>7</td>\n",
              "      <td>2</td>\n",
              "      <td>2</td>\n",
              "      <td>0</td>\n",
              "      <td>0</td>\n",
              "      <td>0</td>\n",
              "      <td>58</td>\n",
              "      <td>0</td>\n",
              "      <td>10</td>\n",
              "      <td>0</td>\n",
              "      <td>0</td>\n",
              "      <td>0</td>\n",
              "      <td>0</td>\n",
              "      <td>0</td>\n",
              "      <td>3</td>\n",
              "      <td>0</td>\n",
              "      <td>...</td>\n",
              "      <td>1</td>\n",
              "      <td>0</td>\n",
              "      <td>0</td>\n",
              "      <td>0</td>\n",
              "      <td>0</td>\n",
              "      <td>0</td>\n",
              "      <td>0</td>\n",
              "      <td>0</td>\n",
              "      <td>0</td>\n",
              "      <td>0</td>\n",
              "      <td>2</td>\n",
              "      <td>1</td>\n",
              "      <td>5</td>\n",
              "      <td>0</td>\n",
              "      <td>0</td>\n",
              "      <td>4</td>\n",
              "      <td>0</td>\n",
              "      <td>0</td>\n",
              "      <td>2</td>\n",
              "      <td>1</td>\n",
              "      <td>0</td>\n",
              "      <td>1</td>\n",
              "      <td>0</td>\n",
              "      <td>0</td>\n",
              "      <td>1</td>\n",
              "      <td>1</td>\n",
              "      <td>2</td>\n",
              "      <td>2</td>\n",
              "      <td>0</td>\n",
              "      <td>22</td>\n",
              "      <td>0</td>\n",
              "      <td>1</td>\n",
              "      <td>2</td>\n",
              "      <td>0</td>\n",
              "      <td>0</td>\n",
              "      <td>0</td>\n",
              "      <td>0</td>\n",
              "      <td>0</td>\n",
              "      <td>0</td>\n",
              "      <td>1</td>\n",
              "    </tr>\n",
              "    <tr>\n",
              "      <th>4</th>\n",
              "      <td>5</td>\n",
              "      <td>0</td>\n",
              "      <td>0</td>\n",
              "      <td>0</td>\n",
              "      <td>0</td>\n",
              "      <td>0</td>\n",
              "      <td>0</td>\n",
              "      <td>0</td>\n",
              "      <td>0</td>\n",
              "      <td>0</td>\n",
              "      <td>0</td>\n",
              "      <td>0</td>\n",
              "      <td>0</td>\n",
              "      <td>0</td>\n",
              "      <td>0</td>\n",
              "      <td>0</td>\n",
              "      <td>0</td>\n",
              "      <td>4</td>\n",
              "      <td>0</td>\n",
              "      <td>0</td>\n",
              "      <td>0</td>\n",
              "      <td>0</td>\n",
              "      <td>0</td>\n",
              "      <td>0</td>\n",
              "      <td>1</td>\n",
              "      <td>0</td>\n",
              "      <td>0</td>\n",
              "      <td>0</td>\n",
              "      <td>0</td>\n",
              "      <td>0</td>\n",
              "      <td>0</td>\n",
              "      <td>0</td>\n",
              "      <td>0</td>\n",
              "      <td>0</td>\n",
              "      <td>0</td>\n",
              "      <td>0</td>\n",
              "      <td>0</td>\n",
              "      <td>0</td>\n",
              "      <td>0</td>\n",
              "      <td>0</td>\n",
              "      <td>...</td>\n",
              "      <td>0</td>\n",
              "      <td>0</td>\n",
              "      <td>0</td>\n",
              "      <td>0</td>\n",
              "      <td>0</td>\n",
              "      <td>0</td>\n",
              "      <td>0</td>\n",
              "      <td>1</td>\n",
              "      <td>0</td>\n",
              "      <td>0</td>\n",
              "      <td>0</td>\n",
              "      <td>0</td>\n",
              "      <td>0</td>\n",
              "      <td>1</td>\n",
              "      <td>0</td>\n",
              "      <td>0</td>\n",
              "      <td>3</td>\n",
              "      <td>0</td>\n",
              "      <td>0</td>\n",
              "      <td>0</td>\n",
              "      <td>0</td>\n",
              "      <td>0</td>\n",
              "      <td>0</td>\n",
              "      <td>0</td>\n",
              "      <td>4</td>\n",
              "      <td>0</td>\n",
              "      <td>1</td>\n",
              "      <td>0</td>\n",
              "      <td>0</td>\n",
              "      <td>0</td>\n",
              "      <td>1</td>\n",
              "      <td>0</td>\n",
              "      <td>0</td>\n",
              "      <td>0</td>\n",
              "      <td>0</td>\n",
              "      <td>1</td>\n",
              "      <td>0</td>\n",
              "      <td>0</td>\n",
              "      <td>0</td>\n",
              "      <td>1</td>\n",
              "    </tr>\n",
              "    <tr>\n",
              "      <th>...</th>\n",
              "      <td>...</td>\n",
              "      <td>...</td>\n",
              "      <td>...</td>\n",
              "      <td>...</td>\n",
              "      <td>...</td>\n",
              "      <td>...</td>\n",
              "      <td>...</td>\n",
              "      <td>...</td>\n",
              "      <td>...</td>\n",
              "      <td>...</td>\n",
              "      <td>...</td>\n",
              "      <td>...</td>\n",
              "      <td>...</td>\n",
              "      <td>...</td>\n",
              "      <td>...</td>\n",
              "      <td>...</td>\n",
              "      <td>...</td>\n",
              "      <td>...</td>\n",
              "      <td>...</td>\n",
              "      <td>...</td>\n",
              "      <td>...</td>\n",
              "      <td>...</td>\n",
              "      <td>...</td>\n",
              "      <td>...</td>\n",
              "      <td>...</td>\n",
              "      <td>...</td>\n",
              "      <td>...</td>\n",
              "      <td>...</td>\n",
              "      <td>...</td>\n",
              "      <td>...</td>\n",
              "      <td>...</td>\n",
              "      <td>...</td>\n",
              "      <td>...</td>\n",
              "      <td>...</td>\n",
              "      <td>...</td>\n",
              "      <td>...</td>\n",
              "      <td>...</td>\n",
              "      <td>...</td>\n",
              "      <td>...</td>\n",
              "      <td>...</td>\n",
              "      <td>...</td>\n",
              "      <td>...</td>\n",
              "      <td>...</td>\n",
              "      <td>...</td>\n",
              "      <td>...</td>\n",
              "      <td>...</td>\n",
              "      <td>...</td>\n",
              "      <td>...</td>\n",
              "      <td>...</td>\n",
              "      <td>...</td>\n",
              "      <td>...</td>\n",
              "      <td>...</td>\n",
              "      <td>...</td>\n",
              "      <td>...</td>\n",
              "      <td>...</td>\n",
              "      <td>...</td>\n",
              "      <td>...</td>\n",
              "      <td>...</td>\n",
              "      <td>...</td>\n",
              "      <td>...</td>\n",
              "      <td>...</td>\n",
              "      <td>...</td>\n",
              "      <td>...</td>\n",
              "      <td>...</td>\n",
              "      <td>...</td>\n",
              "      <td>...</td>\n",
              "      <td>...</td>\n",
              "      <td>...</td>\n",
              "      <td>...</td>\n",
              "      <td>...</td>\n",
              "      <td>...</td>\n",
              "      <td>...</td>\n",
              "      <td>...</td>\n",
              "      <td>...</td>\n",
              "      <td>...</td>\n",
              "      <td>...</td>\n",
              "      <td>...</td>\n",
              "      <td>...</td>\n",
              "      <td>...</td>\n",
              "      <td>...</td>\n",
              "      <td>...</td>\n",
              "    </tr>\n",
              "    <tr>\n",
              "      <th>61873</th>\n",
              "      <td>61874</td>\n",
              "      <td>1</td>\n",
              "      <td>0</td>\n",
              "      <td>0</td>\n",
              "      <td>1</td>\n",
              "      <td>1</td>\n",
              "      <td>0</td>\n",
              "      <td>0</td>\n",
              "      <td>0</td>\n",
              "      <td>0</td>\n",
              "      <td>0</td>\n",
              "      <td>0</td>\n",
              "      <td>1</td>\n",
              "      <td>3</td>\n",
              "      <td>0</td>\n",
              "      <td>0</td>\n",
              "      <td>9</td>\n",
              "      <td>0</td>\n",
              "      <td>2</td>\n",
              "      <td>0</td>\n",
              "      <td>0</td>\n",
              "      <td>0</td>\n",
              "      <td>7</td>\n",
              "      <td>0</td>\n",
              "      <td>3</td>\n",
              "      <td>6</td>\n",
              "      <td>1</td>\n",
              "      <td>0</td>\n",
              "      <td>0</td>\n",
              "      <td>65</td>\n",
              "      <td>1</td>\n",
              "      <td>0</td>\n",
              "      <td>4</td>\n",
              "      <td>3</td>\n",
              "      <td>1</td>\n",
              "      <td>1</td>\n",
              "      <td>1</td>\n",
              "      <td>2</td>\n",
              "      <td>1</td>\n",
              "      <td>0</td>\n",
              "      <td>...</td>\n",
              "      <td>3</td>\n",
              "      <td>1</td>\n",
              "      <td>0</td>\n",
              "      <td>0</td>\n",
              "      <td>0</td>\n",
              "      <td>1</td>\n",
              "      <td>0</td>\n",
              "      <td>22</td>\n",
              "      <td>0</td>\n",
              "      <td>1</td>\n",
              "      <td>4</td>\n",
              "      <td>11</td>\n",
              "      <td>3</td>\n",
              "      <td>0</td>\n",
              "      <td>0</td>\n",
              "      <td>3</td>\n",
              "      <td>0</td>\n",
              "      <td>1</td>\n",
              "      <td>1</td>\n",
              "      <td>2</td>\n",
              "      <td>0</td>\n",
              "      <td>0</td>\n",
              "      <td>29</td>\n",
              "      <td>0</td>\n",
              "      <td>0</td>\n",
              "      <td>0</td>\n",
              "      <td>0</td>\n",
              "      <td>0</td>\n",
              "      <td>0</td>\n",
              "      <td>0</td>\n",
              "      <td>1</td>\n",
              "      <td>0</td>\n",
              "      <td>0</td>\n",
              "      <td>0</td>\n",
              "      <td>0</td>\n",
              "      <td>0</td>\n",
              "      <td>0</td>\n",
              "      <td>2</td>\n",
              "      <td>0</td>\n",
              "      <td>9</td>\n",
              "    </tr>\n",
              "    <tr>\n",
              "      <th>61874</th>\n",
              "      <td>61875</td>\n",
              "      <td>4</td>\n",
              "      <td>0</td>\n",
              "      <td>0</td>\n",
              "      <td>0</td>\n",
              "      <td>0</td>\n",
              "      <td>0</td>\n",
              "      <td>0</td>\n",
              "      <td>0</td>\n",
              "      <td>0</td>\n",
              "      <td>0</td>\n",
              "      <td>0</td>\n",
              "      <td>0</td>\n",
              "      <td>4</td>\n",
              "      <td>2</td>\n",
              "      <td>0</td>\n",
              "      <td>0</td>\n",
              "      <td>0</td>\n",
              "      <td>0</td>\n",
              "      <td>0</td>\n",
              "      <td>0</td>\n",
              "      <td>0</td>\n",
              "      <td>0</td>\n",
              "      <td>0</td>\n",
              "      <td>0</td>\n",
              "      <td>2</td>\n",
              "      <td>0</td>\n",
              "      <td>0</td>\n",
              "      <td>0</td>\n",
              "      <td>1</td>\n",
              "      <td>0</td>\n",
              "      <td>0</td>\n",
              "      <td>0</td>\n",
              "      <td>2</td>\n",
              "      <td>1</td>\n",
              "      <td>0</td>\n",
              "      <td>2</td>\n",
              "      <td>0</td>\n",
              "      <td>0</td>\n",
              "      <td>0</td>\n",
              "      <td>...</td>\n",
              "      <td>0</td>\n",
              "      <td>0</td>\n",
              "      <td>0</td>\n",
              "      <td>0</td>\n",
              "      <td>0</td>\n",
              "      <td>0</td>\n",
              "      <td>0</td>\n",
              "      <td>1</td>\n",
              "      <td>2</td>\n",
              "      <td>0</td>\n",
              "      <td>0</td>\n",
              "      <td>1</td>\n",
              "      <td>5</td>\n",
              "      <td>0</td>\n",
              "      <td>0</td>\n",
              "      <td>0</td>\n",
              "      <td>0</td>\n",
              "      <td>0</td>\n",
              "      <td>0</td>\n",
              "      <td>0</td>\n",
              "      <td>0</td>\n",
              "      <td>0</td>\n",
              "      <td>1</td>\n",
              "      <td>0</td>\n",
              "      <td>11</td>\n",
              "      <td>0</td>\n",
              "      <td>0</td>\n",
              "      <td>0</td>\n",
              "      <td>0</td>\n",
              "      <td>0</td>\n",
              "      <td>0</td>\n",
              "      <td>2</td>\n",
              "      <td>0</td>\n",
              "      <td>0</td>\n",
              "      <td>2</td>\n",
              "      <td>0</td>\n",
              "      <td>0</td>\n",
              "      <td>1</td>\n",
              "      <td>0</td>\n",
              "      <td>9</td>\n",
              "    </tr>\n",
              "    <tr>\n",
              "      <th>61875</th>\n",
              "      <td>61876</td>\n",
              "      <td>0</td>\n",
              "      <td>0</td>\n",
              "      <td>0</td>\n",
              "      <td>0</td>\n",
              "      <td>0</td>\n",
              "      <td>0</td>\n",
              "      <td>0</td>\n",
              "      <td>3</td>\n",
              "      <td>1</td>\n",
              "      <td>0</td>\n",
              "      <td>0</td>\n",
              "      <td>0</td>\n",
              "      <td>0</td>\n",
              "      <td>1</td>\n",
              "      <td>0</td>\n",
              "      <td>0</td>\n",
              "      <td>0</td>\n",
              "      <td>1</td>\n",
              "      <td>0</td>\n",
              "      <td>0</td>\n",
              "      <td>0</td>\n",
              "      <td>0</td>\n",
              "      <td>0</td>\n",
              "      <td>1</td>\n",
              "      <td>0</td>\n",
              "      <td>0</td>\n",
              "      <td>0</td>\n",
              "      <td>0</td>\n",
              "      <td>0</td>\n",
              "      <td>0</td>\n",
              "      <td>0</td>\n",
              "      <td>0</td>\n",
              "      <td>3</td>\n",
              "      <td>0</td>\n",
              "      <td>0</td>\n",
              "      <td>2</td>\n",
              "      <td>0</td>\n",
              "      <td>0</td>\n",
              "      <td>0</td>\n",
              "      <td>...</td>\n",
              "      <td>0</td>\n",
              "      <td>0</td>\n",
              "      <td>0</td>\n",
              "      <td>0</td>\n",
              "      <td>19</td>\n",
              "      <td>0</td>\n",
              "      <td>0</td>\n",
              "      <td>4</td>\n",
              "      <td>0</td>\n",
              "      <td>0</td>\n",
              "      <td>0</td>\n",
              "      <td>0</td>\n",
              "      <td>18</td>\n",
              "      <td>0</td>\n",
              "      <td>0</td>\n",
              "      <td>0</td>\n",
              "      <td>0</td>\n",
              "      <td>2</td>\n",
              "      <td>0</td>\n",
              "      <td>0</td>\n",
              "      <td>0</td>\n",
              "      <td>2</td>\n",
              "      <td>0</td>\n",
              "      <td>0</td>\n",
              "      <td>0</td>\n",
              "      <td>0</td>\n",
              "      <td>0</td>\n",
              "      <td>0</td>\n",
              "      <td>0</td>\n",
              "      <td>0</td>\n",
              "      <td>0</td>\n",
              "      <td>3</td>\n",
              "      <td>1</td>\n",
              "      <td>0</td>\n",
              "      <td>0</td>\n",
              "      <td>0</td>\n",
              "      <td>0</td>\n",
              "      <td>0</td>\n",
              "      <td>0</td>\n",
              "      <td>9</td>\n",
              "    </tr>\n",
              "    <tr>\n",
              "      <th>61876</th>\n",
              "      <td>61877</td>\n",
              "      <td>1</td>\n",
              "      <td>0</td>\n",
              "      <td>0</td>\n",
              "      <td>0</td>\n",
              "      <td>0</td>\n",
              "      <td>0</td>\n",
              "      <td>0</td>\n",
              "      <td>0</td>\n",
              "      <td>0</td>\n",
              "      <td>0</td>\n",
              "      <td>0</td>\n",
              "      <td>0</td>\n",
              "      <td>0</td>\n",
              "      <td>0</td>\n",
              "      <td>0</td>\n",
              "      <td>3</td>\n",
              "      <td>0</td>\n",
              "      <td>0</td>\n",
              "      <td>0</td>\n",
              "      <td>0</td>\n",
              "      <td>0</td>\n",
              "      <td>0</td>\n",
              "      <td>0</td>\n",
              "      <td>2</td>\n",
              "      <td>1</td>\n",
              "      <td>0</td>\n",
              "      <td>0</td>\n",
              "      <td>1</td>\n",
              "      <td>2</td>\n",
              "      <td>0</td>\n",
              "      <td>0</td>\n",
              "      <td>2</td>\n",
              "      <td>1</td>\n",
              "      <td>0</td>\n",
              "      <td>0</td>\n",
              "      <td>5</td>\n",
              "      <td>0</td>\n",
              "      <td>0</td>\n",
              "      <td>0</td>\n",
              "      <td>...</td>\n",
              "      <td>0</td>\n",
              "      <td>0</td>\n",
              "      <td>1</td>\n",
              "      <td>0</td>\n",
              "      <td>0</td>\n",
              "      <td>0</td>\n",
              "      <td>0</td>\n",
              "      <td>2</td>\n",
              "      <td>0</td>\n",
              "      <td>0</td>\n",
              "      <td>0</td>\n",
              "      <td>0</td>\n",
              "      <td>6</td>\n",
              "      <td>0</td>\n",
              "      <td>0</td>\n",
              "      <td>0</td>\n",
              "      <td>1</td>\n",
              "      <td>0</td>\n",
              "      <td>0</td>\n",
              "      <td>0</td>\n",
              "      <td>0</td>\n",
              "      <td>0</td>\n",
              "      <td>0</td>\n",
              "      <td>0</td>\n",
              "      <td>0</td>\n",
              "      <td>0</td>\n",
              "      <td>0</td>\n",
              "      <td>0</td>\n",
              "      <td>0</td>\n",
              "      <td>0</td>\n",
              "      <td>0</td>\n",
              "      <td>0</td>\n",
              "      <td>0</td>\n",
              "      <td>0</td>\n",
              "      <td>1</td>\n",
              "      <td>0</td>\n",
              "      <td>3</td>\n",
              "      <td>10</td>\n",
              "      <td>0</td>\n",
              "      <td>9</td>\n",
              "    </tr>\n",
              "    <tr>\n",
              "      <th>61877</th>\n",
              "      <td>61878</td>\n",
              "      <td>0</td>\n",
              "      <td>0</td>\n",
              "      <td>0</td>\n",
              "      <td>0</td>\n",
              "      <td>0</td>\n",
              "      <td>0</td>\n",
              "      <td>0</td>\n",
              "      <td>0</td>\n",
              "      <td>0</td>\n",
              "      <td>0</td>\n",
              "      <td>0</td>\n",
              "      <td>0</td>\n",
              "      <td>3</td>\n",
              "      <td>0</td>\n",
              "      <td>1</td>\n",
              "      <td>1</td>\n",
              "      <td>1</td>\n",
              "      <td>1</td>\n",
              "      <td>0</td>\n",
              "      <td>0</td>\n",
              "      <td>0</td>\n",
              "      <td>3</td>\n",
              "      <td>0</td>\n",
              "      <td>2</td>\n",
              "      <td>1</td>\n",
              "      <td>0</td>\n",
              "      <td>0</td>\n",
              "      <td>0</td>\n",
              "      <td>9</td>\n",
              "      <td>0</td>\n",
              "      <td>0</td>\n",
              "      <td>0</td>\n",
              "      <td>0</td>\n",
              "      <td>0</td>\n",
              "      <td>0</td>\n",
              "      <td>2</td>\n",
              "      <td>0</td>\n",
              "      <td>0</td>\n",
              "      <td>0</td>\n",
              "      <td>...</td>\n",
              "      <td>1</td>\n",
              "      <td>0</td>\n",
              "      <td>1</td>\n",
              "      <td>0</td>\n",
              "      <td>0</td>\n",
              "      <td>3</td>\n",
              "      <td>0</td>\n",
              "      <td>4</td>\n",
              "      <td>0</td>\n",
              "      <td>0</td>\n",
              "      <td>0</td>\n",
              "      <td>0</td>\n",
              "      <td>10</td>\n",
              "      <td>2</td>\n",
              "      <td>0</td>\n",
              "      <td>0</td>\n",
              "      <td>0</td>\n",
              "      <td>0</td>\n",
              "      <td>0</td>\n",
              "      <td>3</td>\n",
              "      <td>1</td>\n",
              "      <td>0</td>\n",
              "      <td>0</td>\n",
              "      <td>0</td>\n",
              "      <td>0</td>\n",
              "      <td>0</td>\n",
              "      <td>0</td>\n",
              "      <td>0</td>\n",
              "      <td>1</td>\n",
              "      <td>0</td>\n",
              "      <td>0</td>\n",
              "      <td>0</td>\n",
              "      <td>0</td>\n",
              "      <td>0</td>\n",
              "      <td>0</td>\n",
              "      <td>0</td>\n",
              "      <td>0</td>\n",
              "      <td>2</td>\n",
              "      <td>0</td>\n",
              "      <td>9</td>\n",
              "    </tr>\n",
              "  </tbody>\n",
              "</table>\n",
              "<p>61878 rows × 95 columns</p>\n",
              "</div>"
            ],
            "text/plain": [
              "          id  feat_1  feat_2  feat_3  ...  feat_91  feat_92  feat_93  target\n",
              "0          1       1       0       0  ...        0        0        0       1\n",
              "1          2       0       0       0  ...        0        0        0       1\n",
              "2          3       0       0       0  ...        0        0        0       1\n",
              "3          4       1       0       0  ...        0        0        0       1\n",
              "4          5       0       0       0  ...        0        0        0       1\n",
              "...      ...     ...     ...     ...  ...      ...      ...      ...     ...\n",
              "61873  61874       1       0       0  ...        0        2        0       9\n",
              "61874  61875       4       0       0  ...        0        1        0       9\n",
              "61875  61876       0       0       0  ...        0        0        0       9\n",
              "61876  61877       1       0       0  ...        3       10        0       9\n",
              "61877  61878       0       0       0  ...        0        2        0       9\n",
              "\n",
              "[61878 rows x 95 columns]"
            ]
          },
          "metadata": {
            "tags": []
          },
          "execution_count": 47
        }
      ]
    },
    {
      "cell_type": "code",
      "metadata": {
        "id": "W7cL6WpHebi2",
        "colab_type": "code",
        "outputId": "375f2dc1-910c-4036-b2fc-03d810cc7ffb",
        "colab": {
          "base_uri": "https://localhost:8080/",
          "height": 187
        }
      },
      "source": [
        "df.target.value_counts()"
      ],
      "execution_count": 48,
      "outputs": [
        {
          "output_type": "execute_result",
          "data": {
            "text/plain": [
              "2    16122\n",
              "6    14135\n",
              "8     8464\n",
              "3     8004\n",
              "9     4955\n",
              "7     2839\n",
              "5     2739\n",
              "4     2691\n",
              "1     1929\n",
              "Name: target, dtype: int64"
            ]
          },
          "metadata": {
            "tags": []
          },
          "execution_count": 48
        }
      ]
    },
    {
      "cell_type": "markdown",
      "metadata": {
        "id": "y3x3uMI9ebi-",
        "colab_type": "text"
      },
      "source": [
        "#### Visualizations"
      ]
    },
    {
      "cell_type": "code",
      "metadata": {
        "id": "pwa1FUvrebi_",
        "colab_type": "code",
        "outputId": "5233b058-11f3-44b7-a8bf-a81aed557e76",
        "colab": {
          "base_uri": "https://localhost:8080/",
          "height": 412
        }
      },
      "source": [
        "# Plotting a bar chart for the target values\n",
        "category_count = df.target.value_counts()\n",
        "plt.figure(figsize=(10,6))\n",
        "sns.barplot(category_count.index, category_count.values,\n",
        "            order=category_count.index,\n",
        "            alpha=0.8)\n",
        "plt.title('Number of Products In Each Category', fontdict={'fontsize': 16})\n",
        "plt.ylabel('Count')\n",
        "plt.xlabel('Categories', fontdict={'fontsize': 12});"
      ],
      "execution_count": 49,
      "outputs": [
        {
          "output_type": "display_data",
          "data": {
            "image/png": "[encoded data removed]",
            "text/plain": [
              "<Figure size 720x432 with 1 Axes>"
            ]
          },
          "metadata": {
            "tags": []
          }
        }
      ]
    },
    {
      "cell_type": "code",
      "metadata": {
        "id": "FvfdKpMQebjE",
        "colab_type": "code",
        "outputId": "01d55efb-7536-4756-b6b4-f933721a407d",
        "colab": {
          "base_uri": "https://localhost:8080/",
          "height": 412
        }
      },
      "source": [
        "# Visualize distribution\n",
        "\n",
        "plt.figure(figsize=(10,6))\n",
        "sns.distplot(df.target, bins=15)\n",
        "plt.title('Distribution of Categories', fontdict={'fontsize': 16});"
      ],
      "execution_count": 50,
      "outputs": [
        {
          "output_type": "display_data",
          "data": {
            "image/png": "[encoded data removed]",
            "text/plain": [
              "<Figure size 720x432 with 1 Axes>"
            ]
          },
          "metadata": {
            "tags": []
          }
        }
      ]
    },
    {
      "cell_type": "code",
      "metadata": {
        "id": "tMvYiivjebjJ",
        "colab_type": "code",
        "colab": {}
      },
      "source": [
        "# Split into features and label\n",
        "\n",
        "X = df.drop('target', axis=1)\n",
        "y = df.target\n",
        "\n",
        "# Split into test and train set\n",
        "X_train, X_test, y_train, y_test = train_test_split(X, y, test_size=0.2)"
      ],
      "execution_count": 0,
      "outputs": []
    },
    {
      "cell_type": "code",
      "metadata": {
        "id": "hUaO3asVebjO",
        "colab_type": "code",
        "outputId": "782684e6-efc1-4aed-c932-ab377a1bf7db",
        "colab": {
          "base_uri": "https://localhost:8080/",
          "height": 398
        }
      },
      "source": [
        "# Visualize dataset with PCA\n",
        "from sklearn.decomposition import PCA\n",
        "\n",
        "# instantiate model with 2 dimensions\n",
        "pca = PCA(2)\n",
        "\n",
        "# project from 93 to 2 dimensions\n",
        "projected = pca.fit_transform(df)\n",
        "\n",
        "# plot\n",
        "plt.figure(figsize=(10,6))\n",
        "plt.scatter(projected[:,0], projected[:,1],\n",
        "            c=df.target, edgecolor='none', alpha=0.5,\n",
        "            cmap=plt.get_cmap('Spectral', 10))\n",
        "plt.xlabel('PCA1')\n",
        "plt.colorbar(label='Categories');"
      ],
      "execution_count": 52,
      "outputs": [
        {
          "output_type": "display_data",
          "data": {
            "image/png": "[encoded data removed]",
            "text/plain": [
              "<Figure size 720x432 with 2 Axes>"
            ]
          },
          "metadata": {
            "tags": []
          }
        }
      ]
    },
    {
      "cell_type": "markdown",
      "metadata": {
        "id": "wsKjSvDeebjS",
        "colab_type": "text"
      },
      "source": [
        "The full data is a 93-dimensional point cloud. These points are the projection of each data point along the directions with largest variance.\n",
        "\n",
        "See [Principal Component Analysis (Data Science Handbook)](https://jakevdp.github.io/PythonDataScienceHandbook/05.09-principal-component-analysis.html)."
      ]
    },
    {
      "cell_type": "code",
      "metadata": {
        "id": "UXUSK5snebjU",
        "colab_type": "code",
        "outputId": "a2e7399a-ff6c-49b4-c64b-38ea87a94fb3",
        "colab": {
          "base_uri": "https://localhost:8080/",
          "height": 398
        }
      },
      "source": [
        "# Visualize dataset with LDA\n",
        "from sklearn.discriminant_analysis import LinearDiscriminantAnalysis\n",
        "\n",
        "# instantiate model with 2 dimensions\n",
        "lda = LinearDiscriminantAnalysis(n_components=2)\n",
        "\n",
        "# project from 93 to 2 dimensions\n",
        "projected = lda.fit_transform(X, y)\n",
        "\n",
        "# plot\n",
        "plt.figure(figsize=(10,6))\n",
        "plt.scatter(projected[:,0], projected[:,1],\n",
        "            c=df.target, edgecolor='none', alpha=0.5,\n",
        "            cmap=plt.get_cmap('Spectral', 10))\n",
        "plt.xlabel('LDA 1')\n",
        "plt.ylabel('LDA 2')\n",
        "plt.colorbar(label='Categories');"
      ],
      "execution_count": 53,
      "outputs": [
        {
          "output_type": "display_data",
          "data": {
            "image/png": "[encoded data removed]",
            "text/plain": [
              "<Figure size 720x432 with 2 Axes>"
            ]
          },
          "metadata": {
            "tags": []
          }
        }
      ]
    },
    {
      "cell_type": "markdown",
      "metadata": {
        "id": "CrwbReS0ebjY",
        "colab_type": "text"
      },
      "source": [
        "## 5. Data Modelling"
      ]
    },
    {
      "cell_type": "markdown",
      "metadata": {
        "id": "4yuTnvM0ebja",
        "colab_type": "text"
      },
      "source": [
        "### Dimensionality Reduction with PCA"
      ]
    },
    {
      "cell_type": "code",
      "metadata": {
        "id": "P2JkK5Yxebjb",
        "colab_type": "code",
        "outputId": "0779749c-312e-45e3-e538-b9796bdac476",
        "colab": {
          "base_uri": "https://localhost:8080/",
          "height": 301
        }
      },
      "source": [
        "# Fitting the PCA algorithm with our Data\n",
        "pca = PCA().fit(X)\n",
        "\n",
        "# Plotting the Cumulative Summation of the Explained Variance\n",
        "plt.figure()\n",
        "plt.plot(np.cumsum(pca.explained_variance_ratio_))\n",
        "plt.xticks(np.arange(0, 100, step=10))\n",
        "plt.xlabel('Number of Components')\n",
        "plt.ylabel('Variance')\n",
        "plt.title('Explained Variance');"
      ],
      "execution_count": 54,
      "outputs": [
        {
          "output_type": "display_data",
          "data": {
            "image/png": "[encoded data removed]",
            "text/plain": [
              "<Figure size 432x288 with 1 Axes>"
            ]
          },
          "metadata": {
            "tags": []
          }
        }
      ]
    },
    {
      "cell_type": "markdown",
      "metadata": {
        "id": "A4zcvd3mebjh",
        "colab_type": "text"
      },
      "source": [
        "**Note**: With 80 components, we preserve almost 100% of the total variance of the data."
      ]
    },
    {
      "cell_type": "code",
      "metadata": {
        "id": "jxGAZHTjebjj",
        "colab_type": "code",
        "outputId": "9c1efc5a-c865-4bc1-c37f-52cfa24f36dc",
        "colab": {
          "base_uri": "https://localhost:8080/",
          "height": 34
        }
      },
      "source": [
        "# Reduce dimensionality with PCA\n",
        "\n",
        "# Create PCA\n",
        "pca = PCA(n_components=80, whiten=True)\n",
        "X_train_pca = pca.fit_transform(X_train)\n",
        "X_test_pca = pca.fit_transform(X_test)\n",
        "\n",
        "X_train_pca.shape, X_test_pca.shape"
      ],
      "execution_count": 55,
      "outputs": [
        {
          "output_type": "execute_result",
          "data": {
            "text/plain": [
              "((49502, 80), (12376, 80))"
            ]
          },
          "metadata": {
            "tags": []
          },
          "execution_count": 55
        }
      ]
    },
    {
      "cell_type": "markdown",
      "metadata": {
        "id": "B2044iBHebjp",
        "colab_type": "text"
      },
      "source": [
        "### Naive Gaussian Bayes"
      ]
    },
    {
      "cell_type": "code",
      "metadata": {
        "id": "KvfY8mS_ebjq",
        "colab_type": "code",
        "colab": {}
      },
      "source": [
        "# Instantiate Gaussian Naive Bayes and fit\n",
        "naive_bayes_pca_clf = GaussianNB().fit(X_train_pca, y_train)"
      ],
      "execution_count": 0,
      "outputs": []
    },
    {
      "cell_type": "code",
      "metadata": {
        "id": "BfcSX6EPebjv",
        "colab_type": "code",
        "colab": {}
      },
      "source": [
        "# Create k-fold cross-validation\n",
        "skf = StratifiedKFold(n_splits=10,\n",
        "                      shuffle=True,\n",
        "                      random_state=42)\n",
        "\n",
        "# Create a dictionary of scoring metrics\n",
        "scoring = {'accuracy': 'accuracy',\n",
        "           'precision': make_scorer(precision_score, average='weighted'),\n",
        "           'recall': make_scorer(recall_score, average='weighted'),\n",
        "           'f1': make_scorer(f1_score, average='weighted'),\n",
        "           'log loss': 'neg_log_loss'}\n",
        "\n",
        "# Create helper function for cross-validated scores\n",
        "def average_score_on_cross_val_classification(clf, X, y, scoring=scoring, cv=skf):\n",
        "    \"\"\"\n",
        "    Evaluates a given model/estimator using cross-validation\n",
        "    and returns a dict containing the absolute vlues of the average (mean) scores\n",
        "    for classification models.\n",
        "\n",
        "    clf: scikit-learn classification model\n",
        "    X: features (no labels)\n",
        "    y: labels\n",
        "    scoring: a dictionary of scoring metrics\n",
        "    cv: cross-validation strategy\n",
        "    \"\"\"\n",
        "    # Score metrics on cross-validated dataset\n",
        "    scores_dict = cross_validate(clf, X, y, scoring=scoring, cv=skf, n_jobs=-1)\n",
        "    \n",
        "    # return the average scores for each metric\n",
        "    return {metric: round(np.mean(scores), 5) for metric, scores in scores_dict.items()}"
      ],
      "execution_count": 0,
      "outputs": []
    },
    {
      "cell_type": "code",
      "metadata": {
        "id": "THEsywtlebjz",
        "colab_type": "code",
        "outputId": "95f7f79c-1e42-4aaa-88ab-ede852e6cff3",
        "colab": {
          "base_uri": "https://localhost:8080/",
          "height": 136
        }
      },
      "source": [
        "# Score model\n",
        "naive_bayes_pca_metrics = average_score_on_cross_val_classification(naive_bayes_pca_clf, X, y)\n",
        "naive_bayes_pca_metrics"
      ],
      "execution_count": 58,
      "outputs": [
        {
          "output_type": "execute_result",
          "data": {
            "text/plain": [
              "{'fit_time': 0.15779,\n",
              " 'score_time': 0.1023,\n",
              " 'test_accuracy': 0.81145,\n",
              " 'test_f1': 0.80181,\n",
              " 'test_log loss': -2.13586,\n",
              " 'test_precision': 0.82919,\n",
              " 'test_recall': 0.81145}"
            ]
          },
          "metadata": {
            "tags": []
          },
          "execution_count": 58
        }
      ]
    },
    {
      "cell_type": "code",
      "metadata": {
        "id": "Q8nzx-2Bebj4",
        "colab_type": "code",
        "colab": {}
      },
      "source": [
        "# Make predictions\n",
        "y_preds_naive_bayes_pca = naive_bayes_pca_clf.predict(X_test_pca)\n",
        "y_preds_naive_bayes_proba_pca = naive_bayes_pca_clf.predict_proba(X_test_pca)"
      ],
      "execution_count": 0,
      "outputs": []
    },
    {
      "cell_type": "code",
      "metadata": {
        "id": "ELMjelwqebj7",
        "colab_type": "code",
        "outputId": "6306b0c7-4890-4979-ec15-a308f1b93828",
        "colab": {
          "base_uri": "https://localhost:8080/",
          "height": 34
        }
      },
      "source": [
        "# Multi-class log loss on predictions\n",
        "log_loss(y_test, y_preds_naive_bayes_proba_pca)"
      ],
      "execution_count": 60,
      "outputs": [
        {
          "output_type": "execute_result",
          "data": {
            "text/plain": [
              "18.892941822587655"
            ]
          },
          "metadata": {
            "tags": []
          },
          "execution_count": 60
        }
      ]
    },
    {
      "cell_type": "markdown",
      "metadata": {
        "id": "VVgSK7dEebkA",
        "colab_type": "text"
      },
      "source": [
        "**Note**: In the competition, the best score was 0.38242!\n",
        "Naive Gaussian Bayes doesn't do well here!"
      ]
    },
    {
      "cell_type": "code",
      "metadata": {
        "id": "AjoSpMAdebkB",
        "colab_type": "code",
        "outputId": "fe49e1f0-6c62-489f-b8ea-aa39a8ce2153",
        "colab": {
          "base_uri": "https://localhost:8080/",
          "height": 318
        }
      },
      "source": [
        "# Confusion Matrix\n",
        "naive_bayes_pca_conf_mat = confusion_matrix(y_test, y_preds_naive_bayes_pca)\n",
        "\n",
        "sns.set(font_scale=1.5)\n",
        "sns.heatmap(naive_bayes_pca_conf_mat.T, annot=True, fmt='d', annot_kws={'size': 16}, cmap='Blues', cbar=False)\n",
        "plt.xlabel('test labels')\n",
        "plt.ylabel('predicted labels')\n",
        "plt.title('Confusion Matrix for Naive Bayes on PCA-reduced dataset');"
      ],
      "execution_count": 61,
      "outputs": [
        {
          "output_type": "display_data",
          "data": {
            "image/png": "[encoded data removed]",
            "text/plain": [
              "<Figure size 432x288 with 1 Axes>"
            ]
          },
          "metadata": {
            "tags": []
          }
        }
      ]
    },
    {
      "cell_type": "markdown",
      "metadata": {
        "id": "8czT0fHGebkF",
        "colab_type": "text"
      },
      "source": [
        "### Random Forest Classification"
      ]
    },
    {
      "cell_type": "code",
      "metadata": {
        "id": "YXQRmw2mebkG",
        "colab_type": "code",
        "colab": {}
      },
      "source": [
        "# Initialize and fit Random Forest Classifier\n",
        "rf_pca_clf = RandomForestClassifier().fit(X_train_pca, y_train)"
      ],
      "execution_count": 0,
      "outputs": []
    },
    {
      "cell_type": "code",
      "metadata": {
        "id": "TBzjVhA9ebkL",
        "colab_type": "code",
        "outputId": "8e5a432b-d7fb-47db-8eab-1d65a245bf54",
        "colab": {
          "base_uri": "https://localhost:8080/",
          "height": 136
        }
      },
      "source": [
        "# Show scores\n",
        "rf_pca_metrics = average_score_on_cross_val_classification(rf_pca_clf, X, y)\n",
        "rf_pca_metrics"
      ],
      "execution_count": 63,
      "outputs": [
        {
          "output_type": "execute_result",
          "data": {
            "text/plain": [
              "{'fit_time': 13.37975,\n",
              " 'score_time': 0.37316,\n",
              " 'test_accuracy': 0.99493,\n",
              " 'test_f1': 0.99493,\n",
              " 'test_log loss': -0.14324,\n",
              " 'test_precision': 0.99494,\n",
              " 'test_recall': 0.99493}"
            ]
          },
          "metadata": {
            "tags": []
          },
          "execution_count": 63
        }
      ]
    },
    {
      "cell_type": "code",
      "metadata": {
        "id": "Sk3hNgQbebkQ",
        "colab_type": "code",
        "colab": {}
      },
      "source": [
        "# Create predictions\n",
        "y_preds_rf_pca = rf_pca_clf.predict(X_test_pca)\n",
        "y_preds_rf_proba_pca = rf_pca_clf.predict_proba(X_test_pca)"
      ],
      "execution_count": 0,
      "outputs": []
    },
    {
      "cell_type": "code",
      "metadata": {
        "id": "Dh4HMHjCebkU",
        "colab_type": "code",
        "outputId": "030026e8-1243-4011-c8d0-840c82868cd0",
        "colab": {
          "base_uri": "https://localhost:8080/",
          "height": 34
        }
      },
      "source": [
        "log_loss(y_test, y_preds_rf_proba_pca)"
      ],
      "execution_count": 65,
      "outputs": [
        {
          "output_type": "execute_result",
          "data": {
            "text/plain": [
              "2.776634205396304"
            ]
          },
          "metadata": {
            "tags": []
          },
          "execution_count": 65
        }
      ]
    },
    {
      "cell_type": "code",
      "metadata": {
        "id": "NlYnKMMsebkY",
        "colab_type": "code",
        "outputId": "e11bf374-902f-4ff4-815b-0fb17a22c438",
        "colab": {
          "base_uri": "https://localhost:8080/",
          "height": 318
        }
      },
      "source": [
        "# Confusion Matrix\n",
        "naive_bayes_pca_conf_mat = confusion_matrix(y_test, y_preds_naive_bayes_pca)\n",
        "\n",
        "sns.set(font_scale=1.5)\n",
        "sns.heatmap(naive_bayes_pca_conf_mat.T, annot=True, fmt='d', annot_kws={'size': 16}, cmap='Blues', cbar=False)\n",
        "plt.xlabel('test labels')\n",
        "plt.ylabel('predicted labels')\n",
        "plt.title('Confusion Matrix for Random Forest Classifier on PCA-reduced dataset');"
      ],
      "execution_count": 66,
      "outputs": [
        {
          "output_type": "display_data",
          "data": {
            "image/png": "[encoded data removed]",
            "text/plain": [
              "<Figure size 432x288 with 1 Axes>"
            ]
          },
          "metadata": {
            "tags": []
          }
        }
      ]
    },
    {
      "cell_type": "code",
      "metadata": {
        "id": "-aQYm_VAebkf",
        "colab_type": "code",
        "outputId": "8686dbcd-1bd2-46cf-ee95-d84a03156e48",
        "colab": {
          "base_uri": "https://localhost:8080/",
          "height": 393
        }
      },
      "source": [
        "# Visualize cross-validated metrics\n",
        "compare_metrics_df = pd.DataFrame({'Naive Bayes (PCA)': naive_bayes_pca_metrics,\n",
        "                                   'Random Forest (PCA)': rf_pca_metrics},\n",
        "                                  index=naive_bayes_pca_metrics.keys())\n",
        "\n",
        "compare_metrics_df.plot(title='Metrics for PCA-reduced Dataset (cross-validated)',\n",
        "                        color=['lightblue', 'salmon'],\n",
        "                        kind='bar');"
      ],
      "execution_count": 67,
      "outputs": [
        {
          "output_type": "display_data",
          "data": {
            "image/png": "[encoded data removed]",
            "text/plain": [
              "<Figure size 432x288 with 1 Axes>"
            ]
          },
          "metadata": {
            "tags": []
          }
        }
      ]
    },
    {
      "cell_type": "markdown",
      "metadata": {
        "id": "f00JEJX7ebkp",
        "colab_type": "text"
      },
      "source": [
        "### Experiments With Dimensionality Reduction and Feature Selection"
      ]
    },
    {
      "cell_type": "markdown",
      "metadata": {
        "id": "lQwlo4BCebks",
        "colab_type": "text"
      },
      "source": [
        "#### Linear Discriminant Analysis\n",
        "\n",
        "Find out how many components are required to get above 0.95 variance threshold.\n",
        "\n",
        "See also [Chris Albon's notes](https://chrisalbon.com/machine_learning/feature_engineering/lda_for_dimensionality_reduction/).\n",
        "\n",
        "From [Machine Learning Mastery](https://machinelearningmastery.com/linear-discriminant-analysis-for-machine-learning/):\n",
        "> Logistic regression is a simple and powerful linear classification algorithm. It also has limitations that suggest at the need for alternate linear classification algorithms.\n",
        "\n",
        "> * **Two-Class Problems**. Logistic regression is intended for two-class or binary classification problems. It can be extended for multi-class classification, but is rarely used for this purpose.\n",
        "> * **Unstable With Well Separated Classes**. Logistic regression can become unstable when the classes are well separated.\n",
        "> * **Unstable With Few Examples**. Logistic regression can become unstable when there are few examples from which to estimate the parameters.\n",
        "\n",
        "> Linear Discriminant Analysis does address each of these points and is the go-to linear method for multi-class classification problems. Even with binary-classification problems, it is a good idea to try both logistic regression and linear discriminant analysis."
      ]
    },
    {
      "cell_type": "code",
      "metadata": {
        "id": "CMoFVdcTebku",
        "colab_type": "code",
        "colab": {}
      },
      "source": [
        "# Standardize features\n",
        "X_train_std = StandardScaler().fit_transform(X_train)"
      ],
      "execution_count": 0,
      "outputs": []
    },
    {
      "cell_type": "code",
      "metadata": {
        "id": "UTYCec0mebkz",
        "colab_type": "code",
        "colab": {}
      },
      "source": [
        "# Create and fit LDA\n",
        "lda = LinearDiscriminantAnalysis(n_components=None)\n",
        "features_lda = lda.fit(X_train_std, y_train)\n",
        "\n",
        "# Create array of explained variance rations\n",
        "lda_var_ratios = lda.explained_variance_ratio_"
      ],
      "execution_count": 0,
      "outputs": []
    },
    {
      "cell_type": "code",
      "metadata": {
        "id": "BDEAz65Uebk7",
        "colab_type": "code",
        "colab": {}
      },
      "source": [
        "# Function for selecting n components\n",
        "def select_n_lda_components(var_ratio, goal_var):\n",
        "    # Set initial variance\n",
        "    total_variance = 0.0\n",
        "    # Set initial number of components\n",
        "    n_components = 0\n",
        "    # loop\n",
        "    for explained_variance in var_ratio:\n",
        "        # Add explained variance to total\n",
        "        total_variance += explained_variance\n",
        "        # Increment number of components\n",
        "        n_components += 1\n",
        "        # Stop loop if goal level of explained variance is met\n",
        "        if total_variance >= goal_var:\n",
        "            break\n",
        "    \n",
        "    return n_components"
      ],
      "execution_count": 0,
      "outputs": []
    },
    {
      "cell_type": "code",
      "metadata": {
        "id": "3ixKHcIoeblA",
        "colab_type": "code",
        "outputId": "ca3ec296-a961-4fe5-dd42-b901359aa1b9",
        "colab": {
          "base_uri": "https://localhost:8080/",
          "height": 34
        }
      },
      "source": [
        "lda_components = select_n_lda_components(lda_var_ratios, 0.95)\n",
        "lda_components"
      ],
      "execution_count": 71,
      "outputs": [
        {
          "output_type": "execute_result",
          "data": {
            "text/plain": [
              "4"
            ]
          },
          "metadata": {
            "tags": []
          },
          "execution_count": 71
        }
      ]
    },
    {
      "cell_type": "markdown",
      "metadata": {
        "id": "wGTiNwzSeblD",
        "colab_type": "text"
      },
      "source": [
        "#### Truncated Singular Value Decomposition (TSVD)\n",
        "\n",
        "The dataset shows that this challenge provides a **sparse feature matrix**.\n",
        "\n",
        "_Truncated SVD_ is an ideal candidate:\n",
        "\n",
        "From the [sci-kit learn documentation](https://scikit-learn.org/stable/modules/generated/sklearn.decomposition.TruncatedSVD.html):\n",
        "\n",
        "> This transformer performs linear dimensionality reduction by means of truncated singular value decomposition (SVD). Contrary to PCA, this estimator does not center the data before computing the singular value decomposition. This means it can work with scipy.sparse matrices efficiently\n",
        "\n",
        "See also [Chris Albon's notes](https://chrisalbon.com/machine_learning/feature_engineering/dimensionality_reduction_on_sparse_feature_matrix/)."
      ]
    },
    {
      "cell_type": "code",
      "metadata": {
        "colab_type": "code",
        "outputId": "a671607d-1e42-4b8f-ca03-973d5f92771a",
        "id": "XfpfP5yh-x61",
        "colab": {
          "base_uri": "https://localhost:8080/",
          "height": 414
        }
      },
      "source": [
        "# Visualize dataset with TSDV\n",
        "\n",
        "# instantiate model with 2 dimensions\n",
        "tsvd = TruncatedSVD(n_components=2)\n",
        "\n",
        "# project from 93 to 2 dimensions\n",
        "projected = tsdv.fit_transform(X, y)\n",
        "\n",
        "# plot\n",
        "plt.figure(figsize=(10,6))\n",
        "plt.scatter(projected[:,0], projected[:,1],\n",
        "            c=df.target, edgecolor='none', alpha=0.5,\n",
        "            cmap=plt.get_cmap('Spectral', 10))\n",
        "plt.xlabel('TSVD 1')\n",
        "plt.ylabel('TSVD 2')\n",
        "plt.colorbar(label='Categories');"
      ],
      "execution_count": 79,
      "outputs": [
        {
          "output_type": "display_data",
          "data": {
            "image/png": "[encoded data removed]",
            "text/plain": [
              "<Figure size 720x432 with 2 Axes>"
            ]
          },
          "metadata": {
            "tags": []
          }
        }
      ]
    },
    {
      "cell_type": "code",
      "metadata": {
        "id": "xUD8n0bfeblE",
        "colab_type": "code",
        "colab": {}
      },
      "source": [
        "# Create and run TSVD with one less than number of (sparse) features\n",
        "tsvd = TruncatedSVD(n_components=X_train_std.shape[1]-1)\n",
        "features_tsvd = tsvd.fit(X_train)\n",
        "\n",
        "# List of explained variances\n",
        "tsvd_var_ratios = tsvd.explained_variance_ratio_"
      ],
      "execution_count": 0,
      "outputs": []
    },
    {
      "cell_type": "code",
      "metadata": {
        "id": "xDcNzziieblN",
        "colab_type": "code",
        "colab": {}
      },
      "source": [
        "# Create a function\n",
        "def select_n_tsvd_components(var_ratio, goal_var):\n",
        "    # Set initial variance\n",
        "    total_variance = 0.0\n",
        "    # Set initial number of components\n",
        "    n_components = 0\n",
        "    # loop\n",
        "    for explained_variance in var_ratio:\n",
        "        # Add explained variance to total\n",
        "        total_variance += explained_variance\n",
        "        # Increment number of components\n",
        "        n_components += 1\n",
        "        # Stop loop if goal level of explained variance is met\n",
        "        if total_variance >= goal_var:\n",
        "            break\n",
        "    \n",
        "    return n_components "
      ],
      "execution_count": 0,
      "outputs": []
    },
    {
      "cell_type": "code",
      "metadata": {
        "id": "YxNzkdh0eblV",
        "colab_type": "code",
        "outputId": "4c6a8641-c3d6-4c72-fb60-ea522bec4722",
        "colab": {
          "base_uri": "https://localhost:8080/",
          "height": 34
        }
      },
      "source": [
        "tsvd_components = select_n_tsvd_components(tsvd_var_ratios, 0.95)\n",
        "tsvd_components"
      ],
      "execution_count": 11,
      "outputs": [
        {
          "output_type": "execute_result",
          "data": {
            "text/plain": [
              "1"
            ]
          },
          "metadata": {
            "tags": []
          },
          "execution_count": 11
        }
      ]
    },
    {
      "cell_type": "markdown",
      "metadata": {
        "id": "MLRHMotjeblc",
        "colab_type": "text"
      },
      "source": [
        "### Create Pipeline And Compare Three Different Models"
      ]
    },
    {
      "cell_type": "code",
      "metadata": {
        "id": "-4krjCDEebld",
        "colab_type": "code",
        "colab": {}
      },
      "source": [
        "# Create features union\n",
        "# Standardizes feature matrix, uses TSVD, then selects 6 best features\n",
        "features = []\n",
        "features.append(('standardize', StandardScaler()))\n",
        "features.append(('tsvd', TruncatedSVD(n_components=tsvd_components)))\n",
        "feature_union = FeatureUnion(features)"
      ],
      "execution_count": 0,
      "outputs": []
    },
    {
      "cell_type": "code",
      "metadata": {
        "id": "Y0b5EIT0eblg",
        "colab_type": "code",
        "colab": {}
      },
      "source": [
        "# Create pipeline\n",
        "# combines feature union with scikit-learn estimator\n",
        "\n",
        "# Logistic Regression\n",
        "estimators_log_r =  []\n",
        "estimators_log_r.append(('feature_union', feature_union))\n",
        "estimators_log_r.append(('logistic', LogisticRegression(random_state=42)))\n",
        "model_log_r = Pipeline(estimators_log_r)\n",
        "\n",
        "# SVC\n",
        "estimators_svc = []\n",
        "estimators_svc.append(('feature_union', feature_union))\n",
        "estimators_svc.append(('svc', SVC(probability=True, random_state=42)))\n",
        "model_svc = Pipeline(estimators_svc)\n",
        "\n",
        "# Random Forest\n",
        "estimators_rf = []\n",
        "estimators_rf.append(('feature_union', feature_union))\n",
        "estimators_rf.append(('rf', RandomForestClassifier(n_jobs=-1, random_state=42)))\n",
        "model_rf = Pipeline(estimators_rf)\n",
        "\n",
        "models = {'Logistic_Regression': model_log_r,\n",
        "          'SVC': model_svc,\n",
        "          'Random_Forest_C': model_rf}"
      ],
      "execution_count": 0,
      "outputs": []
    },
    {
      "cell_type": "code",
      "metadata": {
        "id": "ZCWIfGVfeblj",
        "colab_type": "code",
        "outputId": "ceeb7292-b8cb-48f3-9ecb-8de0c64b1b47",
        "colab": {
          "base_uri": "https://localhost:8080/",
          "height": 428
        }
      },
      "source": [
        "# Run and score all models\n",
        "np.random.seed(42)\n",
        "scores = {name: average_score_on_cross_val_classification(model, X, y) for name, model in models.items()}\n",
        "scores"
      ],
      "execution_count": 85,
      "outputs": [
        {
          "output_type": "stream",
          "text": [
            "/usr/local/lib/python3.6/dist-packages/joblib/externals/loky/process_executor.py:706: UserWarning: A worker stopped while some jobs were given to the executor. This can be caused by a too short worker timeout or by a memory leak.\n",
            "  \"timeout or by a memory leak.\", UserWarning\n"
          ],
          "name": "stderr"
        },
        {
          "output_type": "execute_result",
          "data": {
            "text/plain": [
              "{'Logistic_Regression': {'fit_time': 10.89754,\n",
              "  'score_time': 0.04632,\n",
              "  'test_accuracy': 0.80743,\n",
              "  'test_f1': 0.78701,\n",
              "  'test_log loss': -0.66883,\n",
              "  'test_precision': 0.80558,\n",
              "  'test_recall': 0.80743},\n",
              " 'Random_Forest_C': {'fit_time': 11.40841,\n",
              "  'score_time': 0.45003,\n",
              "  'test_accuracy': 0.99945,\n",
              "  'test_f1': 0.99945,\n",
              "  'test_log loss': -0.06393,\n",
              "  'test_precision': 0.99945,\n",
              "  'test_recall': 0.99945},\n",
              " 'SVC': {'fit_time': 200.75772,\n",
              "  'score_time': 28.49655,\n",
              "  'test_accuracy': 0.99911,\n",
              "  'test_f1': 0.99911,\n",
              "  'test_log loss': -0.01378,\n",
              "  'test_precision': 0.99912,\n",
              "  'test_recall': 0.99911}}"
            ]
          },
          "metadata": {
            "tags": []
          },
          "execution_count": 85
        }
      ]
    },
    {
      "cell_type": "code",
      "metadata": {
        "id": "S-KGgKM4ebl5",
        "colab_type": "code",
        "outputId": "6f47170d-ba14-4eb4-ab35-dab3a5a8f6c6",
        "colab": {
          "base_uri": "https://localhost:8080/",
          "height": 393
        }
      },
      "source": [
        "# Visualize cross-validated metrics\n",
        "\n",
        "# Create DataFrame with all scores\n",
        "compare_pipeline_metrics_df = pd.DataFrame({'Logistic Regression': scores['Logistic_Regression'],\n",
        "                                            'SVC': scores['SVC'],\n",
        "                                            'Random_Forest_C': scores['Random_Forest_C']},\n",
        "                                            index=scores['SVC'].keys())\n",
        "\n",
        "# Drop rows: fit_time, score_time\n",
        "compare_pipeline_metrics_df.drop(['fit_time', 'score_time'], inplace=True)\n",
        "\n",
        "compare_pipeline_metrics_df.plot(title='Metrics for Models After Pre-processsing Pipeline (cross-validated)',\n",
        "                        color=['pink', 'gray', 'yellow'],\n",
        "                        kind='bar');"
      ],
      "execution_count": 86,
      "outputs": [
        {
          "output_type": "display_data",
          "data": {
            "image/png": "[encoded data removed]",
            "text/plain": [
              "<Figure size 432x288 with 1 Axes>"
            ]
          },
          "metadata": {
            "tags": []
          }
        }
      ]
    },
    {
      "cell_type": "markdown",
      "metadata": {
        "id": "-huogyQ3ebmB",
        "colab_type": "text"
      },
      "source": [
        "### Explore Support Vector Machine"
      ]
    },
    {
      "cell_type": "code",
      "metadata": {
        "id": "RJ2msXIXebmC",
        "colab_type": "code",
        "colab": {}
      },
      "source": [
        "# Create features pipeline\n",
        "features = []\n",
        "features.append(('standardize', StandardScaler()))\n",
        "features.append(('tsvd', TruncatedSVD(n_components=tsvd_components, random_state=42)))\n",
        "feature_union = FeatureUnion(features)"
      ],
      "execution_count": 0,
      "outputs": []
    },
    {
      "cell_type": "code",
      "metadata": {
        "id": "26AEaX_NebmH",
        "colab_type": "code",
        "outputId": "b9516b6b-9128-428f-ba07-3377b2172355",
        "colab": {
          "base_uri": "https://localhost:8080/",
          "height": 391
        }
      },
      "source": [
        "# Create SVC pipeline\n",
        "estimators_svc = []\n",
        "estimators_svc.append(('feature_union', feature_union))\n",
        "estimators_svc.append(('svc', SVC(class_weight='balanced', probability=True, random_state=42)))\n",
        "\n",
        "svc_model = Pipeline(estimators_svc)\n",
        "svc_model"
      ],
      "execution_count": 13,
      "outputs": [
        {
          "output_type": "execute_result",
          "data": {
            "text/plain": [
              "Pipeline(memory=None,\n",
              "         steps=[('feature_union',\n",
              "                 FeatureUnion(n_jobs=None,\n",
              "                              transformer_list=[('standardize',\n",
              "                                                 StandardScaler(copy=True,\n",
              "                                                                with_mean=True,\n",
              "                                                                with_std=True)),\n",
              "                                                ('tsvd',\n",
              "                                                 TruncatedSVD(algorithm='randomized',\n",
              "                                                              n_components=1,\n",
              "                                                              n_iter=5,\n",
              "                                                              random_state=42,\n",
              "                                                              tol=0.0))],\n",
              "                              transformer_weights=None, verbose=False)),\n",
              "                ('svc',\n",
              "                 SVC(C=1.0, break_ties=False, cache_size=200,\n",
              "                     class_weight='balanced', coef0=0.0,\n",
              "                     decision_function_shape='ovr', degree=3, gamma='scale',\n",
              "                     kernel='rbf', max_iter=-1, probability=True,\n",
              "                     random_state=42, shrinking=True, tol=0.001,\n",
              "                     verbose=False))],\n",
              "         verbose=False)"
            ]
          },
          "metadata": {
            "tags": []
          },
          "execution_count": 13
        }
      ]
    },
    {
      "cell_type": "code",
      "metadata": {
        "id": "94RRU0T4gBef",
        "colab_type": "code",
        "outputId": "526c858a-687c-4058-bd1f-8c9bed7a6f1c",
        "colab": {
          "base_uri": "https://localhost:8080/",
          "height": 391
        }
      },
      "source": [
        "# Fit model\n",
        "svc_model.fit(X_train, y_train)"
      ],
      "execution_count": 14,
      "outputs": [
        {
          "output_type": "execute_result",
          "data": {
            "text/plain": [
              "Pipeline(memory=None,\n",
              "         steps=[('feature_union',\n",
              "                 FeatureUnion(n_jobs=None,\n",
              "                              transformer_list=[('standardize',\n",
              "                                                 StandardScaler(copy=True,\n",
              "                                                                with_mean=True,\n",
              "                                                                with_std=True)),\n",
              "                                                ('tsvd',\n",
              "                                                 TruncatedSVD(algorithm='randomized',\n",
              "                                                              n_components=1,\n",
              "                                                              n_iter=5,\n",
              "                                                              random_state=42,\n",
              "                                                              tol=0.0))],\n",
              "                              transformer_weights=None, verbose=False)),\n",
              "                ('svc',\n",
              "                 SVC(C=1.0, break_ties=False, cache_size=200,\n",
              "                     class_weight='balanced', coef0=0.0,\n",
              "                     decision_function_shape='ovr', degree=3, gamma='scale',\n",
              "                     kernel='rbf', max_iter=-1, probability=True,\n",
              "                     random_state=42, shrinking=True, tol=0.001,\n",
              "                     verbose=False))],\n",
              "         verbose=False)"
            ]
          },
          "metadata": {
            "tags": []
          },
          "execution_count": 14
        }
      ]
    },
    {
      "cell_type": "code",
      "metadata": {
        "id": "IvJ6k-w4ebmy",
        "colab_type": "code",
        "colab": {}
      },
      "source": [
        "# Make predictions\n",
        "y_preds_svc = svc_model.predict(X_test)\n",
        "y_preds_proba_svc = svc_model.predict_proba(X_test)"
      ],
      "execution_count": 0,
      "outputs": []
    },
    {
      "cell_type": "code",
      "metadata": {
        "id": "m0tFQKCWebm3",
        "colab_type": "code",
        "outputId": "1912df14-7637-49b7-e490-65f6241a57d7",
        "colab": {
          "base_uri": "https://localhost:8080/",
          "height": 34
        }
      },
      "source": [
        "# Multi-class logarithmic loss\n",
        "log_loss(y_test, y_preds_proba_svc)"
      ],
      "execution_count": 16,
      "outputs": [
        {
          "output_type": "execute_result",
          "data": {
            "text/plain": [
              "0.015123913549914424"
            ]
          },
          "metadata": {
            "tags": []
          },
          "execution_count": 16
        }
      ]
    },
    {
      "cell_type": "markdown",
      "metadata": {
        "id": "sgy-9Z3sebm6",
        "colab_type": "text"
      },
      "source": [
        "**Note**: The model scores significantly better than the winner in the original competition.\n",
        "It's been 5 years, so did sci-kit learn get so much better or is something wrong here?"
      ]
    },
    {
      "cell_type": "code",
      "metadata": {
        "id": "MxYZtJdYebm8",
        "colab_type": "code",
        "colab": {}
      },
      "source": [
        "# Check cross-validated scores again\n",
        "svc_model_scores = average_score_on_cross_val_classification(svc_model, X, y)"
      ],
      "execution_count": 0,
      "outputs": []
    },
    {
      "cell_type": "code",
      "metadata": {
        "id": "uT9s9DePzE-t",
        "colab_type": "code",
        "outputId": "97e124dc-ee31-43d7-c4a4-0d4c4dc3335d",
        "colab": {
          "base_uri": "https://localhost:8080/",
          "height": 136
        }
      },
      "source": [
        "svc_model_scores"
      ],
      "execution_count": 18,
      "outputs": [
        {
          "output_type": "execute_result",
          "data": {
            "text/plain": [
              "{'fit_time': 232.48821,\n",
              " 'score_time': 31.26159,\n",
              " 'test_accuracy': 0.94397,\n",
              " 'test_f1': 0.94612,\n",
              " 'test_log loss': -0.01377,\n",
              " 'test_precision': 0.95512,\n",
              " 'test_recall': 0.94397}"
            ]
          },
          "metadata": {
            "tags": []
          },
          "execution_count": 18
        }
      ]
    },
    {
      "cell_type": "code",
      "metadata": {
        "id": "CuGe-mJMebnA",
        "colab_type": "code",
        "colab": {}
      },
      "source": [
        "# Create dataframe from dictionary, drop fit_time and score_time\n",
        "svc_model_scores_df = pd.DataFrame(svc_model_scores, index=['SVC']).T\n",
        "svc_model_scores_df.drop(['fit_time', 'score_time'], inplace=True)"
      ],
      "execution_count": 0,
      "outputs": []
    },
    {
      "cell_type": "code",
      "metadata": {
        "id": "Q5yBRpXAebnI",
        "colab_type": "code",
        "outputId": "b1ebb5a5-8d21-4600-f913-7facf35f8916",
        "colab": {
          "base_uri": "https://localhost:8080/",
          "height": 412
        }
      },
      "source": [
        "# Visualize scores\n",
        "fig, ax = plt.subplots(figsize=(10,6))\n",
        "ax = sns.barplot(x=svc_model_scores_df.index,\n",
        "            y=svc_model_scores_df['SVC'],\n",
        "            alpha=0.8)\n",
        "ax.set_title('Cross-validated Metrics for SVC', fontdict={'fontsize': 16})\n",
        "ax.set_ylabel('Count')\n",
        "ax.set_xlabel('Categories', fontdict={'fontsize': 12});"
      ],
      "execution_count": 20,
      "outputs": [
        {
          "output_type": "display_data",
          "data": {
            "image/png": "[encoded data removed]",
            "text/plain": [
              "<Figure size 720x432 with 1 Axes>"
            ]
          },
          "metadata": {
            "tags": []
          }
        }
      ]
    },
    {
      "cell_type": "code",
      "metadata": {
        "id": "0SgwKfluebnK",
        "colab_type": "code",
        "outputId": "69b6cf6b-4b9c-49a0-b33b-d181efd6357d",
        "colab": {
          "base_uri": "https://localhost:8080/",
          "height": 318
        }
      },
      "source": [
        "# Confusion Matrix\n",
        "conf_mat = confusion_matrix(y_test, y_preds_svc)\n",
        "\n",
        "sns.set(font_scale=1.5)\n",
        "sns.heatmap(conf_mat.T, annot=True, fmt='d', annot_kws={'size': 16}, cmap='Blues', cbar=False)\n",
        "plt.xlabel('test labels')\n",
        "plt.ylabel('predicted labels')\n",
        "plt.title('Confusion Matrix for SVC');"
      ],
      "execution_count": 23,
      "outputs": [
        {
          "output_type": "display_data",
          "data": {
            "image/png": "[encoded data removed]",
            "text/plain": [
              "<Figure size 432x288 with 1 Axes>"
            ]
          },
          "metadata": {
            "tags": []
          }
        }
      ]
    },
    {
      "cell_type": "markdown",
      "metadata": {
        "id": "9WuvfP_hebnM",
        "colab_type": "text"
      },
      "source": [
        "**Note**: The confusion matrix suggests that the model really does a good job on predicting the correct shopping category _on the training set_.\n",
        "\n",
        "**Note**: Cross-validation reduces the risk of over-fitting, but it doesn't eliminate it completely. Does the model overfit?  \n",
        "I have access to the test data from the competition, but no access to the real labels, so I can't check how the model performs on data that it hasn't seen yet."
      ]
    },
    {
      "cell_type": "markdown",
      "metadata": {
        "id": "JNqzjvj6AGnv",
        "colab_type": "text"
      },
      "source": [
        "### Save model"
      ]
    },
    {
      "cell_type": "code",
      "metadata": {
        "id": "TDgpDM7TAYnn",
        "colab_type": "code",
        "colab": {}
      },
      "source": [
        "import pickle\n",
        "\n",
        "# Save model\n",
        "pickle.dump(svc_model, open('/content/drive/My Drive/Colab Notebooks/models/kaggle-otto-model-1.pkl', 'wb'))"
      ],
      "execution_count": 0,
      "outputs": []
    },
    {
      "cell_type": "markdown",
      "metadata": {
        "id": "0YCQtCsaoClR",
        "colab_type": "text"
      },
      "source": [
        "## Make Predictions On Test Data"
      ]
    },
    {
      "cell_type": "code",
      "metadata": {
        "id": "yDKsZSs4KVIr",
        "colab_type": "code",
        "colab": {
          "base_uri": "https://localhost:8080/",
          "height": 51
        },
        "outputId": "723a91e1-8ee7-48e7-a676-66026d355449"
      },
      "source": [
        "svc_model.classes_"
      ],
      "execution_count": 81,
      "outputs": [
        {
          "output_type": "execute_result",
          "data": {
            "text/plain": [
              "array(['Class_1', 'Class_2', 'Class_3', 'Class_4', 'Class_5', 'Class_6',\n",
              "       'Class_7', 'Class_8', 'Class_9'], dtype=object)"
            ]
          },
          "metadata": {
            "tags": []
          },
          "execution_count": 81
        }
      ]
    },
    {
      "cell_type": "code",
      "metadata": {
        "id": "Z-yjDffioKH7",
        "colab_type": "code",
        "colab": {}
      },
      "source": [
        "y_preds = svc_model.predict(df_valid)\n",
        "y_preds_proba = svc_model.predict_proba(df_valid)"
      ],
      "execution_count": 0,
      "outputs": []
    },
    {
      "cell_type": "code",
      "metadata": {
        "id": "G37qGg_PB5j7",
        "colab_type": "code",
        "colab": {
          "base_uri": "https://localhost:8080/",
          "height": 204
        },
        "outputId": "e056b63a-c4d3-4f73-c6fc-ab196ff15f9c"
      },
      "source": [
        "# Take a look at sample submission file\n",
        "sample_submission = pd.read_csv('/content/drive/My Drive/Colab Notebooks/data/otto/sampleSubmission.csv')\n",
        "sample_submission.head()"
      ],
      "execution_count": 50,
      "outputs": [
        {
          "output_type": "execute_result",
          "data": {
            "text/html": [
              "<div>\n",
              "<style scoped>\n",
              "    .dataframe tbody tr th:only-of-type {\n",
              "        vertical-align: middle;\n",
              "    }\n",
              "\n",
              "    .dataframe tbody tr th {\n",
              "        vertical-align: top;\n",
              "    }\n",
              "\n",
              "    .dataframe thead th {\n",
              "        text-align: right;\n",
              "    }\n",
              "</style>\n",
              "<table border=\"1\" class=\"dataframe\">\n",
              "  <thead>\n",
              "    <tr style=\"text-align: right;\">\n",
              "      <th></th>\n",
              "      <th>id</th>\n",
              "      <th>Class_1</th>\n",
              "      <th>Class_2</th>\n",
              "      <th>Class_3</th>\n",
              "      <th>Class_4</th>\n",
              "      <th>Class_5</th>\n",
              "      <th>Class_6</th>\n",
              "      <th>Class_7</th>\n",
              "      <th>Class_8</th>\n",
              "      <th>Class_9</th>\n",
              "    </tr>\n",
              "  </thead>\n",
              "  <tbody>\n",
              "    <tr>\n",
              "      <th>0</th>\n",
              "      <td>1</td>\n",
              "      <td>1</td>\n",
              "      <td>0</td>\n",
              "      <td>0</td>\n",
              "      <td>0</td>\n",
              "      <td>0</td>\n",
              "      <td>0</td>\n",
              "      <td>0</td>\n",
              "      <td>0</td>\n",
              "      <td>0</td>\n",
              "    </tr>\n",
              "    <tr>\n",
              "      <th>1</th>\n",
              "      <td>2</td>\n",
              "      <td>1</td>\n",
              "      <td>0</td>\n",
              "      <td>0</td>\n",
              "      <td>0</td>\n",
              "      <td>0</td>\n",
              "      <td>0</td>\n",
              "      <td>0</td>\n",
              "      <td>0</td>\n",
              "      <td>0</td>\n",
              "    </tr>\n",
              "    <tr>\n",
              "      <th>2</th>\n",
              "      <td>3</td>\n",
              "      <td>1</td>\n",
              "      <td>0</td>\n",
              "      <td>0</td>\n",
              "      <td>0</td>\n",
              "      <td>0</td>\n",
              "      <td>0</td>\n",
              "      <td>0</td>\n",
              "      <td>0</td>\n",
              "      <td>0</td>\n",
              "    </tr>\n",
              "    <tr>\n",
              "      <th>3</th>\n",
              "      <td>4</td>\n",
              "      <td>1</td>\n",
              "      <td>0</td>\n",
              "      <td>0</td>\n",
              "      <td>0</td>\n",
              "      <td>0</td>\n",
              "      <td>0</td>\n",
              "      <td>0</td>\n",
              "      <td>0</td>\n",
              "      <td>0</td>\n",
              "    </tr>\n",
              "    <tr>\n",
              "      <th>4</th>\n",
              "      <td>5</td>\n",
              "      <td>1</td>\n",
              "      <td>0</td>\n",
              "      <td>0</td>\n",
              "      <td>0</td>\n",
              "      <td>0</td>\n",
              "      <td>0</td>\n",
              "      <td>0</td>\n",
              "      <td>0</td>\n",
              "      <td>0</td>\n",
              "    </tr>\n",
              "  </tbody>\n",
              "</table>\n",
              "</div>"
            ],
            "text/plain": [
              "   id  Class_1  Class_2  Class_3  ...  Class_6  Class_7  Class_8  Class_9\n",
              "0   1        1        0        0  ...        0        0        0        0\n",
              "1   2        1        0        0  ...        0        0        0        0\n",
              "2   3        1        0        0  ...        0        0        0        0\n",
              "3   4        1        0        0  ...        0        0        0        0\n",
              "4   5        1        0        0  ...        0        0        0        0\n",
              "\n",
              "[5 rows x 10 columns]"
            ]
          },
          "metadata": {
            "tags": []
          },
          "execution_count": 50
        }
      ]
    },
    {
      "cell_type": "code",
      "metadata": {
        "id": "PF5F9yrv9PsU",
        "colab_type": "code",
        "colab": {
          "base_uri": "https://localhost:8080/",
          "height": 419
        },
        "outputId": "fdb241eb-7536-4583-ee37-0afb18f15f48"
      },
      "source": [
        "# Create submission DataFrame\n",
        "predictions = pd.DataFrame(y_preds_proba,\n",
        "                           columns=['Class_1', 'Class_2', 'Class_3', 'Class_4', 'Class_5', 'Class_6', 'Class_7', 'Class_8', 'Class_9'],\n",
        "                           index=df_valid.id)\n",
        "predictions.reset_index()"
      ],
      "execution_count": 53,
      "outputs": [
        {
          "output_type": "execute_result",
          "data": {
            "text/html": [
              "<div>\n",
              "<style scoped>\n",
              "    .dataframe tbody tr th:only-of-type {\n",
              "        vertical-align: middle;\n",
              "    }\n",
              "\n",
              "    .dataframe tbody tr th {\n",
              "        vertical-align: top;\n",
              "    }\n",
              "\n",
              "    .dataframe thead th {\n",
              "        text-align: right;\n",
              "    }\n",
              "</style>\n",
              "<table border=\"1\" class=\"dataframe\">\n",
              "  <thead>\n",
              "    <tr style=\"text-align: right;\">\n",
              "      <th></th>\n",
              "      <th>id</th>\n",
              "      <th>Class_1</th>\n",
              "      <th>Class_2</th>\n",
              "      <th>Class_3</th>\n",
              "      <th>Class_4</th>\n",
              "      <th>Class_5</th>\n",
              "      <th>Class_6</th>\n",
              "      <th>Class_7</th>\n",
              "      <th>Class_8</th>\n",
              "      <th>Class_9</th>\n",
              "    </tr>\n",
              "  </thead>\n",
              "  <tbody>\n",
              "    <tr>\n",
              "      <th>0</th>\n",
              "      <td>1</td>\n",
              "      <td>0.999216</td>\n",
              "      <td>0.000002</td>\n",
              "      <td>0.000169</td>\n",
              "      <td>0.000142</td>\n",
              "      <td>0.000114</td>\n",
              "      <td>0.000097</td>\n",
              "      <td>0.000097</td>\n",
              "      <td>0.000084</td>\n",
              "      <td>0.000078</td>\n",
              "    </tr>\n",
              "    <tr>\n",
              "      <th>1</th>\n",
              "      <td>2</td>\n",
              "      <td>0.999216</td>\n",
              "      <td>0.000002</td>\n",
              "      <td>0.000169</td>\n",
              "      <td>0.000142</td>\n",
              "      <td>0.000114</td>\n",
              "      <td>0.000097</td>\n",
              "      <td>0.000097</td>\n",
              "      <td>0.000084</td>\n",
              "      <td>0.000078</td>\n",
              "    </tr>\n",
              "    <tr>\n",
              "      <th>2</th>\n",
              "      <td>3</td>\n",
              "      <td>0.999216</td>\n",
              "      <td>0.000002</td>\n",
              "      <td>0.000169</td>\n",
              "      <td>0.000142</td>\n",
              "      <td>0.000114</td>\n",
              "      <td>0.000097</td>\n",
              "      <td>0.000097</td>\n",
              "      <td>0.000084</td>\n",
              "      <td>0.000078</td>\n",
              "    </tr>\n",
              "    <tr>\n",
              "      <th>3</th>\n",
              "      <td>4</td>\n",
              "      <td>0.999215</td>\n",
              "      <td>0.000002</td>\n",
              "      <td>0.000169</td>\n",
              "      <td>0.000142</td>\n",
              "      <td>0.000114</td>\n",
              "      <td>0.000097</td>\n",
              "      <td>0.000097</td>\n",
              "      <td>0.000084</td>\n",
              "      <td>0.000078</td>\n",
              "    </tr>\n",
              "    <tr>\n",
              "      <th>4</th>\n",
              "      <td>5</td>\n",
              "      <td>0.999215</td>\n",
              "      <td>0.000002</td>\n",
              "      <td>0.000169</td>\n",
              "      <td>0.000143</td>\n",
              "      <td>0.000114</td>\n",
              "      <td>0.000098</td>\n",
              "      <td>0.000097</td>\n",
              "      <td>0.000084</td>\n",
              "      <td>0.000078</td>\n",
              "    </tr>\n",
              "    <tr>\n",
              "      <th>...</th>\n",
              "      <td>...</td>\n",
              "      <td>...</td>\n",
              "      <td>...</td>\n",
              "      <td>...</td>\n",
              "      <td>...</td>\n",
              "      <td>...</td>\n",
              "      <td>...</td>\n",
              "      <td>...</td>\n",
              "      <td>...</td>\n",
              "      <td>...</td>\n",
              "    </tr>\n",
              "    <tr>\n",
              "      <th>144363</th>\n",
              "      <td>144364</td>\n",
              "      <td>0.068205</td>\n",
              "      <td>0.168950</td>\n",
              "      <td>0.094248</td>\n",
              "      <td>0.085177</td>\n",
              "      <td>0.083379</td>\n",
              "      <td>0.161104</td>\n",
              "      <td>0.057198</td>\n",
              "      <td>0.136894</td>\n",
              "      <td>0.144845</td>\n",
              "    </tr>\n",
              "    <tr>\n",
              "      <th>144364</th>\n",
              "      <td>144365</td>\n",
              "      <td>0.068205</td>\n",
              "      <td>0.168949</td>\n",
              "      <td>0.094247</td>\n",
              "      <td>0.085176</td>\n",
              "      <td>0.083378</td>\n",
              "      <td>0.161104</td>\n",
              "      <td>0.057197</td>\n",
              "      <td>0.136902</td>\n",
              "      <td>0.144840</td>\n",
              "    </tr>\n",
              "    <tr>\n",
              "      <th>144365</th>\n",
              "      <td>144366</td>\n",
              "      <td>0.068205</td>\n",
              "      <td>0.168948</td>\n",
              "      <td>0.094247</td>\n",
              "      <td>0.085176</td>\n",
              "      <td>0.083378</td>\n",
              "      <td>0.161104</td>\n",
              "      <td>0.057196</td>\n",
              "      <td>0.136911</td>\n",
              "      <td>0.144836</td>\n",
              "    </tr>\n",
              "    <tr>\n",
              "      <th>144366</th>\n",
              "      <td>144367</td>\n",
              "      <td>0.068204</td>\n",
              "      <td>0.168947</td>\n",
              "      <td>0.094246</td>\n",
              "      <td>0.085176</td>\n",
              "      <td>0.083377</td>\n",
              "      <td>0.161104</td>\n",
              "      <td>0.057195</td>\n",
              "      <td>0.136919</td>\n",
              "      <td>0.144831</td>\n",
              "    </tr>\n",
              "    <tr>\n",
              "      <th>144367</th>\n",
              "      <td>144368</td>\n",
              "      <td>0.068204</td>\n",
              "      <td>0.168946</td>\n",
              "      <td>0.094245</td>\n",
              "      <td>0.085175</td>\n",
              "      <td>0.083377</td>\n",
              "      <td>0.161104</td>\n",
              "      <td>0.057194</td>\n",
              "      <td>0.136928</td>\n",
              "      <td>0.144827</td>\n",
              "    </tr>\n",
              "  </tbody>\n",
              "</table>\n",
              "<p>144368 rows × 10 columns</p>\n",
              "</div>"
            ],
            "text/plain": [
              "            id   Class_1   Class_2  ...   Class_7   Class_8   Class_9\n",
              "0            1  0.999216  0.000002  ...  0.000097  0.000084  0.000078\n",
              "1            2  0.999216  0.000002  ...  0.000097  0.000084  0.000078\n",
              "2            3  0.999216  0.000002  ...  0.000097  0.000084  0.000078\n",
              "3            4  0.999215  0.000002  ...  0.000097  0.000084  0.000078\n",
              "4            5  0.999215  0.000002  ...  0.000097  0.000084  0.000078\n",
              "...        ...       ...       ...  ...       ...       ...       ...\n",
              "144363  144364  0.068205  0.168950  ...  0.057198  0.136894  0.144845\n",
              "144364  144365  0.068205  0.168949  ...  0.057197  0.136902  0.144840\n",
              "144365  144366  0.068205  0.168948  ...  0.057196  0.136911  0.144836\n",
              "144366  144367  0.068204  0.168947  ...  0.057195  0.136919  0.144831\n",
              "144367  144368  0.068204  0.168946  ...  0.057194  0.136928  0.144827\n",
              "\n",
              "[144368 rows x 10 columns]"
            ]
          },
          "metadata": {
            "tags": []
          },
          "execution_count": 53
        }
      ]
    },
    {
      "cell_type": "code",
      "metadata": {
        "id": "ROPjs2-ABcaJ",
        "colab_type": "code",
        "colab": {}
      },
      "source": [
        "# Save predictions to Google Drive\n",
        "predictions.to_csv('/content/drive/My Drive/Colab Notebooks/data/otto/submit.csv')"
      ],
      "execution_count": 0,
      "outputs": []
    },
    {
      "cell_type": "markdown",
      "metadata": {
        "id": "uIlB1LxXFSc9",
        "colab_type": "text"
      },
      "source": [
        "**Note**:  \n",
        "I did a late submission with the above predictions. The score is around 8.28.\n",
        "That's far away from the winning score of 0.38.\n",
        "\n",
        "I guess that my model is overfitting. Or did I make a mistake when compiling the predictions into a csv file?"
      ]
    }
  ]
}
{
 "cells": [
  {
   "cell_type": "markdown",
   "metadata": {},
   "source": [
    "# NumPy Practice\n",
    "\n",
    "This notebook offers a set of excercises for different tasks with NumPy.\n",
    "\n",
    "It should be noted there may be more than one different way to answer a question or complete an exercise.\n",
    "\n",
    "Exercises are based off (and directly taken from) the quick introduction to NumPy notebook.\n",
    "\n",
    "Different tasks will be detailed by comments or text.\n",
    "\n",
    "For further reference and resources, it's advised to check out the [NumPy documnetation](https://numpy.org/devdocs/user/index.html).\n",
    "\n",
    "And if you get stuck, try searching for a question in the following format: \"how to do XYZ with numpy\", where XYZ is the function you want to leverage from NumPy."
   ]
  },
  {
   "cell_type": "code",
   "execution_count": 2,
   "metadata": {},
   "outputs": [],
   "source": [
    "# Import NumPy as its abbreviation 'np'\n",
    "import numpy as np"
   ]
  },
  {
   "cell_type": "markdown",
   "metadata": {},
   "source": [
    "Now we've you've created 3 different arrays, let's find details about them.\n",
    "\n",
    "Find the shape, number of dimensions, data type, size and type of each array."
   ]
  },
  {
   "cell_type": "code",
   "execution_count": 11,
   "metadata": {},
   "outputs": [
    {
     "data": {
      "text/plain": [
       "3"
      ]
     },
     "execution_count": 11,
     "metadata": {},
     "output_type": "execute_result"
    }
   ],
   "source": [
    "# Create a 1-dimensional NumPy array using np.array()\n",
    "arr1 = np.array([1])\n",
    "arr1.ndim\n",
    "\n",
    "# Create a 2-dimensional NumPy array using np.array()\n",
    "arr2 = np.random.randint(10, size=(12,2))\n",
    "arr2.ndim\n",
    "\n",
    "# Create a 3-dimensional Numpy array using np.array()\n",
    "arr3 = np.random.randint(10, size=(13,3,3))\n",
    "arr3.ndim"
   ]
  },
  {
   "cell_type": "code",
   "execution_count": 13,
   "metadata": {},
   "outputs": [
    {
     "data": {
      "text/plain": [
       "((1,), dtype('int64'), 1, numpy.ndarray)"
      ]
     },
     "execution_count": 13,
     "metadata": {},
     "output_type": "execute_result"
    }
   ],
   "source": [
    "# Attributes of 1-dimensional array (shape, \n",
    "# number of dimensions, data type, size and type)\n",
    "arr1.shape, arr1.dtype, arr1.size, type(arr1)"
   ]
  },
  {
   "cell_type": "code",
   "execution_count": 14,
   "metadata": {},
   "outputs": [
    {
     "data": {
      "text/plain": [
       "((12, 2), dtype('int64'), 24, numpy.ndarray)"
      ]
     },
     "execution_count": 14,
     "metadata": {},
     "output_type": "execute_result"
    }
   ],
   "source": [
    "# Attributes of 2-dimensional array\n",
    "arr2.shape, arr2.dtype, arr2.size, type(arr2)"
   ]
  },
  {
   "cell_type": "code",
   "execution_count": 15,
   "metadata": {},
   "outputs": [
    {
     "data": {
      "text/plain": [
       "((13, 3, 3), dtype('int64'), 117, numpy.ndarray)"
      ]
     },
     "execution_count": 15,
     "metadata": {},
     "output_type": "execute_result"
    }
   ],
   "source": [
    "# Attributes of 3-dimensional array\n",
    "arr3.shape, arr3.dtype, arr3.size, type(arr3)"
   ]
  },
  {
   "cell_type": "code",
   "execution_count": 24,
   "metadata": {},
   "outputs": [
    {
     "data": {
      "text/plain": [
       "array([[5, 1],\n",
       "       [3, 3],\n",
       "       [9, 9],\n",
       "       [8, 1],\n",
       "       [2, 9],\n",
       "       [7, 4],\n",
       "       [9, 0],\n",
       "       [2, 7],\n",
       "       [2, 7],\n",
       "       [7, 2],\n",
       "       [6, 7],\n",
       "       [9, 3]])"
      ]
     },
     "execution_count": 24,
     "metadata": {},
     "output_type": "execute_result"
    }
   ],
   "source": [
    "arr2"
   ]
  },
  {
   "cell_type": "code",
   "execution_count": 27,
   "metadata": {},
   "outputs": [
    {
     "data": {
      "text/html": [
       "<div>\n",
       "<style scoped>\n",
       "    .dataframe tbody tr th:only-of-type {\n",
       "        vertical-align: middle;\n",
       "    }\n",
       "\n",
       "    .dataframe tbody tr th {\n",
       "        vertical-align: top;\n",
       "    }\n",
       "\n",
       "    .dataframe thead th {\n",
       "        text-align: right;\n",
       "    }\n",
       "</style>\n",
       "<table border=\"1\" class=\"dataframe\">\n",
       "  <thead>\n",
       "    <tr style=\"text-align: right;\">\n",
       "      <th></th>\n",
       "      <th>sample value 1</th>\n",
       "      <th>sample value 2</th>\n",
       "    </tr>\n",
       "  </thead>\n",
       "  <tbody>\n",
       "    <tr>\n",
       "      <th>a</th>\n",
       "      <td>5</td>\n",
       "      <td>1</td>\n",
       "    </tr>\n",
       "    <tr>\n",
       "      <th>b</th>\n",
       "      <td>3</td>\n",
       "      <td>3</td>\n",
       "    </tr>\n",
       "    <tr>\n",
       "      <th>c</th>\n",
       "      <td>9</td>\n",
       "      <td>9</td>\n",
       "    </tr>\n",
       "    <tr>\n",
       "      <th>d</th>\n",
       "      <td>8</td>\n",
       "      <td>1</td>\n",
       "    </tr>\n",
       "    <tr>\n",
       "      <th>e</th>\n",
       "      <td>2</td>\n",
       "      <td>9</td>\n",
       "    </tr>\n",
       "    <tr>\n",
       "      <th>f</th>\n",
       "      <td>7</td>\n",
       "      <td>4</td>\n",
       "    </tr>\n",
       "    <tr>\n",
       "      <th>g</th>\n",
       "      <td>9</td>\n",
       "      <td>0</td>\n",
       "    </tr>\n",
       "    <tr>\n",
       "      <th>h</th>\n",
       "      <td>2</td>\n",
       "      <td>7</td>\n",
       "    </tr>\n",
       "    <tr>\n",
       "      <th>i</th>\n",
       "      <td>2</td>\n",
       "      <td>7</td>\n",
       "    </tr>\n",
       "    <tr>\n",
       "      <th>j</th>\n",
       "      <td>7</td>\n",
       "      <td>2</td>\n",
       "    </tr>\n",
       "    <tr>\n",
       "      <th>k</th>\n",
       "      <td>6</td>\n",
       "      <td>7</td>\n",
       "    </tr>\n",
       "    <tr>\n",
       "      <th>l</th>\n",
       "      <td>9</td>\n",
       "      <td>3</td>\n",
       "    </tr>\n",
       "  </tbody>\n",
       "</table>\n",
       "</div>"
      ],
      "text/plain": [
       "   sample value 1  sample value 2\n",
       "a               5               1\n",
       "b               3               3\n",
       "c               9               9\n",
       "d               8               1\n",
       "e               2               9\n",
       "f               7               4\n",
       "g               9               0\n",
       "h               2               7\n",
       "i               2               7\n",
       "j               7               2\n",
       "k               6               7\n",
       "l               9               3"
      ]
     },
     "execution_count": 27,
     "metadata": {},
     "output_type": "execute_result"
    }
   ],
   "source": [
    "# Import pandas and create a DataFrame out of one\n",
    "# of the arrays you've created\n",
    "import pandas as pd\n",
    "df = pd.DataFrame(arr2, index=[\"a\", \"b\", \"c\", \"d\", \"e\", \"f\", \"g\", \"h\", \"i\", \"j\", \"k\", \"l\"], columns=[\"sample value 1\", \"sample value 2\"])\n",
    "df"
   ]
  },
  {
   "cell_type": "code",
   "execution_count": 8,
   "metadata": {},
   "outputs": [],
   "source": [
    "# Create an array of shape (7, 2, 3) of only zeros\n"
   ]
  },
  {
   "cell_type": "code",
   "execution_count": 30,
   "metadata": {},
   "outputs": [
    {
     "data": {
      "text/plain": [
       "(10, 2)"
      ]
     },
     "execution_count": 30,
     "metadata": {},
     "output_type": "execute_result"
    }
   ],
   "source": [
    "# Create an array of shape (10, 2) with only ones\n",
    "arr4 = np.ones(shape=(10,2))\n",
    "arr4.shape"
   ]
  },
  {
   "cell_type": "code",
   "execution_count": 31,
   "metadata": {},
   "outputs": [
    {
     "data": {
      "text/plain": [
       "array([ 0,  3,  6,  9, 12, 15, 18, 21, 24, 27, 30, 33, 36, 39, 42, 45, 48,\n",
       "       51, 54, 57, 60, 63, 66, 69, 72, 75, 78, 81, 84, 87, 90, 93, 96, 99])"
      ]
     },
     "execution_count": 31,
     "metadata": {},
     "output_type": "execute_result"
    }
   ],
   "source": [
    "# Create an array within a range of 0 and 100 with step 3\n",
    "range_arr = np.arange(0, 100, 3)\n",
    "range_arr"
   ]
  },
  {
   "cell_type": "code",
   "execution_count": 32,
   "metadata": {},
   "outputs": [
    {
     "data": {
      "text/plain": [
       "array([[5, 0],\n",
       "       [1, 9],\n",
       "       [1, 2],\n",
       "       [5, 5],\n",
       "       [5, 9],\n",
       "       [6, 1],\n",
       "       [4, 0]])"
      ]
     },
     "execution_count": 32,
     "metadata": {},
     "output_type": "execute_result"
    }
   ],
   "source": [
    "# Create a random array with numbers between 0 and 10 of size (7, 2)\n",
    "random_arr = np.random.randint(10, size=(7,2))\n",
    "random_arr"
   ]
  },
  {
   "cell_type": "code",
   "execution_count": 35,
   "metadata": {},
   "outputs": [
    {
     "data": {
      "text/plain": [
       "(3, 5)"
      ]
     },
     "execution_count": 35,
     "metadata": {},
     "output_type": "execute_result"
    }
   ],
   "source": [
    "# Create a random array of floats between 0 & 1 of shape (3, 5)\n",
    "randf_arr = np.random.uniform(size=(3,5))\n",
    "randf_arr.shape"
   ]
  },
  {
   "cell_type": "code",
   "execution_count": 40,
   "metadata": {},
   "outputs": [
    {
     "data": {
      "text/plain": [
       "array([[6, 3, 7, 4, 6, 9],\n",
       "       [2, 6, 7, 4, 3, 7],\n",
       "       [7, 2, 5, 4, 1, 7],\n",
       "       [5, 1, 4, 0, 9, 5]])"
      ]
     },
     "execution_count": 40,
     "metadata": {},
     "output_type": "execute_result"
    }
   ],
   "source": [
    "# Set the random seed to 42\n",
    "np.random.seed(42)\n",
    "\n",
    "# Create a random array of numbers between 0 & 10 of size (4, 6)\n",
    "rand_arr = np.random.randint(10, size=(4,6))\n",
    "rand_arr\n"
   ]
  },
  {
   "cell_type": "markdown",
   "metadata": {},
   "source": [
    "Run the cell above again, what happens?\n",
    "\n",
    "Are the numbers in the array different or the same? Why do think this is?\n",
    "\n",
    "- numbers are the same, because we set the random seed"
   ]
  },
  {
   "cell_type": "code",
   "execution_count": 43,
   "metadata": {},
   "outputs": [
    {
     "data": {
      "text/plain": [
       "array([0, 1, 2, 3, 4, 6, 7, 8, 9])"
      ]
     },
     "execution_count": 43,
     "metadata": {},
     "output_type": "execute_result"
    }
   ],
   "source": [
    "# Create an array of random numbers between 1 & 10 of size (3, 7)\n",
    "# and save it to a variable\n",
    "rand_arr2 = np.random.randint(10, size=(3,7))\n",
    "# Find the unique numbers in the array you just created\n",
    "np.unique(rand_arr2)"
   ]
  },
  {
   "cell_type": "code",
   "execution_count": 47,
   "metadata": {},
   "outputs": [
    {
     "data": {
      "text/plain": [
       "array([[3, 7, 6, 8, 7, 4, 1],\n",
       "       [4, 7, 9, 8, 8, 0, 8],\n",
       "       [6, 8, 7, 0, 7, 7, 2]])"
      ]
     },
     "execution_count": 47,
     "metadata": {},
     "output_type": "execute_result"
    }
   ],
   "source": [
    "rand_arr2"
   ]
  },
  {
   "cell_type": "code",
   "execution_count": 45,
   "metadata": {},
   "outputs": [
    {
     "data": {
      "text/plain": [
       "array([3, 7, 6, 8, 7, 4, 1])"
      ]
     },
     "execution_count": 45,
     "metadata": {},
     "output_type": "execute_result"
    }
   ],
   "source": [
    "# Find the 0'th index of the latest array you created\n",
    "rand_arr2[0]"
   ]
  },
  {
   "cell_type": "code",
   "execution_count": 46,
   "metadata": {},
   "outputs": [
    {
     "data": {
      "text/plain": [
       "array([[3, 7],\n",
       "       [4, 7]])"
      ]
     },
     "execution_count": 46,
     "metadata": {},
     "output_type": "execute_result"
    }
   ],
   "source": [
    "# Get the first 2 values of the first 2 rows of the latest array\n",
    "rand_arr2[:2, :2]"
   ]
  },
  {
   "cell_type": "code",
   "execution_count": 49,
   "metadata": {},
   "outputs": [],
   "source": [
    "# Create a random array of numbers between 0 & 10 and an array of ones\n",
    "# both of size (3, 5), save them both to variables\n",
    "rand_arr3 = np.random.randint(10, size=(3,5))\n",
    "ones = np.ones(shape=(3,5))"
   ]
  },
  {
   "cell_type": "code",
   "execution_count": 51,
   "metadata": {},
   "outputs": [
    {
     "data": {
      "text/plain": [
       "array([[6, 6, 7, 4, 2],\n",
       "       [7, 5, 2, 0, 2],\n",
       "       [4, 2, 0, 4, 9]])"
      ]
     },
     "execution_count": 51,
     "metadata": {},
     "output_type": "execute_result"
    }
   ],
   "source": [
    "rand_arr3"
   ]
  },
  {
   "cell_type": "code",
   "execution_count": 52,
   "metadata": {},
   "outputs": [
    {
     "data": {
      "text/plain": [
       "array([[1., 1., 1., 1., 1.],\n",
       "       [1., 1., 1., 1., 1.],\n",
       "       [1., 1., 1., 1., 1.]])"
      ]
     },
     "execution_count": 52,
     "metadata": {},
     "output_type": "execute_result"
    }
   ],
   "source": [
    "ones"
   ]
  },
  {
   "cell_type": "code",
   "execution_count": 53,
   "metadata": {},
   "outputs": [
    {
     "data": {
      "text/plain": [
       "array([[ 7.,  7.,  8.,  5.,  3.],\n",
       "       [ 8.,  6.,  3.,  1.,  3.],\n",
       "       [ 5.,  3.,  1.,  5., 10.]])"
      ]
     },
     "execution_count": 53,
     "metadata": {},
     "output_type": "execute_result"
    }
   ],
   "source": [
    "# Add the two arrays together\n",
    "sum = ones + rand_arr3\n",
    "sum"
   ]
  },
  {
   "cell_type": "code",
   "execution_count": 54,
   "metadata": {},
   "outputs": [
    {
     "data": {
      "text/plain": [
       "array([[1., 1., 1.],\n",
       "       [1., 1., 1.],\n",
       "       [1., 1., 1.],\n",
       "       [1., 1., 1.],\n",
       "       [1., 1., 1.]])"
      ]
     },
     "execution_count": 54,
     "metadata": {},
     "output_type": "execute_result"
    }
   ],
   "source": [
    "# Create another array of ones of shape (5, 3)\n",
    "another_ones = np.ones(shape=(5,3))\n",
    "another_ones"
   ]
  },
  {
   "cell_type": "code",
   "execution_count": 55,
   "metadata": {},
   "outputs": [],
   "source": [
    "# Try add the array of ones and the other most recent array together\n",
    "# doesnt' work!"
   ]
  },
  {
   "cell_type": "markdown",
   "metadata": {},
   "source": [
    "When you try the last cell, it produces an error. Why do think this is?\n",
    "\n",
    "How would you fix it?"
   ]
  },
  {
   "cell_type": "code",
   "execution_count": 58,
   "metadata": {},
   "outputs": [
    {
     "data": {
      "text/plain": [
       "array([[ 7.,  8.,  5.],\n",
       "       [ 7.,  6.,  3.],\n",
       "       [ 8.,  3.,  1.],\n",
       "       [ 5.,  1.,  5.],\n",
       "       [ 3.,  3., 10.]])"
      ]
     },
     "execution_count": 58,
     "metadata": {},
     "output_type": "execute_result"
    }
   ],
   "source": [
    "rand_arr3_t = rand_arr3.T\n",
    "another_sum = another_ones + rand_arr3_t\n",
    "another_sum"
   ]
  },
  {
   "cell_type": "code",
   "execution_count": 59,
   "metadata": {},
   "outputs": [],
   "source": [
    "# Create another array of ones of shape (3, 5)\n",
    "more_ones = np.ones(shape=(3,5))"
   ]
  },
  {
   "cell_type": "code",
   "execution_count": 60,
   "metadata": {},
   "outputs": [
    {
     "data": {
      "text/plain": [
       "array([[ 5.,  5.,  6.,  3.,  1.],\n",
       "       [ 6.,  4.,  1., -1.,  1.],\n",
       "       [ 3.,  1., -1.,  3.,  8.]])"
      ]
     },
     "execution_count": 60,
     "metadata": {},
     "output_type": "execute_result"
    }
   ],
   "source": [
    "# Subtract the new array of ones from the other most recent array\n",
    "rand_arr3 - more_ones"
   ]
  },
  {
   "cell_type": "code",
   "execution_count": 61,
   "metadata": {},
   "outputs": [
    {
     "data": {
      "text/plain": [
       "array([[6., 6., 7., 4., 2.],\n",
       "       [7., 5., 2., 0., 2.],\n",
       "       [4., 2., 0., 4., 9.]])"
      ]
     },
     "execution_count": 61,
     "metadata": {},
     "output_type": "execute_result"
    }
   ],
   "source": [
    "# Multiply the ones array with the latest array\n",
    "rand_arr3 * more_ones"
   ]
  },
  {
   "cell_type": "code",
   "execution_count": 62,
   "metadata": {},
   "outputs": [
    {
     "data": {
      "text/plain": [
       "array([[6., 6., 7., 4., 2.],\n",
       "       [7., 5., 2., 0., 2.],\n",
       "       [4., 2., 0., 4., 9.]])"
      ]
     },
     "execution_count": 62,
     "metadata": {},
     "output_type": "execute_result"
    }
   ],
   "source": [
    "# Take the latest array to the power of 2 using '**'\n",
    "rand_arr3 ** more_ones"
   ]
  },
  {
   "cell_type": "code",
   "execution_count": 63,
   "metadata": {},
   "outputs": [
    {
     "data": {
      "text/plain": [
       "array([[36, 36, 49, 16,  4],\n",
       "       [49, 25,  4,  0,  4],\n",
       "       [16,  4,  0, 16, 81]])"
      ]
     },
     "execution_count": 63,
     "metadata": {},
     "output_type": "execute_result"
    }
   ],
   "source": [
    "# Do the same thing with np.square()\n",
    "np.square(rand_arr3)"
   ]
  },
  {
   "cell_type": "code",
   "execution_count": 65,
   "metadata": {},
   "outputs": [
    {
     "data": {
      "text/plain": [
       "4.0"
      ]
     },
     "execution_count": 65,
     "metadata": {},
     "output_type": "execute_result"
    }
   ],
   "source": [
    "# Find the mean of the latest array using np.mean()\n",
    "np.mean(rand_arr3)"
   ]
  },
  {
   "cell_type": "code",
   "execution_count": 66,
   "metadata": {},
   "outputs": [
    {
     "data": {
      "text/plain": [
       "9"
      ]
     },
     "execution_count": 66,
     "metadata": {},
     "output_type": "execute_result"
    }
   ],
   "source": [
    "# Find the maximum of the latest array using np.max()\n",
    "np.max(rand_arr3)"
   ]
  },
  {
   "cell_type": "code",
   "execution_count": 67,
   "metadata": {},
   "outputs": [
    {
     "data": {
      "text/plain": [
       "0"
      ]
     },
     "execution_count": 67,
     "metadata": {},
     "output_type": "execute_result"
    }
   ],
   "source": [
    "# Find the minimum of the latest array using np.min()\n",
    "np.min(rand_arr3)"
   ]
  },
  {
   "cell_type": "code",
   "execution_count": 68,
   "metadata": {},
   "outputs": [
    {
     "data": {
      "text/plain": [
       "2.581988897471611"
      ]
     },
     "execution_count": 68,
     "metadata": {},
     "output_type": "execute_result"
    }
   ],
   "source": [
    "# Find the standard deviation of the latest array\n",
    "np.std(rand_arr3)"
   ]
  },
  {
   "cell_type": "code",
   "execution_count": 69,
   "metadata": {},
   "outputs": [
    {
     "data": {
      "text/plain": [
       "6.666666666666667"
      ]
     },
     "execution_count": 69,
     "metadata": {},
     "output_type": "execute_result"
    }
   ],
   "source": [
    "# Find the variance of the latest array\n",
    "np.var(rand_arr3)"
   ]
  },
  {
   "cell_type": "code",
   "execution_count": 72,
   "metadata": {},
   "outputs": [
    {
     "data": {
      "text/plain": [
       "array([[[6],\n",
       "        [6],\n",
       "        [7],\n",
       "        [4],\n",
       "        [2]],\n",
       "\n",
       "       [[7],\n",
       "        [5],\n",
       "        [2],\n",
       "        [0],\n",
       "        [2]],\n",
       "\n",
       "       [[4],\n",
       "        [2],\n",
       "        [0],\n",
       "        [4],\n",
       "        [9]]])"
      ]
     },
     "execution_count": 72,
     "metadata": {},
     "output_type": "execute_result"
    }
   ],
   "source": [
    "# Reshape the latest array to (3, 5, 1)\n",
    "rand_arr3.reshape(3,5,1)"
   ]
  },
  {
   "cell_type": "code",
   "execution_count": 73,
   "metadata": {},
   "outputs": [
    {
     "data": {
      "text/plain": [
       "array([[6, 7, 4],\n",
       "       [6, 5, 2],\n",
       "       [7, 2, 0],\n",
       "       [4, 0, 4],\n",
       "       [2, 2, 9]])"
      ]
     },
     "execution_count": 73,
     "metadata": {},
     "output_type": "execute_result"
    }
   ],
   "source": [
    "# Transpose the latest array\n",
    "rand_arr3.T"
   ]
  },
  {
   "cell_type": "markdown",
   "metadata": {},
   "source": [
    "What does the transpose do?\n",
    "* it \"flips\" the axis' of the ndarray"
   ]
  },
  {
   "cell_type": "code",
   "execution_count": 75,
   "metadata": {},
   "outputs": [],
   "source": [
    "# Create two arrays of random integers between 0 to 10\n",
    "# one of size (3, 3) the other of size (3, 2)\n",
    "yaa1 = np.random.randint(10, size=(3,3))\n",
    "yaa2 = np.random.randint(10, size=(3,2))"
   ]
  },
  {
   "cell_type": "code",
   "execution_count": 76,
   "metadata": {},
   "outputs": [
    {
     "data": {
      "text/plain": [
       "array([[2, 5, 1],\n",
       "       [9, 8, 4],\n",
       "       [5, 3, 9]])"
      ]
     },
     "execution_count": 76,
     "metadata": {},
     "output_type": "execute_result"
    }
   ],
   "source": [
    "yaa1"
   ]
  },
  {
   "cell_type": "code",
   "execution_count": 77,
   "metadata": {},
   "outputs": [
    {
     "data": {
      "text/plain": [
       "array([[6, 8],\n",
       "       [6, 0],\n",
       "       [0, 8]])"
      ]
     },
     "execution_count": 77,
     "metadata": {},
     "output_type": "execute_result"
    }
   ],
   "source": [
    "yaa2"
   ]
  },
  {
   "cell_type": "code",
   "execution_count": 78,
   "metadata": {},
   "outputs": [
    {
     "data": {
      "text/plain": [
       "array([[ 42,  24],\n",
       "       [102, 104],\n",
       "       [ 48, 112]])"
      ]
     },
     "execution_count": 78,
     "metadata": {},
     "output_type": "execute_result"
    }
   ],
   "source": [
    "# Perform a dot product on the two newest arrays you created\n",
    "np.dot(yaa1, yaa2)"
   ]
  },
  {
   "cell_type": "code",
   "execution_count": 80,
   "metadata": {},
   "outputs": [],
   "source": [
    "# Create two arrays of random integers between 0 to 10\n",
    "# both of size (4, 3)\n",
    "yaa3 = np.random.randint(10, size=(4,3))\n",
    "yaa4 = np.random.randint(10, size=(4,3))"
   ]
  },
  {
   "cell_type": "code",
   "execution_count": 81,
   "metadata": {},
   "outputs": [],
   "source": [
    "# Perform a dot product on the two newest arrays you created\n",
    "# doesn't work"
   ]
  },
  {
   "cell_type": "markdown",
   "metadata": {},
   "source": [
    "It doesn't work. How would you fix it?"
   ]
  },
  {
   "cell_type": "code",
   "execution_count": 82,
   "metadata": {},
   "outputs": [
    {
     "data": {
      "text/plain": [
       "array([[ 72, 109,  77],\n",
       "       [ 81, 107,  49],\n",
       "       [150, 100,  86]])"
      ]
     },
     "execution_count": 82,
     "metadata": {},
     "output_type": "execute_result"
    }
   ],
   "source": [
    "# Take the latest two arrays, perform a transpose on one of them and then perform \n",
    "# a dot product on them both\n",
    "np.dot(yaa3.T, yaa4)"
   ]
  },
  {
   "cell_type": "markdown",
   "metadata": {},
   "source": [
    "Notice how performing a transpose allows the dot product to happen.\n",
    "\n",
    "Why is this?\n",
    "\n",
    "Checking out the documentation on [`np.dot()`](https://docs.scipy.org/doc/numpy/reference/generated/numpy.dot.html) may help, as well as reading [Math is Fun's guide on the dot product](https://www.mathsisfun.com/algebra/vectors-dot-product.html).\n",
    "\n",
    "Let's now compare arrays."
   ]
  },
  {
   "cell_type": "code",
   "execution_count": 83,
   "metadata": {},
   "outputs": [],
   "source": [
    "# Create two arrays of random integers between 0 & 10 of the same shape\n",
    "# and save them to variables\n",
    "yaa5 = np.random.randint(10, size=(5,6,3))\n",
    "yaa6 = np.random.randint(10, size=(5,6,3))"
   ]
  },
  {
   "cell_type": "code",
   "execution_count": 84,
   "metadata": {},
   "outputs": [
    {
     "data": {
      "text/plain": [
       "array([[[False, False, False],\n",
       "        [False, False, False],\n",
       "        [False,  True,  True],\n",
       "        [ True, False, False],\n",
       "        [False, False,  True],\n",
       "        [ True,  True, False]],\n",
       "\n",
       "       [[False, False,  True],\n",
       "        [ True, False, False],\n",
       "        [False,  True, False],\n",
       "        [ True,  True,  True],\n",
       "        [False,  True,  True],\n",
       "        [ True,  True, False]],\n",
       "\n",
       "       [[False,  True, False],\n",
       "        [False, False,  True],\n",
       "        [False,  True, False],\n",
       "        [ True,  True, False],\n",
       "        [ True, False,  True],\n",
       "        [False, False,  True]],\n",
       "\n",
       "       [[False, False, False],\n",
       "        [ True,  True, False],\n",
       "        [False, False, False],\n",
       "        [ True, False,  True],\n",
       "        [ True,  True, False],\n",
       "        [False, False, False]],\n",
       "\n",
       "       [[ True, False,  True],\n",
       "        [False, False, False],\n",
       "        [False,  True, False],\n",
       "        [ True,  True,  True],\n",
       "        [False,  True, False],\n",
       "        [ True, False, False]]])"
      ]
     },
     "execution_count": 84,
     "metadata": {},
     "output_type": "execute_result"
    }
   ],
   "source": [
    "# Compare the two arrays with '>'\n",
    "yaa5 > yaa6"
   ]
  },
  {
   "cell_type": "markdown",
   "metadata": {},
   "source": [
    "What happens when you compare the arrays with `>`?\n",
    "* it shows the result of the operator comparison element-wise"
   ]
  },
  {
   "cell_type": "code",
   "execution_count": 85,
   "metadata": {},
   "outputs": [
    {
     "data": {
      "text/plain": [
       "array([[[False, False, False],\n",
       "        [False, False,  True],\n",
       "        [False,  True,  True],\n",
       "        [ True, False, False],\n",
       "        [False,  True,  True],\n",
       "        [ True,  True,  True]],\n",
       "\n",
       "       [[ True, False,  True],\n",
       "        [ True, False,  True],\n",
       "        [ True,  True, False],\n",
       "        [ True,  True,  True],\n",
       "        [False,  True,  True],\n",
       "        [ True,  True, False]],\n",
       "\n",
       "       [[False,  True, False],\n",
       "        [False, False,  True],\n",
       "        [False,  True,  True],\n",
       "        [ True,  True, False],\n",
       "        [ True, False,  True],\n",
       "        [ True, False,  True]],\n",
       "\n",
       "       [[ True,  True, False],\n",
       "        [ True,  True, False],\n",
       "        [False,  True, False],\n",
       "        [ True, False,  True],\n",
       "        [ True,  True, False],\n",
       "        [False, False, False]],\n",
       "\n",
       "       [[ True, False,  True],\n",
       "        [False, False, False],\n",
       "        [False,  True, False],\n",
       "        [ True,  True,  True],\n",
       "        [False,  True, False],\n",
       "        [ True,  True, False]]])"
      ]
     },
     "execution_count": 85,
     "metadata": {},
     "output_type": "execute_result"
    }
   ],
   "source": [
    "# Compare the two arrays with '>='\n",
    "yaa5 >= yaa6"
   ]
  },
  {
   "cell_type": "code",
   "execution_count": 86,
   "metadata": {},
   "outputs": [
    {
     "data": {
      "text/plain": [
       "array([[[False, False, False],\n",
       "        [False, False, False],\n",
       "        [False, False, False],\n",
       "        [False, False, False],\n",
       "        [False, False, False],\n",
       "        [False,  True, False]],\n",
       "\n",
       "       [[False, False, False],\n",
       "        [False, False, False],\n",
       "        [False, False, False],\n",
       "        [False, False, False],\n",
       "        [False,  True, False],\n",
       "        [False, False, False]],\n",
       "\n",
       "       [[False,  True, False],\n",
       "        [False, False, False],\n",
       "        [False,  True, False],\n",
       "        [False, False, False],\n",
       "        [False, False,  True],\n",
       "        [ True, False, False]],\n",
       "\n",
       "       [[ True, False, False],\n",
       "        [ True,  True, False],\n",
       "        [False, False, False],\n",
       "        [False, False, False],\n",
       "        [ True,  True, False],\n",
       "        [False, False, False]],\n",
       "\n",
       "       [[False, False, False],\n",
       "        [False, False, False],\n",
       "        [False, False, False],\n",
       "        [False, False, False],\n",
       "        [False,  True, False],\n",
       "        [ True, False, False]]])"
      ]
     },
     "execution_count": 86,
     "metadata": {},
     "output_type": "execute_result"
    }
   ],
   "source": [
    "# Find which elements of the first array are greater than 7\n",
    "yaa5 > 7"
   ]
  },
  {
   "cell_type": "code",
   "execution_count": 87,
   "metadata": {},
   "outputs": [
    {
     "data": {
      "text/plain": [
       "array([[[False, False, False],\n",
       "        [False, False,  True],\n",
       "        [False, False, False],\n",
       "        [False, False, False],\n",
       "        [False,  True, False],\n",
       "        [False, False,  True]],\n",
       "\n",
       "       [[ True, False, False],\n",
       "        [False, False,  True],\n",
       "        [ True, False, False],\n",
       "        [False, False, False],\n",
       "        [False, False, False],\n",
       "        [False, False, False]],\n",
       "\n",
       "       [[False, False, False],\n",
       "        [False, False, False],\n",
       "        [False, False,  True],\n",
       "        [False, False, False],\n",
       "        [False, False, False],\n",
       "        [ True, False, False]],\n",
       "\n",
       "       [[ True,  True, False],\n",
       "        [False, False, False],\n",
       "        [False,  True, False],\n",
       "        [False, False, False],\n",
       "        [False, False, False],\n",
       "        [False, False, False]],\n",
       "\n",
       "       [[False, False, False],\n",
       "        [False, False, False],\n",
       "        [False, False, False],\n",
       "        [False, False, False],\n",
       "        [False, False, False],\n",
       "        [False,  True, False]]])"
      ]
     },
     "execution_count": 87,
     "metadata": {},
     "output_type": "execute_result"
    }
   ],
   "source": [
    "# Which parts of each array are equal? (try using '==')\n",
    "yaa5 == yaa6"
   ]
  },
  {
   "cell_type": "code",
   "execution_count": 88,
   "metadata": {},
   "outputs": [
    {
     "data": {
      "text/plain": [
       "array([[[0, 4, 0],\n",
       "        [7, 0, 0],\n",
       "        [1, 1, 5],\n",
       "        [6, 4, 0],\n",
       "        [0, 2, 1],\n",
       "        [4, 9, 5]],\n",
       "\n",
       "       [[6, 3, 6],\n",
       "        [7, 0, 5],\n",
       "        [7, 4, 3],\n",
       "        [1, 5, 5],\n",
       "        [0, 8, 5],\n",
       "        [2, 3, 3]],\n",
       "\n",
       "       [[2, 9, 2],\n",
       "        [2, 3, 6],\n",
       "        [3, 8, 0],\n",
       "        [7, 6, 1],\n",
       "        [7, 0, 8],\n",
       "        [8, 1, 6]],\n",
       "\n",
       "       [[9, 2, 6],\n",
       "        [9, 8, 3],\n",
       "        [0, 1, 0],\n",
       "        [4, 4, 6],\n",
       "        [8, 8, 2],\n",
       "        [2, 2, 3]],\n",
       "\n",
       "       [[7, 5, 7],\n",
       "        [0, 7, 3],\n",
       "        [0, 7, 3],\n",
       "        [5, 7, 3],\n",
       "        [2, 8, 2],\n",
       "        [8, 1, 1]]])"
      ]
     },
     "execution_count": 88,
     "metadata": {},
     "output_type": "execute_result"
    }
   ],
   "source": [
    "# Sort one of the arrays you just created in ascending order\n",
    "yaa5"
   ]
  },
  {
   "cell_type": "code",
   "execution_count": 89,
   "metadata": {},
   "outputs": [
    {
     "data": {
      "text/plain": [
       "array([[[0, 0, 4],\n",
       "        [0, 0, 7],\n",
       "        [1, 1, 5],\n",
       "        [0, 4, 6],\n",
       "        [0, 1, 2],\n",
       "        [4, 5, 9]],\n",
       "\n",
       "       [[3, 6, 6],\n",
       "        [0, 5, 7],\n",
       "        [3, 4, 7],\n",
       "        [1, 5, 5],\n",
       "        [0, 5, 8],\n",
       "        [2, 3, 3]],\n",
       "\n",
       "       [[2, 2, 9],\n",
       "        [2, 3, 6],\n",
       "        [0, 3, 8],\n",
       "        [1, 6, 7],\n",
       "        [0, 7, 8],\n",
       "        [1, 6, 8]],\n",
       "\n",
       "       [[2, 6, 9],\n",
       "        [3, 8, 9],\n",
       "        [0, 0, 1],\n",
       "        [4, 4, 6],\n",
       "        [2, 8, 8],\n",
       "        [2, 2, 3]],\n",
       "\n",
       "       [[5, 7, 7],\n",
       "        [0, 3, 7],\n",
       "        [0, 3, 7],\n",
       "        [3, 5, 7],\n",
       "        [2, 2, 8],\n",
       "        [1, 1, 8]]])"
      ]
     },
     "execution_count": 89,
     "metadata": {},
     "output_type": "execute_result"
    }
   ],
   "source": [
    "np.sort(yaa5)"
   ]
  },
  {
   "cell_type": "code",
   "execution_count": 90,
   "metadata": {},
   "outputs": [
    {
     "data": {
      "text/plain": [
       "array([[[0, 2, 1],\n",
       "        [1, 2, 0],\n",
       "        [0, 1, 2],\n",
       "        [2, 1, 0],\n",
       "        [0, 2, 1],\n",
       "        [0, 2, 1]],\n",
       "\n",
       "       [[1, 0, 2],\n",
       "        [1, 2, 0],\n",
       "        [2, 1, 0],\n",
       "        [0, 1, 2],\n",
       "        [0, 2, 1],\n",
       "        [0, 1, 2]],\n",
       "\n",
       "       [[0, 2, 1],\n",
       "        [0, 1, 2],\n",
       "        [2, 0, 1],\n",
       "        [2, 1, 0],\n",
       "        [1, 0, 2],\n",
       "        [1, 2, 0]],\n",
       "\n",
       "       [[1, 2, 0],\n",
       "        [2, 1, 0],\n",
       "        [0, 2, 1],\n",
       "        [0, 1, 2],\n",
       "        [2, 0, 1],\n",
       "        [0, 1, 2]],\n",
       "\n",
       "       [[1, 0, 2],\n",
       "        [0, 2, 1],\n",
       "        [0, 2, 1],\n",
       "        [2, 0, 1],\n",
       "        [0, 2, 1],\n",
       "        [1, 2, 0]]])"
      ]
     },
     "execution_count": 90,
     "metadata": {},
     "output_type": "execute_result"
    }
   ],
   "source": [
    "# Sort the indexes of one of the arrays you just created\n",
    "np.argsort(yaa5)"
   ]
  },
  {
   "cell_type": "code",
   "execution_count": 91,
   "metadata": {},
   "outputs": [
    {
     "data": {
      "text/plain": [
       "52"
      ]
     },
     "execution_count": 91,
     "metadata": {},
     "output_type": "execute_result"
    }
   ],
   "source": [
    "# Find the index with the maximum value in one of the arrays you've created\n",
    "np.argmax(yaa6)"
   ]
  },
  {
   "cell_type": "code",
   "execution_count": 92,
   "metadata": {},
   "outputs": [
    {
     "data": {
      "text/plain": [
       "5"
      ]
     },
     "execution_count": 92,
     "metadata": {},
     "output_type": "execute_result"
    }
   ],
   "source": [
    "# Find the index with the minimum value in one of the arrays you've created\n",
    "np.argmin(yaa6)"
   ]
  },
  {
   "cell_type": "code",
   "execution_count": 100,
   "metadata": {},
   "outputs": [
    {
     "data": {
      "text/plain": [
       "array([[3, 4, 2],\n",
       "       [0, 4, 4],\n",
       "       [4, 4, 3],\n",
       "       [0, 3, 0],\n",
       "       [3, 1, 3],\n",
       "       [2, 2, 3]])"
      ]
     },
     "execution_count": 100,
     "metadata": {},
     "output_type": "execute_result"
    }
   ],
   "source": [
    "# Find the indexes with the maximum values down the verticial axis\n",
    "# of one of the arrays you created\n",
    "yaa6.argmax(0)"
   ]
  },
  {
   "cell_type": "code",
   "execution_count": 101,
   "metadata": {},
   "outputs": [
    {
     "data": {
      "text/plain": [
       "array([[5, 2, 1],\n",
       "       [3, 3, 4],\n",
       "       [4, 0, 1],\n",
       "       [3, 4, 3],\n",
       "       [1, 5, 3]])"
      ]
     },
     "execution_count": 101,
     "metadata": {},
     "output_type": "execute_result"
    }
   ],
   "source": [
    "# Find the indexes with the minimum values across the horizontal axis\n",
    "# of one of the arrays you created\n",
    "yaa6.argmin(1)"
   ]
  },
  {
   "cell_type": "code",
   "execution_count": 104,
   "metadata": {},
   "outputs": [
    {
     "data": {
      "text/plain": [
       "array([250.14983372, 250.14090737, 250.35441959, 248.11968741,\n",
       "       250.966392  , 249.48905553, 251.21039863, 249.84876403,\n",
       "       249.62547844, 248.70878389, 249.23449063, 250.42231376,\n",
       "       248.6920857 , 248.00940045, 249.14245111, 250.84000538,\n",
       "       251.78129108, 249.32258433, 248.45117132, 249.65687094,\n",
       "       250.18385551, 250.57789714, 252.13464125, 250.22684882,\n",
       "       251.65546163, 249.53707458, 250.08656581, 249.40711727,\n",
       "       249.31999567, 249.73659416, 249.71934512, 249.39602408,\n",
       "       249.45074709, 251.09679625, 252.11311216, 249.50159338,\n",
       "       249.67560455, 250.524609  , 253.18703334, 250.08416352,\n",
       "       250.97263287, 251.54447484, 250.34406813, 250.92623254,\n",
       "       250.60783854, 251.03251279, 248.96559764, 250.20428294,\n",
       "       250.48121773, 250.46705717, 251.13701742, 250.44689014,\n",
       "       248.85505148, 250.59131612, 249.11692134, 249.30062195,\n",
       "       249.58149112, 249.88858122, 248.4562746 , 251.11689344,\n",
       "       248.84448409, 251.57011062, 248.87504826, 251.28192038,\n",
       "       249.97157854, 248.28357555, 248.95703861, 251.32647167,\n",
       "       250.44864867, 249.92126832, 247.78323895, 251.38956634,\n",
       "       251.8704239 , 251.68801703, 249.38475478, 250.38279947,\n",
       "       250.49214103, 248.47254737, 250.18049251, 251.07104152,\n",
       "       250.76447824, 248.88883619, 249.13738488, 250.79059399,\n",
       "       250.63285244, 247.74584132, 247.54340685, 249.92346794,\n",
       "       249.41034714, 249.70169878, 249.58870941, 250.98402354,\n",
       "       250.10356808, 250.26763601, 248.65768717, 246.63590447,\n",
       "       251.12354178, 252.14320519, 249.65741113, 250.24931454,\n",
       "       250.32451832, 251.67529325, 250.88898429, 250.49606423,\n",
       "       250.05557216, 250.06023292, 248.5605384 , 249.61651247,\n",
       "       250.88620197, 249.76629682, 250.04435056])"
      ]
     },
     "execution_count": 104,
     "metadata": {},
     "output_type": "execute_result"
    }
   ],
   "source": [
    "# Create an array of normally distributed random numbers\n",
    "np.random.normal(250, 1, 111)"
   ]
  },
  {
   "cell_type": "code",
   "execution_count": 107,
   "metadata": {},
   "outputs": [
    {
     "data": {
      "text/plain": [
       "array([ 0, 10, 20, 30, 40, 50, 60, 70, 80, 90])"
      ]
     },
     "execution_count": 107,
     "metadata": {},
     "output_type": "execute_result"
    }
   ],
   "source": [
    "# Create an array with 10 evenly spaced numbers between 1 and 100\n",
    "np.arange(0,100,10)"
   ]
  },
  {
   "cell_type": "markdown",
   "metadata": {},
   "source": [
    "## Extensions\n",
    "\n",
    "For more exercises, check out the [NumPy quickstart tutorial](https://docs.scipy.org/doc/numpy-1.15.0/user/quickstart.html). A good practice would be to read through it and for the parts you find interesting, add them into the end of this notebook.\n",
    "\n",
    "Pay particular attention to the section on broadcasting. And most importantly, get hands-on with the code as much as possible. If in dobut, run the code, see what it does.\n",
    "\n",
    "The next place you could go is the [Stack Overflow page for the top questions and answers for NumPy](https://stackoverflow.com/questions/tagged/numpy?sort=MostVotes&edited=true). Often, you'll find some of the most common and useful NumPy functions here. Don't forget to play around with the filters! You'll likely find something helpful here.\n",
    "\n",
    "Finally, as always, remember, the best way to learn something new is to try it. And try it relentlessly. If you get interested in some kind of NumPy function, asking yourself, \"I wonder if NumPy could do that?\", go and find out."
   ]
  }
 ],
 "metadata": {
  "kernelspec": {
   "display_name": "Python 3",
   "language": "python",
   "name": "python3"
  },
  "language_info": {
   "codemirror_mode": {
    "name": "ipython",
    "version": 3
   },
   "file_extension": ".py",
   "mimetype": "text/x-python",
   "name": "python",
   "nbconvert_exporter": "python",
   "pygments_lexer": "ipython3",
   "version": "3.8.1"
  }
 },
 "nbformat": 4,
 "nbformat_minor": 4
}
